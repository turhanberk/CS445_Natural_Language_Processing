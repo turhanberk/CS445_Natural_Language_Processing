{
  "nbformat": 4,
  "nbformat_minor": 0,
  "metadata": {
    "colab": {
      "name": "Project 1 Notebook Berk Turhan 25324.ipynb",
      "provenance": [],
      "collapsed_sections": [],
      "include_colab_link": true
    },
    "kernelspec": {
      "name": "python3",
      "display_name": "Python 3"
    },
    "language_info": {
      "name": "python"
    },
    "accelerator": "GPU"
  },
  "cells": [
    {
      "cell_type": "markdown",
      "metadata": {
        "id": "view-in-github",
        "colab_type": "text"
      },
      "source": [
        "<a href=\"https://colab.research.google.com/github/turhanberk/CS445_Natural_Language_Processing/blob/master/Project_1_Notebook_Berk_Turhan_25324.ipynb\" target=\"_parent\"><img src=\"https://colab.research.google.com/assets/colab-badge.svg\" alt=\"Open In Colab\"/></a>"
      ]
    },
    {
      "cell_type": "code",
      "source": [
        "# Run this cell to mount your drive to this notebook in order to read the datasets\n",
        "from google.colab import drive\n",
        "drive.mount('/content/drive')"
      ],
      "metadata": {
        "id": "PXQ2rNxf41HE",
        "colab": {
          "base_uri": "https://localhost:8080/"
        },
        "outputId": "031fff6a-85d6-46fd-9cbe-79a68e7af640"
      },
      "execution_count": null,
      "outputs": [
        {
          "output_type": "stream",
          "name": "stdout",
          "text": [
            "Mounted at /content/drive\n"
          ]
        }
      ]
    },
    {
      "cell_type": "code",
      "execution_count": null,
      "metadata": {
        "id": "9poIxsgG4uzb"
      },
      "outputs": [],
      "source": [
        "import pandas as pd\n",
        "import numpy as np\n",
        "import matplotlib.pyplot as plt\n",
        "%matplotlib inline\n",
        "import seaborn as sns\n",
        "\n",
        "import warnings\n",
        "warnings.filterwarnings(\"ignore\")"
      ]
    },
    {
      "cell_type": "markdown",
      "source": [
        "## Data Creation and Exploration"
      ],
      "metadata": {
        "id": "7A1FhX7R9_GM"
      }
    },
    {
      "cell_type": "markdown",
      "source": [
        "### Read Dataset"
      ],
      "metadata": {
        "id": "BWmM1YP7PD_J"
      }
    },
    {
      "cell_type": "code",
      "source": [
        "# Put the folder path where the datasets are located\n",
        "PATH = \"/content/drive/MyDrive/445_project1/\""
      ],
      "metadata": {
        "id": "cZ35nOeR43ys"
      },
      "execution_count": null,
      "outputs": []
    },
    {
      "cell_type": "code",
      "source": [
        "# Read the train and test set with read_csv() method of pandas\n",
        "train = pd.read_csv(PATH + \"train.csv\")\n",
        "test = pd.read_csv(PATH + \"test.csv\")"
      ],
      "metadata": {
        "id": "x8buYRli5SjM"
      },
      "execution_count": null,
      "outputs": []
    },
    {
      "cell_type": "markdown",
      "source": [
        "### Preprocess Dataset"
      ],
      "metadata": {
        "id": "csBleyqDPJM2"
      }
    },
    {
      "cell_type": "code",
      "source": [
        "import re\n",
        "import nltk\n",
        "nltk.download('stopwords')\n",
        "nltk.download('wordnet')\n",
        "nltk.download('punkt')\n",
        "from nltk.corpus import stopwords\n",
        "from nltk.stem import PorterStemmer\n",
        "from nltk.probability import FreqDist"
      ],
      "metadata": {
        "id": "hCgu4nbNubw4",
        "colab": {
          "base_uri": "https://localhost:8080/"
        },
        "outputId": "fa174b5d-d541-4fa3-f0ea-8ca08e37f948"
      },
      "execution_count": null,
      "outputs": [
        {
          "output_type": "stream",
          "name": "stdout",
          "text": [
            "[nltk_data] Downloading package stopwords to /root/nltk_data...\n",
            "[nltk_data]   Unzipping corpora/stopwords.zip.\n",
            "[nltk_data] Downloading package wordnet to /root/nltk_data...\n",
            "[nltk_data]   Unzipping corpora/wordnet.zip.\n",
            "[nltk_data] Downloading package punkt to /root/nltk_data...\n",
            "[nltk_data]   Unzipping tokenizers/punkt.zip.\n"
          ]
        }
      ]
    },
    {
      "cell_type": "code",
      "source": [
        "stopWords = { i : 0 for i in stopwords.words('english')} #stopwords as dictionary (faster hashing)"
      ],
      "metadata": {
        "id": "P2IYK5gL1dYi"
      },
      "execution_count": null,
      "outputs": []
    },
    {
      "cell_type": "markdown",
      "source": [
        "**Different preprocessing algorithms to check which one will yield to better accuracy and f1-macro scores**\n",
        "\n",
        "*preprocess1 were chosen after evaluating their performances in our models*"
      ],
      "metadata": {
        "id": "0R0jSuOL0CXZ"
      }
    },
    {
      "cell_type": "code",
      "source": [
        "# Define a function to perform preprocessing. This function can perform things like lowercasing, stemming, removing stopwords, etc.\n",
        "\n",
        "def preprocess1(text: str): # preprocessing with lowercasing, stemming and punctuation removal\n",
        "    lowerText = text.lower() #lowercasing the text\n",
        "    tokenized = nltk.word_tokenize(lowerText) # lowered text is tokenized\n",
        "    stemmer = PorterStemmer() # creating stemmer\n",
        "    result = \"\" # creating the resulting text\n",
        "    for token in tokenized: # iterating over each token\n",
        "      if token.isalnum(): #check if token is alphanumerical\n",
        "        result+= stemmer.stem(token) + \" \"  # combining with the result string\n",
        "    return result.strip() # returning result string by stripping any possible whitespace"
      ],
      "metadata": {
        "id": "FzwHCYuE_IzX"
      },
      "execution_count": null,
      "outputs": []
    },
    {
      "cell_type": "code",
      "source": [
        "def preprocess2(text: str): # preprocessing with lowercasing, lemmatizing and stopword/punctuation removal\n",
        "    lowerText = text.lower() #lowercasing the text\n",
        "    tokenized = nltk.word_tokenize(lowerText) # lowered text is tokenized\n",
        "    lemma = nltk.wordnet.WordNetLemmatizer() # creating lemmatizer (we can also use stemmer)\n",
        "    result = \"\" #creating the resulting text\n",
        "    for token in tokenized: #iterating over each token\n",
        "      if token.isalnum() and token not in stopWords: #check if token is alphanumerical and not a stopword \n",
        "        result+= lemma.lemmatize(token) + \" \" # combining with the result string\n",
        "    return result.strip() # returning result string by stripping any possible whitespace"
      ],
      "metadata": {
        "id": "OSiAj6atwZzi"
      },
      "execution_count": null,
      "outputs": []
    },
    {
      "cell_type": "code",
      "source": [
        "def preprocess3(text:str): # preprocessing with lowercasing, and with removing punctuations and stopwords\n",
        "    lowerText = text.lower() #lowercasing the text\n",
        "    tokenized = nltk.word_tokenize(lowerText) # lowered text is tokenized\n",
        "    result = \"\" #creating the resulting text\n",
        "    for token in tokenized:\n",
        "      if token.isalnum() and token not in stopWords: #stopword and punctuation removing\n",
        "        result+= token + \" \"  # combining with the result string\n",
        "    return result.strip() # returning result string by stripping any possible whitespace"
      ],
      "metadata": {
        "id": "5kzzc1hlua9h"
      },
      "execution_count": null,
      "outputs": []
    },
    {
      "cell_type": "code",
      "source": [
        "# Apply your preprocessing function to your text fields.\n",
        "train.drop(\"Unnamed: 0\", axis=1,inplace=True) #removing the unnecessary column coming from the train dataset\n",
        "test.drop(\"Unnamed: 0\", axis=1,inplace=True) #removing the unnecessary column coming from the test dataset\n",
        "\n",
        "train_original = train.copy(deep=True) # storing non-processed data to try\n",
        "test_original = test.copy(deep=True)  # different preprocessing methods\n",
        "\n",
        "train.text = train.text.apply(preprocess1) # preprocessing for train data\n",
        "\n",
        "test.text = test.text.apply(preprocess1) # preprocessing for test data\n",
        "\n",
        "train.shape, test.shape #checking their shapes"
      ],
      "metadata": {
        "id": "saAhAw_vyu9T",
        "colab": {
          "base_uri": "https://localhost:8080/"
        },
        "outputId": "f8cd04d7-ecda-46b7-9f20-9e86d91efdb3"
      },
      "execution_count": null,
      "outputs": [
        {
          "output_type": "execute_result",
          "data": {
            "text/plain": [
              "((18000, 2), (2000, 2))"
            ]
          },
          "metadata": {},
          "execution_count": 10
        }
      ]
    },
    {
      "cell_type": "code",
      "source": [
        "train.head(5) # train data after preprocessing"
      ],
      "metadata": {
        "id": "dgglbSugzNVx",
        "colab": {
          "base_uri": "https://localhost:8080/",
          "height": 204
        },
        "outputId": "8e0ca419-bf9a-403f-e1df-a6284c74870d"
      },
      "execution_count": null,
      "outputs": [
        {
          "output_type": "execute_result",
          "data": {
            "text/plain": [
              "                                                text  label\n",
              "0  i came here and left a review befor but last t...      1\n",
              "1  had a veri nice first visit here the owner ted...      4\n",
              "2  thi is a gorgeou and veri clean hotel we had a...      4\n",
              "3  the gym is dirti i have given up locker room i...      1\n",
              "4  the food here is delici fast and consist everi...      5"
            ],
            "text/html": [
              "\n",
              "  <div id=\"df-5ac63a99-036e-4b59-bd9a-38102c5a5560\">\n",
              "    <div class=\"colab-df-container\">\n",
              "      <div>\n",
              "<style scoped>\n",
              "    .dataframe tbody tr th:only-of-type {\n",
              "        vertical-align: middle;\n",
              "    }\n",
              "\n",
              "    .dataframe tbody tr th {\n",
              "        vertical-align: top;\n",
              "    }\n",
              "\n",
              "    .dataframe thead th {\n",
              "        text-align: right;\n",
              "    }\n",
              "</style>\n",
              "<table border=\"1\" class=\"dataframe\">\n",
              "  <thead>\n",
              "    <tr style=\"text-align: right;\">\n",
              "      <th></th>\n",
              "      <th>text</th>\n",
              "      <th>label</th>\n",
              "    </tr>\n",
              "  </thead>\n",
              "  <tbody>\n",
              "    <tr>\n",
              "      <th>0</th>\n",
              "      <td>i came here and left a review befor but last t...</td>\n",
              "      <td>1</td>\n",
              "    </tr>\n",
              "    <tr>\n",
              "      <th>1</th>\n",
              "      <td>had a veri nice first visit here the owner ted...</td>\n",
              "      <td>4</td>\n",
              "    </tr>\n",
              "    <tr>\n",
              "      <th>2</th>\n",
              "      <td>thi is a gorgeou and veri clean hotel we had a...</td>\n",
              "      <td>4</td>\n",
              "    </tr>\n",
              "    <tr>\n",
              "      <th>3</th>\n",
              "      <td>the gym is dirti i have given up locker room i...</td>\n",
              "      <td>1</td>\n",
              "    </tr>\n",
              "    <tr>\n",
              "      <th>4</th>\n",
              "      <td>the food here is delici fast and consist everi...</td>\n",
              "      <td>5</td>\n",
              "    </tr>\n",
              "  </tbody>\n",
              "</table>\n",
              "</div>\n",
              "      <button class=\"colab-df-convert\" onclick=\"convertToInteractive('df-5ac63a99-036e-4b59-bd9a-38102c5a5560')\"\n",
              "              title=\"Convert this dataframe to an interactive table.\"\n",
              "              style=\"display:none;\">\n",
              "        \n",
              "  <svg xmlns=\"http://www.w3.org/2000/svg\" height=\"24px\"viewBox=\"0 0 24 24\"\n",
              "       width=\"24px\">\n",
              "    <path d=\"M0 0h24v24H0V0z\" fill=\"none\"/>\n",
              "    <path d=\"M18.56 5.44l.94 2.06.94-2.06 2.06-.94-2.06-.94-.94-2.06-.94 2.06-2.06.94zm-11 1L8.5 8.5l.94-2.06 2.06-.94-2.06-.94L8.5 2.5l-.94 2.06-2.06.94zm10 10l.94 2.06.94-2.06 2.06-.94-2.06-.94-.94-2.06-.94 2.06-2.06.94z\"/><path d=\"M17.41 7.96l-1.37-1.37c-.4-.4-.92-.59-1.43-.59-.52 0-1.04.2-1.43.59L10.3 9.45l-7.72 7.72c-.78.78-.78 2.05 0 2.83L4 21.41c.39.39.9.59 1.41.59.51 0 1.02-.2 1.41-.59l7.78-7.78 2.81-2.81c.8-.78.8-2.07 0-2.86zM5.41 20L4 18.59l7.72-7.72 1.47 1.35L5.41 20z\"/>\n",
              "  </svg>\n",
              "      </button>\n",
              "      \n",
              "  <style>\n",
              "    .colab-df-container {\n",
              "      display:flex;\n",
              "      flex-wrap:wrap;\n",
              "      gap: 12px;\n",
              "    }\n",
              "\n",
              "    .colab-df-convert {\n",
              "      background-color: #E8F0FE;\n",
              "      border: none;\n",
              "      border-radius: 50%;\n",
              "      cursor: pointer;\n",
              "      display: none;\n",
              "      fill: #1967D2;\n",
              "      height: 32px;\n",
              "      padding: 0 0 0 0;\n",
              "      width: 32px;\n",
              "    }\n",
              "\n",
              "    .colab-df-convert:hover {\n",
              "      background-color: #E2EBFA;\n",
              "      box-shadow: 0px 1px 2px rgba(60, 64, 67, 0.3), 0px 1px 3px 1px rgba(60, 64, 67, 0.15);\n",
              "      fill: #174EA6;\n",
              "    }\n",
              "\n",
              "    [theme=dark] .colab-df-convert {\n",
              "      background-color: #3B4455;\n",
              "      fill: #D2E3FC;\n",
              "    }\n",
              "\n",
              "    [theme=dark] .colab-df-convert:hover {\n",
              "      background-color: #434B5C;\n",
              "      box-shadow: 0px 1px 3px 1px rgba(0, 0, 0, 0.15);\n",
              "      filter: drop-shadow(0px 1px 2px rgba(0, 0, 0, 0.3));\n",
              "      fill: #FFFFFF;\n",
              "    }\n",
              "  </style>\n",
              "\n",
              "      <script>\n",
              "        const buttonEl =\n",
              "          document.querySelector('#df-5ac63a99-036e-4b59-bd9a-38102c5a5560 button.colab-df-convert');\n",
              "        buttonEl.style.display =\n",
              "          google.colab.kernel.accessAllowed ? 'block' : 'none';\n",
              "\n",
              "        async function convertToInteractive(key) {\n",
              "          const element = document.querySelector('#df-5ac63a99-036e-4b59-bd9a-38102c5a5560');\n",
              "          const dataTable =\n",
              "            await google.colab.kernel.invokeFunction('convertToInteractive',\n",
              "                                                     [key], {});\n",
              "          if (!dataTable) return;\n",
              "\n",
              "          const docLinkHtml = 'Like what you see? Visit the ' +\n",
              "            '<a target=\"_blank\" href=https://colab.research.google.com/notebooks/data_table.ipynb>data table notebook</a>'\n",
              "            + ' to learn more about interactive tables.';\n",
              "          element.innerHTML = '';\n",
              "          dataTable['output_type'] = 'display_data';\n",
              "          await google.colab.output.renderOutput(dataTable, element);\n",
              "          const docLink = document.createElement('div');\n",
              "          docLink.innerHTML = docLinkHtml;\n",
              "          element.appendChild(docLink);\n",
              "        }\n",
              "      </script>\n",
              "    </div>\n",
              "  </div>\n",
              "  "
            ]
          },
          "metadata": {},
          "execution_count": 12
        }
      ]
    },
    {
      "cell_type": "code",
      "source": [
        "test.head(3) # test data after preprocessing"
      ],
      "metadata": {
        "colab": {
          "base_uri": "https://localhost:8080/",
          "height": 142
        },
        "id": "wPRkIKJgcmWP",
        "outputId": "41bbf6dd-9b53-4462-ee4a-cbd6796b26a2"
      },
      "execution_count": null,
      "outputs": [
        {
          "output_type": "execute_result",
          "data": {
            "text/plain": [
              "                                                text  label\n",
              "0  i stay here for a weekend and they made my sta...      5\n",
              "1  i will forev be call upon delici design whenev...      5\n",
              "2  i person had onli order the homicid boneless a...      4"
            ],
            "text/html": [
              "\n",
              "  <div id=\"df-2472c7a9-83b6-4446-bf44-b74c4a880c68\">\n",
              "    <div class=\"colab-df-container\">\n",
              "      <div>\n",
              "<style scoped>\n",
              "    .dataframe tbody tr th:only-of-type {\n",
              "        vertical-align: middle;\n",
              "    }\n",
              "\n",
              "    .dataframe tbody tr th {\n",
              "        vertical-align: top;\n",
              "    }\n",
              "\n",
              "    .dataframe thead th {\n",
              "        text-align: right;\n",
              "    }\n",
              "</style>\n",
              "<table border=\"1\" class=\"dataframe\">\n",
              "  <thead>\n",
              "    <tr style=\"text-align: right;\">\n",
              "      <th></th>\n",
              "      <th>text</th>\n",
              "      <th>label</th>\n",
              "    </tr>\n",
              "  </thead>\n",
              "  <tbody>\n",
              "    <tr>\n",
              "      <th>0</th>\n",
              "      <td>i stay here for a weekend and they made my sta...</td>\n",
              "      <td>5</td>\n",
              "    </tr>\n",
              "    <tr>\n",
              "      <th>1</th>\n",
              "      <td>i will forev be call upon delici design whenev...</td>\n",
              "      <td>5</td>\n",
              "    </tr>\n",
              "    <tr>\n",
              "      <th>2</th>\n",
              "      <td>i person had onli order the homicid boneless a...</td>\n",
              "      <td>4</td>\n",
              "    </tr>\n",
              "  </tbody>\n",
              "</table>\n",
              "</div>\n",
              "      <button class=\"colab-df-convert\" onclick=\"convertToInteractive('df-2472c7a9-83b6-4446-bf44-b74c4a880c68')\"\n",
              "              title=\"Convert this dataframe to an interactive table.\"\n",
              "              style=\"display:none;\">\n",
              "        \n",
              "  <svg xmlns=\"http://www.w3.org/2000/svg\" height=\"24px\"viewBox=\"0 0 24 24\"\n",
              "       width=\"24px\">\n",
              "    <path d=\"M0 0h24v24H0V0z\" fill=\"none\"/>\n",
              "    <path d=\"M18.56 5.44l.94 2.06.94-2.06 2.06-.94-2.06-.94-.94-2.06-.94 2.06-2.06.94zm-11 1L8.5 8.5l.94-2.06 2.06-.94-2.06-.94L8.5 2.5l-.94 2.06-2.06.94zm10 10l.94 2.06.94-2.06 2.06-.94-2.06-.94-.94-2.06-.94 2.06-2.06.94z\"/><path d=\"M17.41 7.96l-1.37-1.37c-.4-.4-.92-.59-1.43-.59-.52 0-1.04.2-1.43.59L10.3 9.45l-7.72 7.72c-.78.78-.78 2.05 0 2.83L4 21.41c.39.39.9.59 1.41.59.51 0 1.02-.2 1.41-.59l7.78-7.78 2.81-2.81c.8-.78.8-2.07 0-2.86zM5.41 20L4 18.59l7.72-7.72 1.47 1.35L5.41 20z\"/>\n",
              "  </svg>\n",
              "      </button>\n",
              "      \n",
              "  <style>\n",
              "    .colab-df-container {\n",
              "      display:flex;\n",
              "      flex-wrap:wrap;\n",
              "      gap: 12px;\n",
              "    }\n",
              "\n",
              "    .colab-df-convert {\n",
              "      background-color: #E8F0FE;\n",
              "      border: none;\n",
              "      border-radius: 50%;\n",
              "      cursor: pointer;\n",
              "      display: none;\n",
              "      fill: #1967D2;\n",
              "      height: 32px;\n",
              "      padding: 0 0 0 0;\n",
              "      width: 32px;\n",
              "    }\n",
              "\n",
              "    .colab-df-convert:hover {\n",
              "      background-color: #E2EBFA;\n",
              "      box-shadow: 0px 1px 2px rgba(60, 64, 67, 0.3), 0px 1px 3px 1px rgba(60, 64, 67, 0.15);\n",
              "      fill: #174EA6;\n",
              "    }\n",
              "\n",
              "    [theme=dark] .colab-df-convert {\n",
              "      background-color: #3B4455;\n",
              "      fill: #D2E3FC;\n",
              "    }\n",
              "\n",
              "    [theme=dark] .colab-df-convert:hover {\n",
              "      background-color: #434B5C;\n",
              "      box-shadow: 0px 1px 3px 1px rgba(0, 0, 0, 0.15);\n",
              "      filter: drop-shadow(0px 1px 2px rgba(0, 0, 0, 0.3));\n",
              "      fill: #FFFFFF;\n",
              "    }\n",
              "  </style>\n",
              "\n",
              "      <script>\n",
              "        const buttonEl =\n",
              "          document.querySelector('#df-2472c7a9-83b6-4446-bf44-b74c4a880c68 button.colab-df-convert');\n",
              "        buttonEl.style.display =\n",
              "          google.colab.kernel.accessAllowed ? 'block' : 'none';\n",
              "\n",
              "        async function convertToInteractive(key) {\n",
              "          const element = document.querySelector('#df-2472c7a9-83b6-4446-bf44-b74c4a880c68');\n",
              "          const dataTable =\n",
              "            await google.colab.kernel.invokeFunction('convertToInteractive',\n",
              "                                                     [key], {});\n",
              "          if (!dataTable) return;\n",
              "\n",
              "          const docLinkHtml = 'Like what you see? Visit the ' +\n",
              "            '<a target=\"_blank\" href=https://colab.research.google.com/notebooks/data_table.ipynb>data table notebook</a>'\n",
              "            + ' to learn more about interactive tables.';\n",
              "          element.innerHTML = '';\n",
              "          dataTable['output_type'] = 'display_data';\n",
              "          await google.colab.output.renderOutput(dataTable, element);\n",
              "          const docLink = document.createElement('div');\n",
              "          docLink.innerHTML = docLinkHtml;\n",
              "          element.appendChild(docLink);\n",
              "        }\n",
              "      </script>\n",
              "    </div>\n",
              "  </div>\n",
              "  "
            ]
          },
          "metadata": {},
          "execution_count": 13
        }
      ]
    },
    {
      "cell_type": "markdown",
      "source": [
        "### Most frequent words on most negative (1) and most positive (5) reviews for train and test sets"
      ],
      "metadata": {
        "id": "jZVUypkBxJI0"
      }
    },
    {
      "cell_type": "markdown",
      "source": [
        "***Codes in this part are implemented from:***\n",
        "\n",
        "Kaymaz, E. H. (2021, December 30). Sentiment Analysis of Yelp reviews. Kaggle. Retrieved May 5, 2022 from https://www.kaggle.com/code/ebrarhalekaymaz/sentiment-analysis-of-yelp-reviews"
      ],
      "metadata": {
        "id": "qugcZMat32sl"
      }
    },
    {
      "cell_type": "code",
      "source": [
        "def plot_Freq(data):\n",
        "    FreqDist(np.concatenate(data.text.reset_index(drop=True))).plot(20, cumulative=False) #plotting word frequencies"
      ],
      "metadata": {
        "id": "Kr2muMXt0mhL"
      },
      "execution_count": null,
      "outputs": []
    },
    {
      "cell_type": "code",
      "source": [
        "nonstop_train = train_original.copy(deep=True) # plotting frequencies from train data\n",
        "nonstop_train.text = nonstop_train.text.apply(preprocess3) \n",
        "nonstop_train[\"text\"]= nonstop_train[\"text\"].str.split()"
      ],
      "metadata": {
        "id": "68fc69u2xZmC"
      },
      "execution_count": null,
      "outputs": []
    },
    {
      "cell_type": "code",
      "source": [
        "fig = plt.figure(figsize=(10,6)) # most frequent words on negative reviews\n",
        "plt.title('Most frequent words for negative reviews on train set (stopwords and punctuations are removed)')\n",
        "plot_Freq(nonstop_train[nonstop_train['label']==1])"
      ],
      "metadata": {
        "colab": {
          "base_uri": "https://localhost:8080/",
          "height": 430
        },
        "id": "RxY8oGyO03lU",
        "outputId": "1a6a0ed0-db0b-4264-df3f-24919e6ba389"
      },
      "execution_count": null,
      "outputs": [
        {
          "output_type": "display_data",
          "data": {
            "text/plain": [
              "<Figure size 720x432 with 1 Axes>"
            ],
            "image/png": "[encoded data removed]"
          },
          "metadata": {
            "needs_background": "light"
          }
        }
      ]
    },
    {
      "cell_type": "code",
      "source": [
        "fig = plt.figure(figsize=(10,6)) # most frequent words on positive reviews\n",
        "plt.title('Most frequent words for positive reviews on train set (stopwords and punctuations are removed)')\n",
        "plot_Freq(nonstop_train[nonstop_train['label']==5])"
      ],
      "metadata": {
        "colab": {
          "base_uri": "https://localhost:8080/",
          "height": 438
        },
        "id": "_FuMNZzf2ICg",
        "outputId": "af7b0b32-6e76-4aa0-a4b5-075946ed9b1f"
      },
      "execution_count": null,
      "outputs": [
        {
          "output_type": "display_data",
          "data": {
            "text/plain": [
              "<Figure size 720x432 with 1 Axes>"
            ],
            "image/png": "[encoded data removed]"
          },
          "metadata": {
            "needs_background": "light"
          }
        }
      ]
    },
    {
      "cell_type": "code",
      "source": [
        "nonstop_test = test_original.copy(deep=True) # plotting frequencies from test data\n",
        "nonstop_test.text = nonstop_test.text.apply(preprocess3)\n",
        "nonstop_test[\"text\"]= nonstop_test[\"text\"].str.split()"
      ],
      "metadata": {
        "id": "CKAlxylN0pY0"
      },
      "execution_count": null,
      "outputs": []
    },
    {
      "cell_type": "code",
      "source": [
        "fig = plt.figure(figsize=(10,6)) # most frequent words on negative reviews\n",
        "plt.title('Most frequent words for negative reviews on test set (stopwords and punctuations are removed)')\n",
        "plot_Freq(nonstop_test[nonstop_test['label']==1])"
      ],
      "metadata": {
        "colab": {
          "base_uri": "https://localhost:8080/",
          "height": 433
        },
        "id": "QlsboDTt3Bfa",
        "outputId": "51b8a87e-b665-4aa7-d958-1e5461593d9e"
      },
      "execution_count": null,
      "outputs": [
        {
          "output_type": "display_data",
          "data": {
            "text/plain": [
              "<Figure size 720x432 with 1 Axes>"
            ],
            "image/png": "[encoded data removed]"
          },
          "metadata": {
            "needs_background": "light"
          }
        }
      ]
    },
    {
      "cell_type": "code",
      "source": [
        "fig = plt.figure(figsize=(10,6)) # most frequent words on positive reviews\n",
        "plt.title('Most frequent words for positive reviews on test set (stopwords and punctuations are removed)')\n",
        "plot_Freq(nonstop_test[nonstop_test['label']==5])"
      ],
      "metadata": {
        "colab": {
          "base_uri": "https://localhost:8080/",
          "height": 438
        },
        "id": "j5whFQYg3D5i",
        "outputId": "fdeb8c21-8c02-40d3-da04-b0650baf4b76"
      },
      "execution_count": null,
      "outputs": [
        {
          "output_type": "display_data",
          "data": {
            "text/plain": [
              "<Figure size 720x432 with 1 Axes>"
            ],
            "image/png": "[encoded data removed]"
          },
          "metadata": {
            "needs_background": "light"
          }
        }
      ]
    },
    {
      "cell_type": "markdown",
      "source": [
        "### Creating Binary and MultiClass Datasets"
      ],
      "metadata": {
        "id": "p02ua6qv-E7g"
      }
    },
    {
      "cell_type": "code",
      "source": [
        "# Create your binary and multiclass datasets\n",
        "binaryTrain = train.copy(deep=True)\n",
        "binaryTest = test.copy(deep=True)\n",
        "\n",
        "multiTrain = train.copy(deep=True)\n",
        "multiTest = test.copy(deep=True)\n",
        "\n",
        "# For binary dataset, get rid of the class 3 in the dataset and map class 1 and 2 to 0, and class 4 and 5 to 1\n",
        "binaryTrain['label'] = binaryTrain['label'].map({1: 0, 2: 0, 3: np.nan, 4: 1, 5: 1})\n",
        "binaryTest['label'] = binaryTest['label'].map({1: 0, 2: 0, 3: np.nan, 4: 1, 5: 1})\n",
        "binaryTrain.dropna(inplace=True)\n",
        "binaryTest.dropna(inplace=True)\n",
        "binaryTrain = binaryTrain.astype({'label': 'int64'})\n",
        "binaryTest = binaryTest.astype({'label': 'int64'})\n",
        "\n",
        "# For multiclass dataset, make sure your classes starts from 0 and goes until 4. (5->4, 4->3, 3->2, 2->1, 1->0)\n",
        "multiTrain['label'] = multiTrain['label'].map({1: 0, 2: 1, 3: 2, 4: 3, 5: 4})\n",
        "multiTest['label'] = multiTest['label'].map({1: 0, 2: 1, 3: 2, 4: 3, 5: 4})\n",
        "multiTrain = multiTrain.astype({'label': 'int64'})\n",
        "multiTest = multiTest.astype({'label': 'int64'})"
      ],
      "metadata": {
        "id": "MJWiNm2ZrO8m"
      },
      "execution_count": null,
      "outputs": []
    },
    {
      "cell_type": "code",
      "source": [
        "binaryTrain.shape, binaryTest.shape"
      ],
      "metadata": {
        "colab": {
          "base_uri": "https://localhost:8080/"
        },
        "id": "vvKYkSm1xeU8",
        "outputId": "23dd775c-a3cb-49a2-967d-50b5066dde1e"
      },
      "execution_count": null,
      "outputs": [
        {
          "output_type": "execute_result",
          "data": {
            "text/plain": [
              "((14407, 2), (1593, 2))"
            ]
          },
          "metadata": {},
          "execution_count": 15
        }
      ]
    },
    {
      "cell_type": "code",
      "source": [
        "multiTrain.shape, multiTest.shape"
      ],
      "metadata": {
        "colab": {
          "base_uri": "https://localhost:8080/"
        },
        "id": "VCitu-96-0uw",
        "outputId": "76cc5674-8aef-4edf-8e6b-80127407c57f"
      },
      "execution_count": null,
      "outputs": [
        {
          "output_type": "execute_result",
          "data": {
            "text/plain": [
              "((18000, 2), (2000, 2))"
            ]
          },
          "metadata": {},
          "execution_count": 16
        }
      ]
    },
    {
      "cell_type": "markdown",
      "source": [
        "### Distributions of Binary Datasets"
      ],
      "metadata": {
        "id": "CnJBFnHc-MCK"
      }
    },
    {
      "cell_type": "markdown",
      "source": [
        "**Binary Dataset Train Distribution**"
      ],
      "metadata": {
        "id": "0DSuMzKs-nfQ"
      }
    },
    {
      "cell_type": "code",
      "source": [
        "binaryTrain.label.value_counts().loc[[0, 1]].plot.bar(figsize=(10,6), color='#70DBDA',xlabel=\"Sentiment Label (Binary)\", ylabel=\"Count\",title=\"Label Distribution of Binary Train Data\")"
      ],
      "metadata": {
        "colab": {
          "base_uri": "https://localhost:8080/",
          "height": 417
        },
        "id": "-0pfr2_03Y8b",
        "outputId": "14bb7f9a-5f52-46e7-e18d-c22ecdf06b11"
      },
      "execution_count": null,
      "outputs": [
        {
          "output_type": "execute_result",
          "data": {
            "text/plain": [
              "<matplotlib.axes._subplots.AxesSubplot at 0x7f9da04fd210>"
            ]
          },
          "metadata": {},
          "execution_count": 15
        },
        {
          "output_type": "display_data",
          "data": {
            "text/plain": [
              "<Figure size 720x432 with 1 Axes>"
            ],
            "image/png": "[encoded data removed]"
          },
          "metadata": {
            "needs_background": "light"
          }
        }
      ]
    },
    {
      "cell_type": "code",
      "source": [
        "binaryTrainEDA = binaryTrain.copy(deep=True)\n",
        "binaryTrainEDA[\"text\"]= binaryTrainEDA[\"text\"].str.split()\n",
        "binaryTrainEDA['text length'] = binaryTrainEDA['text'].apply(len) #check length distribution of reviews in binaryTrain\n",
        "fig = plt.figure(figsize=(10,6))\n",
        "sns.distplot(binaryTrainEDA['text length'], kde=True, bins=50, color='#70DBDA')\n",
        "plt.title('Text Length Distribution for Binary Train Data (after preprocessing)')"
      ],
      "metadata": {
        "colab": {
          "base_uri": "https://localhost:8080/",
          "height": 421
        },
        "id": "giXSZWOThLRl",
        "outputId": "76ad19b0-6295-4cda-c3b2-db1ac594ed41"
      },
      "execution_count": null,
      "outputs": [
        {
          "output_type": "execute_result",
          "data": {
            "text/plain": [
              "Text(0.5, 1.0, 'Text Length Distribution for Binary Train Data (after preprocessing)')"
            ]
          },
          "metadata": {},
          "execution_count": 41
        },
        {
          "output_type": "display_data",
          "data": {
            "text/plain": [
              "<Figure size 720x432 with 1 Axes>"
            ],
            "image/png": "[encoded data removed]"
          },
          "metadata": {
            "needs_background": "light"
          }
        }
      ]
    },
    {
      "cell_type": "markdown",
      "source": [
        "**Binary Dataset Test Distribution**"
      ],
      "metadata": {
        "id": "Evabbzjg-pe9"
      }
    },
    {
      "cell_type": "code",
      "source": [
        "binaryTest.label.value_counts().loc[[0, 1]].plot.bar(figsize=(10,6), color='#AB2426',xlabel=\"Sentiment Label (Binary)\", ylabel=\"Count\",title=\"Label Distribution of Binary Test Data\")"
      ],
      "metadata": {
        "colab": {
          "base_uri": "https://localhost:8080/",
          "height": 417
        },
        "id": "LJfTBHjH6jsH",
        "outputId": "3a526f1c-a9a2-4954-ea2f-680a910d86bf"
      },
      "execution_count": null,
      "outputs": [
        {
          "output_type": "execute_result",
          "data": {
            "text/plain": [
              "<matplotlib.axes._subplots.AxesSubplot at 0x7f9da0750890>"
            ]
          },
          "metadata": {},
          "execution_count": 16
        },
        {
          "output_type": "display_data",
          "data": {
            "text/plain": [
              "<Figure size 720x432 with 1 Axes>"
            ],
            "image/png": "[encoded data removed]"
          },
          "metadata": {
            "needs_background": "light"
          }
        }
      ]
    },
    {
      "cell_type": "code",
      "source": [
        "binaryTestEDA = binaryTest.copy(deep=True)\n",
        "binaryTestEDA[\"text\"]= binaryTestEDA[\"text\"].str.split()\n",
        "binaryTestEDA['text length'] = binaryTestEDA['text'].apply(len) #check length distribution of reviews in binaryTest\n",
        "fig = plt.figure(figsize=(10,6))\n",
        "sns.distplot(binaryTestEDA['text length'], kde=True, bins=50, color='#AB2426')\n",
        "plt.title('Text Length Distribution for Binary Test Data (after preprocessing)')"
      ],
      "metadata": {
        "colab": {
          "base_uri": "https://localhost:8080/",
          "height": 421
        },
        "id": "O49Ck3fShuQQ",
        "outputId": "56612a91-41c0-4e67-cc21-65115926d95d"
      },
      "execution_count": null,
      "outputs": [
        {
          "output_type": "execute_result",
          "data": {
            "text/plain": [
              "Text(0.5, 1.0, 'Text Length Distribution for Binary Test Data (after preprocessing)')"
            ]
          },
          "metadata": {},
          "execution_count": 44
        },
        {
          "output_type": "display_data",
          "data": {
            "text/plain": [
              "<Figure size 720x432 with 1 Axes>"
            ],
            "image/png": "[encoded data removed]"
          },
          "metadata": {
            "needs_background": "light"
          }
        }
      ]
    },
    {
      "cell_type": "markdown",
      "source": [
        "### Distributions of Multiclass Datasets"
      ],
      "metadata": {
        "id": "YdcuEvRc-Q5w"
      }
    },
    {
      "cell_type": "markdown",
      "source": [
        "**MultiClass Dataset Train Distribution**"
      ],
      "metadata": {
        "id": "rISTpmZ0-Xl5"
      }
    },
    {
      "cell_type": "code",
      "source": [
        "multiTrain.label.value_counts().loc[[0, 1, 2, 3, 4]].plot.bar(figsize=(10,6), color='#808223',xlabel=\"Sentiment Label (MultiClass)\", ylabel=\"Count\",title=\"Label Distribution of MultiClass Train Data\")"
      ],
      "metadata": {
        "colab": {
          "base_uri": "https://localhost:8080/",
          "height": 417
        },
        "id": "kYrkDbMf9AtF",
        "outputId": "ee651f4a-b893-4a13-ccdd-569d61d9c37c"
      },
      "execution_count": null,
      "outputs": [
        {
          "output_type": "execute_result",
          "data": {
            "text/plain": [
              "<matplotlib.axes._subplots.AxesSubplot at 0x7f9da06f3890>"
            ]
          },
          "metadata": {},
          "execution_count": 17
        },
        {
          "output_type": "display_data",
          "data": {
            "text/plain": [
              "<Figure size 720x432 with 1 Axes>"
            ],
            "image/png": "[encoded data removed]"
          },
          "metadata": {
            "needs_background": "light"
          }
        }
      ]
    },
    {
      "cell_type": "code",
      "source": [
        "MultiTrainEDA = multiTrain.copy(deep=True)\n",
        "MultiTrainEDA[\"text\"]= MultiTrainEDA[\"text\"].str.split()\n",
        "MultiTrainEDA['text length'] = MultiTrainEDA['text'].apply(len) #check length distribution of reviews in binaryTrain\n",
        "fig = plt.figure(figsize=(10,6))\n",
        "sns.distplot(MultiTrainEDA['text length'], kde=True, bins=50, color='#808223')\n",
        "plt.title('Text Length Distribution for MultiClass Train Data (after preprocessing)')"
      ],
      "metadata": {
        "colab": {
          "base_uri": "https://localhost:8080/",
          "height": 421
        },
        "id": "g3nlUDpDjQRH",
        "outputId": "e7106182-5f39-4bc0-9709-420789062891"
      },
      "execution_count": null,
      "outputs": [
        {
          "output_type": "execute_result",
          "data": {
            "text/plain": [
              "Text(0.5, 1.0, 'Text Length Distribution for MultiClass Train Data (after preprocessing)')"
            ]
          },
          "metadata": {},
          "execution_count": 45
        },
        {
          "output_type": "display_data",
          "data": {
            "text/plain": [
              "<Figure size 720x432 with 1 Axes>"
            ],
            "image/png": "[encoded data removed]"
          },
          "metadata": {
            "needs_background": "light"
          }
        }
      ]
    },
    {
      "cell_type": "markdown",
      "source": [
        "**MultiClass Dataset Test Distribution**"
      ],
      "metadata": {
        "id": "yA0rYe7V-lFL"
      }
    },
    {
      "cell_type": "code",
      "source": [
        "multiTest.label.value_counts().loc[[0, 1, 2, 3, 4]].plot.bar(figsize=(10,6), color='#3A3975',xlabel=\"Sentiment Label (MultiClass)\", ylabel=\"Count\",title=\"Label Distribution of MultiClass Test Data\")"
      ],
      "metadata": {
        "colab": {
          "base_uri": "https://localhost:8080/",
          "height": 417
        },
        "id": "sjo85jYF9CDY",
        "outputId": "e10477d4-d53c-4392-a602-776f1567b44d"
      },
      "execution_count": null,
      "outputs": [
        {
          "output_type": "execute_result",
          "data": {
            "text/plain": [
              "<matplotlib.axes._subplots.AxesSubplot at 0x7f9da05c8d50>"
            ]
          },
          "metadata": {},
          "execution_count": 18
        },
        {
          "output_type": "display_data",
          "data": {
            "text/plain": [
              "<Figure size 720x432 with 1 Axes>"
            ],
            "image/png": "[encoded data removed]"
          },
          "metadata": {
            "needs_background": "light"
          }
        }
      ]
    },
    {
      "cell_type": "code",
      "source": [
        "MultiTestEDA = multiTest.copy(deep=True)\n",
        "MultiTestEDA[\"text\"]= MultiTestEDA[\"text\"].str.split()\n",
        "MultiTestEDA['text length'] = MultiTestEDA['text'].apply(len) #check length distribution of reviews in binaryTrain\n",
        "fig = plt.figure(figsize=(10,6))\n",
        "sns.distplot(MultiTestEDA['text length'], kde=True, bins=50, color='#3A3975')\n",
        "plt.title('Text Length Distribution for MultiClass Test Data (after preprocessing)')"
      ],
      "metadata": {
        "colab": {
          "base_uri": "https://localhost:8080/",
          "height": 421
        },
        "id": "xgWWpSp6qr1L",
        "outputId": "cd290f2d-790e-459d-fbcf-c6dcee2aa0ae"
      },
      "execution_count": null,
      "outputs": [
        {
          "output_type": "execute_result",
          "data": {
            "text/plain": [
              "Text(0.5, 1.0, 'Text Length Distribution for MultiClass Test Data (after preprocessing)')"
            ]
          },
          "metadata": {},
          "execution_count": 46
        },
        {
          "output_type": "display_data",
          "data": {
            "text/plain": [
              "<Figure size 720x432 with 1 Axes>"
            ],
            "image/png": "[encoded data removed]"
          },
          "metadata": {
            "needs_background": "light"
          }
        }
      ]
    },
    {
      "cell_type": "markdown",
      "source": [
        "# Models"
      ],
      "metadata": {
        "id": "fbz48mNfttuo"
      }
    },
    {
      "cell_type": "markdown",
      "source": [
        "## Non-Neural Models"
      ],
      "metadata": {
        "id": "y65GxGIFAC_K"
      }
    },
    {
      "cell_type": "code",
      "source": [
        "from sklearn.model_selection import GridSearchCV\n",
        "from sklearn.base import TransformerMixin\n",
        "from sklearn.pipeline import Pipeline\n",
        "from sklearn.feature_extraction.text import TfidfVectorizer\n",
        "from sklearn.naive_bayes import GaussianNB\n",
        "from sklearn.linear_model import LogisticRegression\n",
        "from sklearn.metrics import f1_score,confusion_matrix,accuracy_score"
      ],
      "metadata": {
        "id": "BYhkcMWouazd"
      },
      "execution_count": null,
      "outputs": []
    },
    {
      "cell_type": "markdown",
      "source": [
        "### Naive Bayes"
      ],
      "metadata": {
        "id": "4MZIaJFXWScs"
      }
    },
    {
      "cell_type": "code",
      "source": [
        "# https://scikit-learn.org/stable/modules/generated/sklearn.naive_bayes.GaussianNB.html\n",
        "\n",
        "# Create a class for converting sparse matrix output of TfidfVectorizer to dense matrix for feeding into GaussianNB\n",
        "class DenseTransformer(TransformerMixin):\n",
        "\n",
        "    def fit(self, X, y=None, **fit_params):\n",
        "        return self\n",
        "\n",
        "    def transform(self, X, y=None, **fit_params):\n",
        "        return X.todense()\n",
        "\n",
        "\n",
        "# Initiate the pipeline with required components.You can use Pipeline class of sklearn -> https://scikit-learn.org/stable/modules/generated/sklearn.pipeline.Pipeline.html\n",
        "# There will be three components; 1) TfidfVectorizer 2) DenseTransformer 3) Naive Bayes classifier.\n",
        "\n",
        "pipeline = Pipeline([\n",
        "    ('vector', TfidfVectorizer()),\n",
        "    ('to_dense', DenseTransformer()),\n",
        "    ('nb', GaussianNB())\n",
        "])\n",
        "\n",
        "# Set the hyperparameter space that will be scanned with GridSearchCV.\n",
        "\n",
        "hyperparameterSpace = dict(\n",
        "    vector__min_df=[100, 500, 1000],\n",
        "    vector__ngram_range=[(1,1), (1,2), (1,3)])"
      ],
      "metadata": {
        "id": "Tr32alf3WXmM"
      },
      "execution_count": null,
      "outputs": []
    },
    {
      "cell_type": "markdown",
      "source": [
        "#### **Binary Classification**"
      ],
      "metadata": {
        "id": "0PjodOpko5pJ"
      }
    },
    {
      "cell_type": "code",
      "source": [
        "%%time\n",
        "# Initialize and run the GridSearchCV to scan the hyperparameter and find the best hyperparameter set that will maximize the scoring option for binary classification.\n",
        "\n",
        "gridSearchBinary = GridSearchCV(pipeline, \n",
        "                             hyperparameterSpace, \n",
        "                             verbose=1,\n",
        "                             n_jobs=5,\n",
        "                             scoring='f1_macro',\n",
        "                             cv=5)\n",
        "gridSearchBinary.fit(binaryTrain['text'], binaryTrain['label'])"
      ],
      "metadata": {
        "id": "vlZRfzqPo9iv",
        "colab": {
          "base_uri": "https://localhost:8080/"
        },
        "outputId": "a9bdf27a-d57c-461b-fd31-d6eace65d92e"
      },
      "execution_count": null,
      "outputs": [
        {
          "output_type": "stream",
          "name": "stdout",
          "text": [
            "Fitting 5 folds for each of 9 candidates, totalling 45 fits\n",
            "CPU times: user 9.95 s, sys: 1.17 s, total: 11.1 s\n",
            "Wall time: 2min 30s\n"
          ]
        }
      ]
    },
    {
      "cell_type": "code",
      "source": [
        "# Report the standard deviation of split scores for each hyperparameter group.\n",
        "printDict = (pd.DataFrame(gridSearchBinary.cv_results_)).to_dict()\n",
        "for i in range(9):\n",
        "  print(\"Hyperparameters: N =\", printDict['param_vector__min_df'][i],\"- n-gramRange =\", printDict['param_vector__ngram_range'][i], \"Scores: mean test score =\", printDict['mean_test_score'][i], \"- std test score =\", printDict['std_test_score'][i],\"- rank =\",printDict['rank_test_score'][i])\n",
        "\n",
        "# Show the best parameter set for given dataset and hyperparameter space.\n",
        "\n",
        "print(\"\\nBest Parameters:\")\n",
        "best_parameters_1 = gridSearchBinary.best_estimator_.get_params()\n",
        "for param_name in sorted(hyperparameterSpace.keys()):\n",
        "    print(param_name,\"=\",best_parameters_1[param_name])"
      ],
      "metadata": {
        "colab": {
          "base_uri": "https://localhost:8080/"
        },
        "id": "tD2WMt1FuQVC",
        "outputId": "25faeeb0-a570-4c84-e3f0-ab30b67c6dd1"
      },
      "execution_count": null,
      "outputs": [
        {
          "output_type": "stream",
          "name": "stdout",
          "text": [
            "Hyperparameter: N = 100 - n-gramRange = (1, 1) Scores: mean test score = 0.8538848793498957 - std test score = 0.003997458581274185 - rank = 3\n",
            "Hyperparameter: N = 100 - n-gramRange = (1, 2) Scores: mean test score = 0.8780147588614458 - std test score = 0.005493775187889016 - rank = 2\n",
            "Hyperparameter: N = 100 - n-gramRange = (1, 3) Scores: mean test score = 0.8794725736732625 - std test score = 0.006423957557241051 - rank = 1\n",
            "Hyperparameter: N = 500 - n-gramRange = (1, 1) Scores: mean test score = 0.8155956302626814 - std test score = 0.004873294742103427 - rank = 6\n",
            "Hyperparameter: N = 500 - n-gramRange = (1, 2) Scores: mean test score = 0.8219824043962671 - std test score = 0.006339444761324913 - rank = 4\n",
            "Hyperparameter: N = 500 - n-gramRange = (1, 3) Scores: mean test score = 0.8219165948107282 - std test score = 0.00711480721032781 - rank = 5\n",
            "Hyperparameter: N = 1000 - n-gramRange = (1, 1) Scores: mean test score = 0.7846185500293817 - std test score = 0.005974588799051503 - rank = 7\n",
            "Hyperparameter: N = 1000 - n-gramRange = (1, 2) Scores: mean test score = 0.7821257660209587 - std test score = 0.006768499533236574 - rank = 8\n",
            "Hyperparameter: N = 1000 - n-gramRange = (1, 3) Scores: mean test score = 0.7821257660209587 - std test score = 0.006768499533236574 - rank = 8\n",
            "\n",
            "Best Parameters:\n",
            "vector__min_df = 100\n",
            "vector__ngram_range = (1, 3)\n"
          ]
        }
      ]
    },
    {
      "cell_type": "code",
      "source": [
        "# Building the pipeline with the best parameter group and reporting Conf. Mat. and Results on the Test Set #\n",
        "\n",
        "# Create your Pipeline object with the best parameter set.\n",
        "\n",
        "pipelineBestBinaryNB = Pipeline([\n",
        "    ('vector', TfidfVectorizer(min_df = 100, ngram_range = (1,3))),\n",
        "    ('to_dense', DenseTransformer()),\n",
        "    ('nb', GaussianNB())\n",
        "])\n",
        "\n",
        "# Fit your pipeline on training set.\n",
        "\n",
        "pipelineBestBinaryNB.fit(binaryTrain['text'], binaryTrain['label'])\n",
        "\n",
        "# Take prediction and report the F1 and Accuracy scores for binary classification. Then show the confussion table.\n",
        "\n",
        "binaryPredictLabel = pipelineBestBinaryNB.predict(binaryTest['text'])\n",
        "\n",
        "print(\"f1 score is:\", f1_score(binaryTest['label'], binaryPredictLabel, average='weighted'))\n",
        "print(\"accuracy score is:\", accuracy_score(binaryTest['label'], binaryPredictLabel))\n",
        "print(\"confusion matrix:\\n\", confusion_matrix(binaryTest['label'], binaryPredictLabel))"
      ],
      "metadata": {
        "colab": {
          "base_uri": "https://localhost:8080/"
        },
        "id": "BcoVs0nGrO9U",
        "outputId": "ed85abc1-a808-426c-8ee0-0262b3894411"
      },
      "execution_count": null,
      "outputs": [
        {
          "output_type": "stream",
          "name": "stdout",
          "text": [
            "f1 score is: 0.8876497802816139\n",
            "accuracy score is: 0.8876333961079724\n",
            "confusion matrix:\n",
            " [[702  71]\n",
            " [108 712]]\n"
          ]
        }
      ]
    },
    {
      "cell_type": "markdown",
      "source": [
        "#### **Multi-Classification**"
      ],
      "metadata": {
        "id": "gUmILCQmpPAE"
      }
    },
    {
      "cell_type": "code",
      "source": [
        "%%time\n",
        "# Initialize and run the GridSearchCV to scan the hyperparameter and find the best hyperparameter set that will maximize the scoring option for multiclass classification.\n",
        "\n",
        "gridSearchMulti = GridSearchCV(pipeline, \n",
        "                             hyperparameterSpace, \n",
        "                             verbose=1,\n",
        "                             n_jobs=20,\n",
        "                             scoring='f1_macro',\n",
        "                             cv=5)\n",
        "gridSearchMulti.fit(multiTrain['text'], multiTrain['label'])\n"
      ],
      "metadata": {
        "id": "Od0ZnT7MpSdC",
        "colab": {
          "base_uri": "https://localhost:8080/"
        },
        "outputId": "dad43d8f-61a3-47bc-f11a-a988824b1401"
      },
      "execution_count": null,
      "outputs": [
        {
          "output_type": "stream",
          "name": "stdout",
          "text": [
            "Fitting 5 folds for each of 9 candidates, totalling 45 fits\n",
            "CPU times: user 8.75 s, sys: 1.83 s, total: 10.6 s\n",
            "Wall time: 3min 37s\n"
          ]
        }
      ]
    },
    {
      "cell_type": "code",
      "source": [
        "# Report the standard deviation of split scores for each hyperparameter group.\n",
        "printDict = (pd.DataFrame(gridSearchMulti.cv_results_)).to_dict()\n",
        "for i in range(9):\n",
        "  print(\"Hyperparameters: N =\", printDict['param_vector__min_df'][i],\"- n-gramRange =\", printDict['param_vector__ngram_range'][i], \"Scores: mean test score =\", printDict['mean_test_score'][i], \"- std test score =\", printDict['std_test_score'][i],\"- rank =\",printDict['rank_test_score'][i])\n",
        "\n",
        "# Show the best parameter set for given dataset and hyperparameter space.\n",
        "\n",
        "print(\"\\nBest Parameters:\")\n",
        "best_parameters_1 = gridSearchMulti.best_estimator_.get_params()\n",
        "for param_name in sorted(hyperparameterSpace.keys()):\n",
        "    print(param_name,\"=\",best_parameters_1[param_name])"
      ],
      "metadata": {
        "colab": {
          "base_uri": "https://localhost:8080/"
        },
        "id": "pAXlvFQT6_H2",
        "outputId": "46325b6e-23ae-46c9-aeee-fcb713f48617"
      },
      "execution_count": null,
      "outputs": [
        {
          "output_type": "stream",
          "name": "stdout",
          "text": [
            "Hyperparameter: N = 100 - n-gramRange = (1, 1) Scores: mean test score = 0.44273061911334854 - std test score = 0.010502261034675657 - rank = 6\n",
            "Hyperparameter: N = 100 - n-gramRange = (1, 2) Scores: mean test score = 0.4875471123316695 - std test score = 0.0075880819416387505 - rank = 1\n",
            "Hyperparameter: N = 100 - n-gramRange = (1, 3) Scores: mean test score = 0.48706093390372046 - std test score = 0.006305648450532742 - rank = 2\n",
            "Hyperparameter: N = 500 - n-gramRange = (1, 1) Scores: mean test score = 0.465301762398375 - std test score = 0.007297510612346713 - rank = 5\n",
            "Hyperparameter: N = 500 - n-gramRange = (1, 2) Scores: mean test score = 0.4700899279968075 - std test score = 0.009313597606532185 - rank = 3\n",
            "Hyperparameter: N = 500 - n-gramRange = (1, 3) Scores: mean test score = 0.46991667024659484 - std test score = 0.008216932563551547 - rank = 4\n",
            "Hyperparameter: N = 1000 - n-gramRange = (1, 1) Scores: mean test score = 0.4345114542517967 - std test score = 0.005696196662492137 - rank = 9\n",
            "Hyperparameter: N = 1000 - n-gramRange = (1, 2) Scores: mean test score = 0.4364547140266527 - std test score = 0.00440871483851395 - rank = 7\n",
            "Hyperparameter: N = 1000 - n-gramRange = (1, 3) Scores: mean test score = 0.4364547140266527 - std test score = 0.00440871483851395 - rank = 7\n",
            "\n",
            "Best Parameters:\n",
            "vector__min_df = 100\n",
            "vector__ngram_range = (1, 2)\n"
          ]
        }
      ]
    },
    {
      "cell_type": "code",
      "source": [
        "# Building the pipeline with the best parameter group and reporting Conf. Mat. and Results on the Test Set #\n",
        "\n",
        "# Create your Pipeline object with the best parameter set.\n",
        "\n",
        "pipelineBestMultiNB = Pipeline([\n",
        "    ('vector', TfidfVectorizer(min_df = 100, ngram_range = (1,2))),\n",
        "    ('to_dense', DenseTransformer()),\n",
        "    ('nb', GaussianNB())\n",
        "])\n",
        "\n",
        "# Fit your pipeline on training set.\n",
        "\n",
        "pipelineBestMultiNB.fit(multiTrain['text'], multiTrain['label'])\n",
        "\n",
        "# Take prediction and report the F1 and Accuracy scores for Multi classification. Then show the confussion table.\n",
        "\n",
        "multiPredictLabel = pipelineBestMultiNB.predict(multiTest['text'])\n",
        "\n",
        "print(\"f1 score is:\", f1_score(multiTest['label'], multiPredictLabel, average='macro'))\n",
        "print(\"accuracy score is:\", accuracy_score(multiTest['label'], multiPredictLabel))\n",
        "print(\"confusion matrix:\\n\", confusion_matrix(multiTest['label'], multiPredictLabel))"
      ],
      "metadata": {
        "colab": {
          "base_uri": "https://localhost:8080/"
        },
        "id": "D-tZrRxB7CV2",
        "outputId": "7ccb2d7e-e6b9-4b07-8a71-18da9ac2bff9"
      },
      "execution_count": null,
      "outputs": [
        {
          "output_type": "stream",
          "name": "stdout",
          "text": [
            "f1 score is: 0.5001142472132527\n",
            "accuracy score is: 0.511\n",
            "confusion matrix:\n",
            " [[275  87  19   9   3]\n",
            " [116 160  75  16  13]\n",
            " [ 43  78 156  93  37]\n",
            " [ 16  22  76 135 130]\n",
            " [ 19  13  25  88 296]]\n"
          ]
        }
      ]
    },
    {
      "cell_type": "markdown",
      "source": [
        "### Logistic Regression"
      ],
      "metadata": {
        "id": "EMNf8zC50lQQ"
      }
    },
    {
      "cell_type": "code",
      "source": [
        "# https://scikit-learn.org/stable/modules/generated/sklearn.linear_model.LogisticRegression.html\n",
        "\n",
        "# Initiate the pipeline with required components.You can use Pipeline class of sklearn -> https://scikit-learn.org/stable/modules/generated/sklearn.pipeline.Pipeline.html\n",
        "# There will be 2 components; 1) Word weightning 2) Logistic Regression classifier.\n",
        "\n",
        "pipeline = Pipeline([\n",
        "    ('vector', TfidfVectorizer()),\n",
        "    ('lr', LogisticRegression(solver = 'saga', random_state = 22, penalty='elasticnet'))\n",
        "])\n",
        "\n",
        "#Set the hyperparameter space that will be scanned.\n",
        "\n",
        "hyperparameterSpace = dict(\n",
        "    vector__min_df=[100, 500, 1000],\n",
        "    vector__ngram_range=[(1,1), (1,2), (1,3)],\n",
        "    lr__l1_ratio = [0.0,0.5,1])\n"
      ],
      "metadata": {
        "id": "M5ySIl3e552q"
      },
      "execution_count": null,
      "outputs": []
    },
    {
      "cell_type": "markdown",
      "source": [
        "#### **Binary Classification**"
      ],
      "metadata": {
        "id": "zTmaa_tHTWZ0"
      }
    },
    {
      "cell_type": "code",
      "source": [
        "%%time\n",
        "# Initialize and run the GridSearchCV to scan the hyperparameter and find the best hyperparameter set that will maximize the scoring option for binary classification.\n",
        "\n",
        "gridSearchBinaryLR = GridSearchCV(pipeline, \n",
        "                             hyperparameterSpace, \n",
        "                             verbose=1,\n",
        "                             n_jobs=20,\n",
        "                             scoring='f1_macro',\n",
        "                             cv=5)\n",
        "gridSearchBinaryLR.fit(binaryTrain['text'], binaryTrain['label'])"
      ],
      "metadata": {
        "id": "atCcPl1NTQWr",
        "colab": {
          "base_uri": "https://localhost:8080/"
        },
        "outputId": "7aa8af81-0c9d-42d6-9844-23ac0f5538ce"
      },
      "execution_count": null,
      "outputs": [
        {
          "output_type": "stream",
          "name": "stdout",
          "text": [
            "Fitting 5 folds for each of 27 candidates, totalling 135 fits\n",
            "CPU times: user 11.9 s, sys: 1.41 s, total: 13.3 s\n",
            "Wall time: 7min 3s\n"
          ]
        }
      ]
    },
    {
      "cell_type": "code",
      "source": [
        "# Report the standard deviation of split scores for each hyperparameter group.\n",
        "printDict = (pd.DataFrame(gridSearchBinaryLR.cv_results_)).to_dict()\n",
        "for i in range(27):\n",
        "  print(\"Hyperparameters: N =\", printDict['param_vector__min_df'][i],\"- n-gramRange =\", printDict['param_vector__ngram_range'][i], \"- l1-l2 ratio =\", printDict['param_lr__l1_ratio'][i] ,\"Scores: mean test score =\", printDict['mean_test_score'][i], \"- std test score =\", printDict['std_test_score'][i],\"- rank =\",printDict['rank_test_score'][i])\n",
        "\n",
        "# Show the best parameter set for given dataset and hyperparameter space.\n",
        "\n",
        "print(\"\\nBest Parameters:\")\n",
        "best_parameters_1 = gridSearchBinaryLR.best_estimator_.get_params()\n",
        "for param_name in sorted(hyperparameterSpace.keys()):\n",
        "    print(param_name,\"=\",best_parameters_1[param_name])\n"
      ],
      "metadata": {
        "id": "wFbVpU9wRngj",
        "colab": {
          "base_uri": "https://localhost:8080/"
        },
        "outputId": "4a4427d0-3639-4bd5-8100-cd319df03df4"
      },
      "execution_count": null,
      "outputs": [
        {
          "output_type": "stream",
          "name": "stdout",
          "text": [
            "Hyperparameters: N = 100 - n-gramRange = (1, 1) - l1-l2 ratio = 0.0 Scores: mean test score = 0.9141967424141935 - std test score = 0.0033253770513026887 - rank = 8\n",
            "Hyperparameters: N = 100 - n-gramRange = (1, 2) - l1-l2 ratio = 0.0 Scores: mean test score = 0.9209297929545597 - std test score = 0.003089427663532404 - rank = 3\n",
            "Hyperparameters: N = 100 - n-gramRange = (1, 3) - l1-l2 ratio = 0.0 Scores: mean test score = 0.9214156641626408 - std test score = 0.0027513660308108503 - rank = 1\n",
            "Hyperparameters: N = 500 - n-gramRange = (1, 1) - l1-l2 ratio = 0.0 Scores: mean test score = 0.8736958038084156 - std test score = 0.00611254381903551 - rank = 18\n",
            "Hyperparameters: N = 500 - n-gramRange = (1, 2) - l1-l2 ratio = 0.0 Scores: mean test score = 0.8787650753324815 - std test score = 0.003949624347553969 - rank = 12\n",
            "Hyperparameters: N = 500 - n-gramRange = (1, 3) - l1-l2 ratio = 0.0 Scores: mean test score = 0.8788329984755497 - std test score = 0.0035797619807451373 - rank = 11\n",
            "Hyperparameters: N = 1000 - n-gramRange = (1, 1) - l1-l2 ratio = 0.0 Scores: mean test score = 0.8341906690243789 - std test score = 0.00649064637841919 - rank = 25\n",
            "Hyperparameters: N = 1000 - n-gramRange = (1, 2) - l1-l2 ratio = 0.0 Scores: mean test score = 0.8357168008102995 - std test score = 0.007293236786227413 - rank = 23\n",
            "Hyperparameters: N = 1000 - n-gramRange = (1, 3) - l1-l2 ratio = 0.0 Scores: mean test score = 0.8357168008102995 - std test score = 0.007293236786227413 - rank = 23\n",
            "Hyperparameters: N = 100 - n-gramRange = (1, 1) - l1-l2 ratio = 0.5 Scores: mean test score = 0.9150995935800857 - std test score = 0.003571129498053592 - rank = 7\n",
            "Hyperparameters: N = 100 - n-gramRange = (1, 2) - l1-l2 ratio = 0.5 Scores: mean test score = 0.9206483858219873 - std test score = 0.003834283045345681 - rank = 4\n",
            "Hyperparameters: N = 100 - n-gramRange = (1, 3) - l1-l2 ratio = 0.5 Scores: mean test score = 0.9214110320952058 - std test score = 0.004435008566831465 - rank = 2\n",
            "Hyperparameters: N = 500 - n-gramRange = (1, 1) - l1-l2 ratio = 0.5 Scores: mean test score = 0.8755633647957088 - std test score = 0.00667619719524149 - rank = 17\n",
            "Hyperparameters: N = 500 - n-gramRange = (1, 2) - l1-l2 ratio = 0.5 Scores: mean test score = 0.878695885796113 - std test score = 0.005686727391696026 - rank = 13\n",
            "Hyperparameters: N = 500 - n-gramRange = (1, 3) - l1-l2 ratio = 0.5 Scores: mean test score = 0.8789030542049584 - std test score = 0.005723965432559284 - rank = 10\n",
            "Hyperparameters: N = 1000 - n-gramRange = (1, 1) - l1-l2 ratio = 0.5 Scores: mean test score = 0.8339781833639869 - std test score = 0.005346296070002106 - rank = 26\n",
            "Hyperparameters: N = 1000 - n-gramRange = (1, 2) - l1-l2 ratio = 0.5 Scores: mean test score = 0.8365430670495678 - std test score = 0.00764617356456056 - rank = 21\n",
            "Hyperparameters: N = 1000 - n-gramRange = (1, 3) - l1-l2 ratio = 0.5 Scores: mean test score = 0.8365430670495678 - std test score = 0.00764617356456056 - rank = 21\n",
            "Hyperparameters: N = 100 - n-gramRange = (1, 1) - l1-l2 ratio = 1 Scores: mean test score = 0.9121871227860325 - std test score = 0.0030102682519871065 - rank = 9\n",
            "Hyperparameters: N = 100 - n-gramRange = (1, 2) - l1-l2 ratio = 1 Scores: mean test score = 0.917598174510992 - std test score = 0.005026274066319816 - rank = 6\n",
            "Hyperparameters: N = 100 - n-gramRange = (1, 3) - l1-l2 ratio = 1 Scores: mean test score = 0.9178757251432469 - std test score = 0.004835455477334718 - rank = 5\n",
            "Hyperparameters: N = 500 - n-gramRange = (1, 1) - l1-l2 ratio = 1 Scores: mean test score = 0.8759160663904474 - std test score = 0.00728506793802496 - rank = 16\n",
            "Hyperparameters: N = 500 - n-gramRange = (1, 2) - l1-l2 ratio = 1 Scores: mean test score = 0.8778609370910242 - std test score = 0.005632477279858229 - rank = 15\n",
            "Hyperparameters: N = 500 - n-gramRange = (1, 3) - l1-l2 ratio = 1 Scores: mean test score = 0.878209491411096 - std test score = 0.005170712091567876 - rank = 14\n",
            "Hyperparameters: N = 1000 - n-gramRange = (1, 1) - l1-l2 ratio = 1 Scores: mean test score = 0.8336897875321279 - std test score = 0.0044075504316289675 - rank = 27\n",
            "Hyperparameters: N = 1000 - n-gramRange = (1, 2) - l1-l2 ratio = 1 Scores: mean test score = 0.8371021496562738 - std test score = 0.006699543211162617 - rank = 19\n",
            "Hyperparameters: N = 1000 - n-gramRange = (1, 3) - l1-l2 ratio = 1 Scores: mean test score = 0.8371021496562738 - std test score = 0.006699543211162617 - rank = 19\n",
            "\n",
            "Best Parameters:\n",
            "lr__l1_ratio = 0.0\n",
            "vector__min_df = 100\n",
            "vector__ngram_range = (1, 3)\n"
          ]
        }
      ]
    },
    {
      "cell_type": "code",
      "source": [
        "# Building the pipeline with the best parameter group and reporting Conf. Mat. and Results on the Test Set #\n",
        "\n",
        "# Create your Pipeline object with the best parameter set.\n",
        "\n",
        "pipelineBestBinaryLR = Pipeline([\n",
        "    ('vector', TfidfVectorizer(min_df = 100, ngram_range = (1, 3))),\n",
        "    ('lr', LogisticRegression(solver = 'saga', random_state = 22, penalty='elasticnet', l1_ratio = 0.0))\n",
        "])\n",
        "# Fit your pipeline on training set.\n",
        "\n",
        "pipelineBestBinaryLR.fit(binaryTrain['text'], binaryTrain['label'])\n",
        "\n",
        "# Take prediction and report the F1 and Accuracy scores for binary classification. Then show the confussion table.\n",
        "\n",
        "binaryPredictLabel = pipelineBestBinaryLR.predict(binaryTest['text'])\n",
        "\n",
        "print(\"f1 score is:\", f1_score(binaryTest['label'], binaryPredictLabel, average='macro'))\n",
        "print(\"accuracy score is:\", accuracy_score(binaryTest['label'], binaryPredictLabel))\n",
        "print(\"confusion matrix:\\n\", confusion_matrix(binaryTest['label'], binaryPredictLabel))"
      ],
      "metadata": {
        "id": "KZcl4TO4Rm-3",
        "colab": {
          "base_uri": "https://localhost:8080/"
        },
        "outputId": "c9f1fc57-046c-4e89-ce1b-ba142bdd7861"
      },
      "execution_count": null,
      "outputs": [
        {
          "output_type": "stream",
          "name": "stdout",
          "text": [
            "f1 score is: 0.9233895509632577\n",
            "accuracy score is: 0.9234149403640929\n",
            "confusion matrix:\n",
            " [[721  52]\n",
            " [ 70 750]]\n"
          ]
        }
      ]
    },
    {
      "cell_type": "markdown",
      "source": [
        "#### **Multi-Classification**"
      ],
      "metadata": {
        "id": "xgy8BLNaTRfZ"
      }
    },
    {
      "cell_type": "code",
      "source": [
        "%%time\n",
        "# Initialize and run the GridSearchCV to scan the hyperparameter and find the best hyperparameter set that will maximize the scoring option for multiclass classification.\n",
        "\n",
        "gridSearchMultiLR = GridSearchCV(pipeline, \n",
        "                             hyperparameterSpace, \n",
        "                             verbose=1,\n",
        "                             n_jobs=20,\n",
        "                             scoring='f1_macro',\n",
        "                             cv=5)\n",
        "gridSearchMultiLR.fit(multiTrain['text'], multiTrain['label'])"
      ],
      "metadata": {
        "id": "kRYqtWiP2Gg6",
        "colab": {
          "base_uri": "https://localhost:8080/"
        },
        "outputId": "cd0760a3-836b-46e7-dc3e-38f31e0b73ee"
      },
      "execution_count": null,
      "outputs": [
        {
          "output_type": "stream",
          "name": "stdout",
          "text": [
            "Fitting 5 folds for each of 27 candidates, totalling 135 fits\n",
            "CPU times: user 42.8 s, sys: 2.8 s, total: 45.6 s\n",
            "Wall time: 18min 42s\n"
          ]
        }
      ]
    },
    {
      "cell_type": "code",
      "source": [
        "# Report the standard deviation of split scores for each hyperparameter group.\n",
        "printDict = (pd.DataFrame(gridSearchMultiLR.cv_results_)).to_dict()\n",
        "for i in range(27):\n",
        "  print(\"Hyperparameters: N =\", printDict['param_vector__min_df'][i],\"- n-gramRange =\", printDict['param_vector__ngram_range'][i], \"- l1-l2 ratio =\", printDict['param_lr__l1_ratio'][i] ,\"Scores: mean test score =\", printDict['mean_test_score'][i], \"- std test score =\", printDict['std_test_score'][i],\"- rank =\",printDict['rank_test_score'][i])\n",
        "\n",
        "# Show the best parameter set for given dataset and hyperparameter space.\n",
        "\n",
        "print(\"\\nBest Parameters:\")\n",
        "best_parameters_1 = gridSearchMultiLR.best_estimator_.get_params()\n",
        "for param_name in sorted(hyperparameterSpace.keys()):\n",
        "    print(param_name,\"=\",best_parameters_1[param_name])\n"
      ],
      "metadata": {
        "colab": {
          "base_uri": "https://localhost:8080/"
        },
        "id": "YjMeHdEjahj5",
        "outputId": "6da0362c-7460-4a92-ee52-14b77e657b56"
      },
      "execution_count": null,
      "outputs": [
        {
          "output_type": "stream",
          "name": "stdout",
          "text": [
            "Hyperparameters: N = 100 - n-gramRange = (1, 1) - l1-l2 ratio = 0.0 Scores: mean test score = 0.5416618338371089 - std test score = 0.005805592868518486 - rank = 9\n",
            "Hyperparameters: N = 100 - n-gramRange = (1, 2) - l1-l2 ratio = 0.0 Scores: mean test score = 0.5562729967815376 - std test score = 0.010044416103573957 - rank = 5\n",
            "Hyperparameters: N = 100 - n-gramRange = (1, 3) - l1-l2 ratio = 0.0 Scores: mean test score = 0.5566705369095434 - std test score = 0.011727431863942709 - rank = 4\n",
            "Hyperparameters: N = 500 - n-gramRange = (1, 1) - l1-l2 ratio = 0.0 Scores: mean test score = 0.5251975925814399 - std test score = 0.004425551067426743 - rank = 16\n",
            "Hyperparameters: N = 500 - n-gramRange = (1, 2) - l1-l2 ratio = 0.0 Scores: mean test score = 0.5219852601911252 - std test score = 0.008306804356426174 - rank = 18\n",
            "Hyperparameters: N = 500 - n-gramRange = (1, 3) - l1-l2 ratio = 0.0 Scores: mean test score = 0.522060323311566 - std test score = 0.007868707355215748 - rank = 17\n",
            "Hyperparameters: N = 1000 - n-gramRange = (1, 1) - l1-l2 ratio = 0.0 Scores: mean test score = 0.4934662813034575 - std test score = 0.007877278202828937 - rank = 27\n",
            "Hyperparameters: N = 1000 - n-gramRange = (1, 2) - l1-l2 ratio = 0.0 Scores: mean test score = 0.49569676861892453 - std test score = 0.004335294700273666 - rank = 22\n",
            "Hyperparameters: N = 1000 - n-gramRange = (1, 3) - l1-l2 ratio = 0.0 Scores: mean test score = 0.49569676861892453 - std test score = 0.004335294700273666 - rank = 22\n",
            "Hyperparameters: N = 100 - n-gramRange = (1, 1) - l1-l2 ratio = 0.5 Scores: mean test score = 0.5453931540538309 - std test score = 0.0041553119145892395 - rank = 7\n",
            "Hyperparameters: N = 100 - n-gramRange = (1, 2) - l1-l2 ratio = 0.5 Scores: mean test score = 0.5591888670026015 - std test score = 0.008748261406297688 - rank = 2\n",
            "Hyperparameters: N = 100 - n-gramRange = (1, 3) - l1-l2 ratio = 0.5 Scores: mean test score = 0.5592242436305215 - std test score = 0.00823021565383632 - rank = 1\n",
            "Hyperparameters: N = 500 - n-gramRange = (1, 1) - l1-l2 ratio = 0.5 Scores: mean test score = 0.5259551932945594 - std test score = 0.005534424301390551 - rank = 15\n",
            "Hyperparameters: N = 500 - n-gramRange = (1, 2) - l1-l2 ratio = 0.5 Scores: mean test score = 0.5284230177336615 - std test score = 0.00829774658721856 - rank = 11\n",
            "Hyperparameters: N = 500 - n-gramRange = (1, 3) - l1-l2 ratio = 0.5 Scores: mean test score = 0.5288275866129676 - std test score = 0.007162585427968264 - rank = 10\n",
            "Hyperparameters: N = 1000 - n-gramRange = (1, 1) - l1-l2 ratio = 0.5 Scores: mean test score = 0.49452210872231495 - std test score = 0.0077310462884096435 - rank = 26\n",
            "Hyperparameters: N = 1000 - n-gramRange = (1, 2) - l1-l2 ratio = 0.5 Scores: mean test score = 0.4965185836088959 - std test score = 0.005720453899401477 - rank = 19\n",
            "Hyperparameters: N = 1000 - n-gramRange = (1, 3) - l1-l2 ratio = 0.5 Scores: mean test score = 0.4965185836088959 - std test score = 0.005720453899401477 - rank = 19\n",
            "Hyperparameters: N = 100 - n-gramRange = (1, 1) - l1-l2 ratio = 1 Scores: mean test score = 0.5443121987489017 - std test score = 0.00527626852668353 - rank = 8\n",
            "Hyperparameters: N = 100 - n-gramRange = (1, 2) - l1-l2 ratio = 1 Scores: mean test score = 0.557107587967999 - std test score = 0.00821277035108247 - rank = 3\n",
            "Hyperparameters: N = 100 - n-gramRange = (1, 3) - l1-l2 ratio = 1 Scores: mean test score = 0.5555244991607446 - std test score = 0.007567936549723045 - rank = 6\n",
            "Hyperparameters: N = 500 - n-gramRange = (1, 1) - l1-l2 ratio = 1 Scores: mean test score = 0.5267407982603798 - std test score = 0.00482242807902815 - rank = 14\n",
            "Hyperparameters: N = 500 - n-gramRange = (1, 2) - l1-l2 ratio = 1 Scores: mean test score = 0.5272331921395642 - std test score = 0.005781869515982623 - rank = 13\n",
            "Hyperparameters: N = 500 - n-gramRange = (1, 3) - l1-l2 ratio = 1 Scores: mean test score = 0.5277047955913818 - std test score = 0.004965645911951698 - rank = 12\n",
            "Hyperparameters: N = 1000 - n-gramRange = (1, 1) - l1-l2 ratio = 1 Scores: mean test score = 0.49613792482693314 - std test score = 0.008417887894004283 - rank = 21\n",
            "Hyperparameters: N = 1000 - n-gramRange = (1, 2) - l1-l2 ratio = 1 Scores: mean test score = 0.4951151854305264 - std test score = 0.007196736435958739 - rank = 24\n",
            "Hyperparameters: N = 1000 - n-gramRange = (1, 3) - l1-l2 ratio = 1 Scores: mean test score = 0.4951151854305264 - std test score = 0.007196736435958739 - rank = 24\n",
            "\n",
            "Best Parameters:\n",
            "lr__l1_ratio = 0.5\n",
            "vector__min_df = 100\n",
            "vector__ngram_range = (1, 3)\n"
          ]
        }
      ]
    },
    {
      "cell_type": "code",
      "source": [
        "# Building the pipeline with the best parameter group and reporting Conf. Mat. and Results on the Test Set #\n",
        "\n",
        "# Create your Pipeline object with the best parameter set.\n",
        "\n",
        "pipelineBestMultiLR = Pipeline([\n",
        "    ('vector', TfidfVectorizer(min_df = 100, ngram_range = (1, 3))),\n",
        "    ('lr', LogisticRegression(solver = 'saga', random_state = 22, penalty='elasticnet', l1_ratio = 0.5))\n",
        "])\n",
        "# Fit your pipeline on training set.\n",
        "\n",
        "pipelineBestMultiLR.fit(multiTrain['text'], multiTrain['label'])\n",
        "\n",
        "# Take prediction and report the F1 and Accuracy scores for multiclassification. Then show the confussion table.\n",
        "\n",
        "multiPredictLabel = pipelineBestMultiLR.predict(multiTest['text'])\n",
        "\n",
        "print(\"f1 score is:\", f1_score(multiTest['label'], multiPredictLabel, average='macro'))\n",
        "print(\"accuracy score is:\", accuracy_score(multiTest['label'], multiPredictLabel))\n",
        "print(\"confusion matrix:\\n\", confusion_matrix(multiTest['label'], multiPredictLabel))"
      ],
      "metadata": {
        "colab": {
          "base_uri": "https://localhost:8080/"
        },
        "id": "Ma9qhnu-agke",
        "outputId": "ea518915-4ad9-4d75-fa77-5af762cebb4f"
      },
      "execution_count": null,
      "outputs": [
        {
          "output_type": "stream",
          "name": "stdout",
          "text": [
            "f1 score is: 0.5586274047445283\n",
            "accuracy score is: 0.5635\n",
            "confusion matrix:\n",
            " [[291  72  15   7   8]\n",
            " [ 90 188  73  13  16]\n",
            " [ 21  76 198  90  22]\n",
            " [ 13  26  75 160 105]\n",
            " [ 11   9  13 118 290]]\n"
          ]
        }
      ]
    },
    {
      "cell_type": "markdown",
      "source": [
        "## Neural Models"
      ],
      "metadata": {
        "id": "ISxrqFKrh8Rb"
      }
    },
    {
      "cell_type": "markdown",
      "source": [
        "***Resources that are used to implement neural models in this section:***\n",
        "\n",
        "Raihan, D. (2021, April 13). Deep learning techniques for text classification. Medium. Retrieved May 5, 2022, from https://towardsdatascience.com/deep-learning-techniques-for-text-classification-78d9dc40bf7c \n",
        "\n",
        "\n",
        "\n",
        "\n",
        "Mwiti, D. (2021, June 16). NLP essential guide: Convolutional Neural Network for sentence classification. cnvrg. Retrieved May 6, 2022, from https://cnvrg.io/cnn-sentence-classification/"
      ],
      "metadata": {
        "id": "21uxa-rCafMt"
      }
    },
    {
      "cell_type": "markdown",
      "source": [
        "### Convolutional Neural Network (CNN)"
      ],
      "metadata": {
        "id": "87S_VWH9h-JQ"
      }
    },
    {
      "cell_type": "code",
      "source": [
        "# importing necessary libraries\n",
        "import pandas as pd\n",
        "import numpy as np\n",
        "import nltk,re\n",
        "import tensorflow as tf\n",
        "from sklearn.model_selection import train_test_split\n",
        "from numpy import array,asarray,zeros\n",
        "\n",
        "from nltk.stem import PorterStemmer\n",
        "from nltk.tokenize import sent_tokenize\n",
        "import nltk\n",
        "nltk.download('punkt')\n",
        "\n",
        "import keras\n",
        "from keras.preprocessing.text import Tokenizer\n",
        "from keras.preprocessing.sequence import pad_sequences\n",
        "\n",
        "from keras.models import Sequential\n",
        "from keras.layers.convolutional import Conv1D,MaxPooling1D\n",
        "from keras.layers import Dense,Flatten,Embedding,Input,Dropout\n",
        "from keras.callbacks import ModelCheckpoint\n",
        "from keras.constraints import MaxNorm\n",
        "from keras import regularizers\n",
        "\n",
        "from gensim.models import Word2Vec\n",
        "import gensim.downloader as api"
      ],
      "metadata": {
        "id": "gw4QZK0biCrt",
        "colab": {
          "base_uri": "https://localhost:8080/"
        },
        "outputId": "848d935e-ade7-4edb-e2c4-4c8efe68b553"
      },
      "execution_count": null,
      "outputs": [
        {
          "output_type": "stream",
          "name": "stdout",
          "text": [
            "[nltk_data] Downloading package punkt to /root/nltk_data...\n",
            "[nltk_data]   Package punkt is already up-to-date!\n"
          ]
        }
      ]
    },
    {
      "cell_type": "code",
      "source": [
        "tf.test.gpu_device_name()"
      ],
      "metadata": {
        "colab": {
          "base_uri": "https://localhost:8080/",
          "height": 37
        },
        "id": "oEUF3-VARpeS",
        "outputId": "2b2d5f60-7af3-4e46-8e1d-6d21b56aeaee"
      },
      "execution_count": null,
      "outputs": [
        {
          "output_type": "execute_result",
          "data": {
            "text/plain": [
              "'/device:GPU:0'"
            ],
            "application/vnd.google.colaboratory.intrinsic+json": {
              "type": "string"
            }
          },
          "metadata": {},
          "execution_count": 13
        }
      ]
    },
    {
      "cell_type": "code",
      "source": [
        "# I am repeating the data creation here because I used stemmer on data for the NB and LR methods\n",
        "\n",
        "# Binary and multiclass datasets for CNN\n",
        "binaryTrainCNN = train_original.copy(deep=True)\n",
        "binaryTestCNN = test_original.copy(deep=True)\n",
        "\n",
        "multiTrainCNN = train_original.copy(deep=True)\n",
        "multiTestCNN = test_original.copy(deep=True)\n",
        "\n",
        "# For binary dataset, get rid of the class 3 in the dataset and map class 1 and 2 to 0, and class 4 and 5 to 1\n",
        "binaryTrainCNN['label'] = binaryTrainCNN['label'].map({1: 0, 2: 0, 3: np.nan, 4: 1, 5: 1})\n",
        "binaryTestCNN['label'] = binaryTestCNN['label'].map({1: 0, 2: 0, 3: np.nan, 4: 1, 5: 1})\n",
        "binaryTrainCNN.dropna(inplace=True)\n",
        "binaryTestCNN.dropna(inplace=True)\n",
        "binaryTrainCNN = binaryTrainCNN.astype({'label': 'int64'})\n",
        "binaryTestCNN = binaryTestCNN.astype({'label': 'int64'})\n",
        "\n",
        "# For multiclass dataset, make sure your classes starts from 0 and goes until 4. (5->4, 4->3, 3->2, 2->1, 1->0)\n",
        "multiTrainCNN['label'] = multiTrainCNN['label'].map({1: 0, 2: 1, 3: 2, 4: 3, 5: 4})\n",
        "multiTestCNN['label'] = multiTestCNN['label'].map({1: 0, 2: 1, 3: 2, 4: 3, 5: 4})\n",
        "multiTrainCNN = multiTrainCNN.astype({'label': 'int64'})\n",
        "multiTestCNN = multiTestCNN.astype({'label': 'int64'})"
      ],
      "metadata": {
        "id": "vbj5NGv6SH3J"
      },
      "execution_count": null,
      "outputs": []
    },
    {
      "cell_type": "markdown",
      "source": [
        "#### **Binary Classification**"
      ],
      "metadata": {
        "id": "H-bwMCunLRBK"
      }
    },
    {
      "cell_type": "code",
      "source": [
        "# Create a validation set from train set\n",
        "# Please use random_state of 22 and test_size of 0.1\n",
        "\n",
        "X_train, X_val, y_train, y_val = train_test_split(binaryTrainCNN['text'],binaryTrainCNN['label'], test_size = 0.1, random_state = 22)\n",
        "\n",
        "X_train.shape, X_val.shape, y_train.shape, y_val.shape"
      ],
      "metadata": {
        "id": "pwnZjYetJwO7",
        "colab": {
          "base_uri": "https://localhost:8080/"
        },
        "outputId": "a306c001-1f65-442d-d84a-02e592e4fde0"
      },
      "execution_count": null,
      "outputs": [
        {
          "output_type": "execute_result",
          "data": {
            "text/plain": [
              "((12966,), (1441,), (12966,), (1441,))"
            ]
          },
          "metadata": {},
          "execution_count": 56
        }
      ]
    },
    {
      "cell_type": "code",
      "source": [
        "def maxlength(sequences): # finding the max length of an element from sequences\n",
        "    max_len = 0\n",
        "    for i, seq in enumerate(sequences):\n",
        "        length = len(seq)\n",
        "        if max_len < length:\n",
        "            max_len = length\n",
        "    return max_len"
      ],
      "metadata": {
        "id": "LXvAwXIOiDmo"
      },
      "execution_count": null,
      "outputs": []
    },
    {
      "cell_type": "code",
      "source": [
        "# Prepare the dataset for CNN classifier\n",
        "\n",
        "# Cleaning and Tokenization\n",
        "tokenizer = Tokenizer(oov_token=\"<UNK>\")\n",
        "tokenizer.fit_on_texts(X_train)\n",
        "\n",
        "# Turning the text into sequences\n",
        "training_sequences = tokenizer.texts_to_sequences(X_train)\n",
        "val_sequences = tokenizer.texts_to_sequences(X_val)\n",
        "test_sequences = tokenizer.texts_to_sequences(binaryTestCNN['text'])\n",
        "\n",
        "max_len = maxlength(training_sequences)\n",
        "\n",
        "# Padding the sequences to have the same size\n",
        "training_padded = pad_sequences(training_sequences, maxlen=max_len, padding='post', truncating='post')\n",
        "val_padded = pad_sequences(val_sequences, maxlen=max_len, padding='post', truncating='post')\n",
        "test_padded = pad_sequences(test_sequences, maxlen=max_len, padding='post', truncating='post')\n",
        "\n",
        "# tokenizing\n",
        "word_index = tokenizer.word_index\n",
        "\n",
        "# vocabulary size (+1 due to 0 indexing)\n",
        "vocab_size = len(word_index)+1"
      ],
      "metadata": {
        "id": "0sGrZcF8ZIZg"
      },
      "execution_count": null,
      "outputs": []
    },
    {
      "cell_type": "markdown",
      "source": [
        "##### **CNN-Rand**"
      ],
      "metadata": {
        "id": "1L-VPkrem12k"
      }
    },
    {
      "cell_type": "code",
      "source": [
        "class myCallback(keras.callbacks.Callback):\n",
        "    # Overriding the method on_epoch_end() to prevent overfitting (especially for embedding layer)\n",
        "    def on_epoch_end(self, epoch, logs={}):\n",
        "        if (logs.get('accuracy') > 0.93):\n",
        "            print(\"\\nReached 93% accuracy so cancelling training!\")\n",
        "            self.model.stop_training=True\n",
        "\n",
        "\n",
        "callbacks = keras.callbacks.EarlyStopping(monitor='val_accuracy', min_delta=0, \n",
        "                                             patience=5, verbose=2, \n",
        "                                             mode='auto', restore_best_weights=True)"
      ],
      "metadata": {
        "id": "2fhHpizuVLOW"
      },
      "execution_count": null,
      "outputs": []
    },
    {
      "cell_type": "markdown",
      "source": [
        "###### **`Convolution`:** *filters* = 50, *kernel_size* = 2 **||** **`Dense`:** *units* = 7"
      ],
      "metadata": {
        "id": "dSlnw5jV7TsA"
      }
    },
    {
      "cell_type": "code",
      "source": [
        "# Create Embedding Matrices and Layers\n",
        "CNNRand_0 = Sequential([\n",
        "    Embedding(input_dim=vocab_size, # random embedding layer\n",
        "                              output_dim=100, # output dimensions of embedding layer\n",
        "                              input_length=max_len, # input length of embedding layer\n",
        "                              input_shape=(max_len,)), # input shape of embedding layer\n",
        "    Conv1D(filters = 50, kernel_size = 2, activation = \"relu\", kernel_constraint = MaxNorm(max_value=3, axis=[0,1]), kernel_initializer='he_normal'), # convolution layer\n",
        "    MaxPooling1D(2), # pooling operation\n",
        "    Flatten(), # flattening the cells for dropout operation\n",
        "    Dropout(0.5), # dropout half of the cells\n",
        "    Dense(7, activation=\"relu\", kernel_constraint = MaxNorm(max_value=3, axis=0)), # fully connected dense layer\n",
        "    Dropout(0.5),\n",
        "    Dense(units=1, activation='sigmoid') # output layer with binary prediction probabilities\n",
        "])\n",
        "\n",
        "CNNRand_0.compile(loss = 'binary_crossentropy', optimizer = 'adam', metrics = ['accuracy']) # compiling the model\n",
        "\n",
        "# Train the model\n",
        "CNNRand_0.fit(training_padded, y_train, batch_size = 50, epochs = 15, verbose = 1, validation_data=(val_padded, y_val), callbacks=[callbacks])"
      ],
      "metadata": {
        "colab": {
          "base_uri": "https://localhost:8080/"
        },
        "id": "jQEjem077bdS",
        "outputId": "075f7d25-95f0-4590-c1a9-938f87d1ee2f"
      },
      "execution_count": null,
      "outputs": [
        {
          "output_type": "stream",
          "name": "stdout",
          "text": [
            "Epoch 1/15\n",
            "260/260 [==============================] - 6s 20ms/step - loss: 0.6154 - accuracy: 0.6275 - val_loss: 0.3510 - val_accuracy: 0.9070\n",
            "Epoch 2/15\n",
            "260/260 [==============================] - 5s 18ms/step - loss: 0.4002 - accuracy: 0.8046 - val_loss: 0.2479 - val_accuracy: 0.9202\n",
            "Epoch 3/15\n",
            "260/260 [==============================] - 5s 18ms/step - loss: 0.3340 - accuracy: 0.8389 - val_loss: 0.2122 - val_accuracy: 0.9313\n",
            "Epoch 4/15\n",
            "260/260 [==============================] - 5s 18ms/step - loss: 0.2654 - accuracy: 0.8994 - val_loss: 0.2276 - val_accuracy: 0.9306\n",
            "Epoch 5/15\n",
            "260/260 [==============================] - 5s 18ms/step - loss: 0.2337 - accuracy: 0.9123 - val_loss: 0.2215 - val_accuracy: 0.9244\n",
            "Epoch 6/15\n",
            "260/260 [==============================] - 5s 18ms/step - loss: 0.1940 - accuracy: 0.9215 - val_loss: 0.2520 - val_accuracy: 0.9167\n",
            "Epoch 7/15\n",
            "260/260 [==============================] - 5s 18ms/step - loss: 0.1652 - accuracy: 0.9226 - val_loss: 0.2500 - val_accuracy: 0.9174\n",
            "Epoch 8/15\n",
            "260/260 [==============================] - 5s 18ms/step - loss: 0.1537 - accuracy: 0.9259 - val_loss: 0.2778 - val_accuracy: 0.9244\n",
            "Epoch 9/15\n",
            "260/260 [==============================] - 5s 19ms/step - loss: 0.1411 - accuracy: 0.9321 - val_loss: 0.3089 - val_accuracy: 0.9202\n",
            "Epoch 10/15\n",
            "260/260 [==============================] - 5s 18ms/step - loss: 0.1431 - accuracy: 0.9290 - val_loss: 0.2960 - val_accuracy: 0.9244\n",
            "Epoch 11/15\n",
            "260/260 [==============================] - 5s 18ms/step - loss: 0.1345 - accuracy: 0.9337 - val_loss: 0.3516 - val_accuracy: 0.9153\n",
            "Epoch 12/15\n",
            "260/260 [==============================] - 5s 19ms/step - loss: 0.1319 - accuracy: 0.9330 - val_loss: 0.3925 - val_accuracy: 0.9139\n",
            "Epoch 13/15\n",
            "259/260 [============================>.] - ETA: 0s - loss: 0.1350 - accuracy: 0.9322Restoring model weights from the end of the best epoch: 3.\n",
            "260/260 [==============================] - 5s 19ms/step - loss: 0.1351 - accuracy: 0.9322 - val_loss: 0.3782 - val_accuracy: 0.9133\n",
            "Epoch 13: early stopping\n"
          ]
        },
        {
          "output_type": "execute_result",
          "data": {
            "text/plain": [
              "<keras.callbacks.History at 0x7f5684075550>"
            ]
          },
          "metadata": {},
          "execution_count": 116
        }
      ]
    },
    {
      "cell_type": "code",
      "source": [
        "# Evaluate the model\n",
        "print(\"### Evaluation on Train Data ###\")\n",
        "loss, acc = CNNRand_0.evaluate(training_padded, y_train, verbose=0)\n",
        "print(\"Loss in training data: \", loss, \"\\nAccuracy in training data: \", acc, sep = \"\")\n",
        "\n",
        "print(\"\\n### Evaluation on Validation Data ###\")\n",
        "loss, acc = CNNRand_0.evaluate(val_padded, y_val, verbose=0)\n",
        "print(\"Loss in validation data: \", loss, \"\\nAccuracy in validation data: \", acc, sep = \"\")\n",
        "\n",
        "print(\"\\n### Evaluation on Test Data ###\")\n",
        "prediction_CNNRand_0 = (CNNRand_0.predict(test_padded) > 0.5).astype(\"int32\")\n",
        "print(\"F1-score on test data is:\", f1_score(binaryTestCNN['label'], prediction_CNNRand_0, average='weighted'))\n",
        "print(\"Accuracy on test data is:\", accuracy_score(binaryTestCNN['label'], prediction_CNNRand_0))\n",
        "print(\"Confusion matrix for test data:\\n\", confusion_matrix(binaryTestCNN['label'], prediction_CNNRand_0))"
      ],
      "metadata": {
        "colab": {
          "base_uri": "https://localhost:8080/"
        },
        "id": "QGAchz798DX_",
        "outputId": "af74d1f4-6201-406e-efaa-e7bc28dc0ca8"
      },
      "execution_count": null,
      "outputs": [
        {
          "output_type": "stream",
          "name": "stdout",
          "text": [
            "### Evaluation on Train Data ###\n",
            "Loss in training data: 0.12318240106105804\n",
            "Accuracy in training data: 0.978482186794281\n",
            "\n",
            "### Evaluation on Validation Data ###\n",
            "Loss in validation data: 0.2122390866279602\n",
            "Accuracy in validation data: 0.9312977194786072\n",
            "\n",
            "### Evaluation on Test Data ###\n",
            "F1-score on test data is: 0.9039357032141686\n",
            "Accuracy on test data is: 0.903954802259887\n",
            "Confusion matrix for test data:\n",
            " [[692  81]\n",
            " [ 72 748]]\n"
          ]
        }
      ]
    },
    {
      "cell_type": "markdown",
      "source": [
        "###### **`Convolution`:** *filters* = 100, *kernel_size* = 3 **||** **`Dense`:** *units* = 30"
      ],
      "metadata": {
        "id": "zSykk8vM_fE4"
      }
    },
    {
      "cell_type": "code",
      "source": [
        "# Create Embedding Matrices and Layers\n",
        "# Architecture is the same as the CNN model above\n",
        "# notice different filter number, kernel size and dense fully connected layer units \n",
        "CNNRand_1 = Sequential([\n",
        "    Embedding(input_dim=vocab_size, # random embedding layer\n",
        "                              output_dim=100, \n",
        "                              input_length=max_len, \n",
        "                              input_shape=(max_len,)),\n",
        "    Conv1D(filters = 100, kernel_size = 3, activation = \"relu\", kernel_constraint = MaxNorm(max_value=3, axis=[0,1]), kernel_initializer='he_normal'),\n",
        "    MaxPooling1D(2),\n",
        "    Flatten(),\n",
        "    Dropout(0.5),\n",
        "    Dense(30, activation=\"relu\", kernel_constraint = MaxNorm(max_value=3, axis=0)),\n",
        "    Dropout(0.5),\n",
        "    Dense(units=1, activation='sigmoid')\n",
        "])\n",
        "\n",
        "CNNRand_1.compile(loss = 'binary_crossentropy', optimizer = 'adam', metrics = ['accuracy'])\n",
        "\n",
        "# Train the model\n",
        "CNNRand_1.fit(training_padded, y_train, batch_size = 50, epochs = 15, verbose = 1, validation_data=(val_padded, y_val), callbacks=[callbacks])\n"
      ],
      "metadata": {
        "id": "mxGNdIM9m1Y8",
        "colab": {
          "base_uri": "https://localhost:8080/"
        },
        "outputId": "e7ca3df5-154a-4878-fe7b-62d5fa27e079"
      },
      "execution_count": null,
      "outputs": [
        {
          "output_type": "stream",
          "name": "stdout",
          "text": [
            "Epoch 1/15\n",
            "260/260 [==============================] - 4s 13ms/step - loss: 0.4460 - accuracy: 0.7756 - val_loss: 0.2228 - val_accuracy: 0.9153\n",
            "Epoch 2/15\n",
            "260/260 [==============================] - 3s 12ms/step - loss: 0.1717 - accuracy: 0.9427 - val_loss: 0.1851 - val_accuracy: 0.9306\n",
            "Epoch 3/15\n",
            "260/260 [==============================] - 3s 12ms/step - loss: 0.0896 - accuracy: 0.9754 - val_loss: 0.2520 - val_accuracy: 0.9237\n",
            "Epoch 4/15\n",
            "260/260 [==============================] - 3s 12ms/step - loss: 0.0501 - accuracy: 0.9868 - val_loss: 0.2874 - val_accuracy: 0.9251\n",
            "Epoch 5/15\n",
            "260/260 [==============================] - 3s 12ms/step - loss: 0.0370 - accuracy: 0.9901 - val_loss: 0.3010 - val_accuracy: 0.9244\n",
            "Epoch 6/15\n",
            "260/260 [==============================] - 3s 12ms/step - loss: 0.0308 - accuracy: 0.9921 - val_loss: 0.3501 - val_accuracy: 0.9278\n",
            "Epoch 7/15\n",
            "260/260 [==============================] - 3s 12ms/step - loss: 0.0312 - accuracy: 0.9916 - val_loss: 0.3659 - val_accuracy: 0.9244\n",
            "Epoch 8/15\n",
            "260/260 [==============================] - 3s 12ms/step - loss: 0.0219 - accuracy: 0.9943 - val_loss: 0.4086 - val_accuracy: 0.9230\n",
            "Epoch 9/15\n",
            "260/260 [==============================] - 3s 12ms/step - loss: 0.0199 - accuracy: 0.9949 - val_loss: 0.4155 - val_accuracy: 0.9285\n",
            "Epoch 10/15\n",
            "260/260 [==============================] - 3s 13ms/step - loss: 0.0192 - accuracy: 0.9958 - val_loss: 0.4346 - val_accuracy: 0.9230\n",
            "Epoch 11/15\n",
            "260/260 [==============================] - 3s 12ms/step - loss: 0.0117 - accuracy: 0.9968 - val_loss: 0.5154 - val_accuracy: 0.9195\n",
            "Epoch 12/15\n",
            "256/260 [============================>.] - ETA: 0s - loss: 0.0106 - accuracy: 0.9973Restoring model weights from the end of the best epoch: 2.\n",
            "260/260 [==============================] - 3s 12ms/step - loss: 0.0110 - accuracy: 0.9972 - val_loss: 0.5038 - val_accuracy: 0.9251\n",
            "Epoch 12: early stopping\n"
          ]
        },
        {
          "output_type": "execute_result",
          "data": {
            "text/plain": [
              "<keras.callbacks.History at 0x7fae20356050>"
            ]
          },
          "metadata": {},
          "execution_count": 53
        }
      ]
    },
    {
      "cell_type": "code",
      "source": [
        "# Evaluate the model\n",
        "print(\"### Evaluation on Train Data ###\")\n",
        "loss, acc = CNNRand_1.evaluate(training_padded, y_train, verbose=0)\n",
        "print(\"Loss in training data: \", loss, \"\\nAccuracy in training data: \", acc, sep = \"\")\n",
        "\n",
        "print(\"\\n### Evaluation on Validation Data ###\")\n",
        "loss, acc = CNNRand_1.evaluate(val_padded, y_val, verbose=0)\n",
        "print(\"Loss in validation data: \", loss, \"\\nAccuracy in validation data: \", acc, sep = \"\")\n",
        "\n",
        "print(\"\\n### Evaluation on Test Data ###\")\n",
        "prediction_cnnRand_1 = (CNNRand_1.predict(test_padded) > 0.5).astype(\"int32\")\n",
        "print(\"F1-score on test data is:\", f1_score(binaryTestCNN['label'], prediction_cnnRand_1, average='weighted'))\n",
        "print(\"Accuracy on test data is:\", accuracy_score(binaryTestCNN['label'], prediction_cnnRand_1))\n",
        "print(\"Confusion matrix for test data:\\n\", confusion_matrix(binaryTestCNN['label'], prediction_cnnRand_1))"
      ],
      "metadata": {
        "id": "CamuyYETKN6X",
        "colab": {
          "base_uri": "https://localhost:8080/"
        },
        "outputId": "2be48ce4-385b-4f52-afe0-8c71ca8642b4"
      },
      "execution_count": null,
      "outputs": [
        {
          "output_type": "stream",
          "name": "stdout",
          "text": [
            "### Evaluation on Train Data ###\n",
            "Loss in training data: 0.06386244297027588\n",
            "Accuracy in training data: 0.9841123223304749\n",
            "\n",
            "### Evaluation on Validation Data ###\n",
            "Loss in validation data: 0.18505966663360596\n",
            "Accuracy in validation data: 0.9306037425994873\n",
            "\n",
            "### Evaluation on Test Data ###\n",
            "F1-score on test data is: 0.9133601303607689\n",
            "Accuracy on test data is: 0.9133709981167608\n",
            "Confusion matrix for test data:\n",
            " [[701  72]\n",
            " [ 66 754]]\n"
          ]
        }
      ]
    },
    {
      "cell_type": "markdown",
      "source": [
        "###### **`Convolution`:** *filters* = 300, *kernel_size* = 1 **||** **`Dense`:** *units* = 10"
      ],
      "metadata": {
        "id": "mZLTZuSejg6i"
      }
    },
    {
      "cell_type": "code",
      "source": [
        "# Create Embedding Matrices and Layers\n",
        "# Architecture is the same as the CNN model above\n",
        "# notice different filter number, kernel size and dense fully connected layer units \n",
        "CNNRand_2 = Sequential([\n",
        "    Embedding(input_dim=vocab_size, # random embedding layer\n",
        "                              output_dim=300, \n",
        "                              input_length=max_len, \n",
        "                              input_shape=(max_len,)),\n",
        "    Conv1D(filters = 300, kernel_size = 1, activation = \"relu\", kernel_constraint= MaxNorm(max_value=3, axis=[0,1]), kernel_initializer='he_normal'),\n",
        "    MaxPooling1D(2),\n",
        "    Flatten(),\n",
        "    Dropout(0.5),\n",
        "    Dense(10, activation=\"relu\", kernel_constraint = MaxNorm(max_value=3, axis=0)),\n",
        "    Dropout(0.5),\n",
        "    Dense(units=1, activation='sigmoid')\n",
        "])\n",
        "\n",
        "CNNRand_2.compile(loss = 'binary_crossentropy', optimizer = 'adam', metrics = ['accuracy'])\n",
        "\n",
        "# Train the model\n",
        "CNNRand_2.fit(training_padded, y_train, batch_size = 50, epochs = 15, verbose = 1, validation_data=(val_padded, y_val))"
      ],
      "metadata": {
        "colab": {
          "base_uri": "https://localhost:8080/"
        },
        "id": "6dPAxiX-jjlC",
        "outputId": "1e763dd3-5370-4177-ae0e-e04fa2cd1bd5"
      },
      "execution_count": null,
      "outputs": [
        {
          "output_type": "stream",
          "name": "stdout",
          "text": [
            "Epoch 1/15\n",
            "260/260 [==============================] - 33s 64ms/step - loss: 0.4688 - accuracy: 0.7561 - val_loss: 0.2110 - val_accuracy: 0.9195\n",
            "Epoch 2/15\n",
            "260/260 [==============================] - 16s 62ms/step - loss: 0.2041 - accuracy: 0.9270 - val_loss: 0.2063 - val_accuracy: 0.9167\n",
            "Epoch 3/15\n",
            "260/260 [==============================] - 16s 63ms/step - loss: 0.1309 - accuracy: 0.9566 - val_loss: 0.2292 - val_accuracy: 0.9098\n",
            "Epoch 4/15\n",
            "260/260 [==============================] - 16s 63ms/step - loss: 0.0917 - accuracy: 0.9702 - val_loss: 0.3121 - val_accuracy: 0.9084\n",
            "Epoch 5/15\n",
            "260/260 [==============================] - 16s 63ms/step - loss: 0.0702 - accuracy: 0.9762 - val_loss: 0.3313 - val_accuracy: 0.9098\n",
            "Epoch 6/15\n",
            "260/260 [==============================] - 16s 63ms/step - loss: 0.0650 - accuracy: 0.9764 - val_loss: 0.4071 - val_accuracy: 0.9133\n",
            "Epoch 7/15\n",
            "260/260 [==============================] - 16s 63ms/step - loss: 0.0626 - accuracy: 0.9789 - val_loss: 0.4051 - val_accuracy: 0.9056\n",
            "Epoch 8/15\n",
            "260/260 [==============================] - 16s 63ms/step - loss: 0.0542 - accuracy: 0.9809 - val_loss: 0.4556 - val_accuracy: 0.9042\n",
            "Epoch 9/15\n",
            "260/260 [==============================] - 17s 64ms/step - loss: 0.0476 - accuracy: 0.9841 - val_loss: 0.4326 - val_accuracy: 0.9022\n",
            "Epoch 10/15\n",
            "260/260 [==============================] - 16s 63ms/step - loss: 0.0425 - accuracy: 0.9852 - val_loss: 0.4597 - val_accuracy: 0.9042\n",
            "Epoch 11/15\n",
            "260/260 [==============================] - 16s 63ms/step - loss: 0.0313 - accuracy: 0.9894 - val_loss: 0.6072 - val_accuracy: 0.9008\n",
            "Epoch 12/15\n",
            "260/260 [==============================] - 16s 63ms/step - loss: 0.0336 - accuracy: 0.9877 - val_loss: 0.5517 - val_accuracy: 0.9015\n",
            "Epoch 13/15\n",
            "260/260 [==============================] - 16s 63ms/step - loss: 0.0534 - accuracy: 0.9810 - val_loss: 0.5402 - val_accuracy: 0.8973\n",
            "Epoch 14/15\n",
            "260/260 [==============================] - 16s 63ms/step - loss: 0.0541 - accuracy: 0.9812 - val_loss: 0.5354 - val_accuracy: 0.8973\n",
            "Epoch 15/15\n",
            "260/260 [==============================] - 16s 63ms/step - loss: 0.0426 - accuracy: 0.9859 - val_loss: 0.5248 - val_accuracy: 0.8883\n"
          ]
        },
        {
          "output_type": "execute_result",
          "data": {
            "text/plain": [
              "<keras.callbacks.History at 0x7f57b0294f50>"
            ]
          },
          "metadata": {},
          "execution_count": 18
        }
      ]
    },
    {
      "cell_type": "code",
      "source": [
        "# Evaluate the model\n",
        "print(\"### Evaluation on Train Data ###\")\n",
        "loss, acc = CNNRand_2.evaluate(training_padded, y_train, verbose=0)\n",
        "print(\"Loss in training data: \", loss, \"\\nAccuracy in training data: \", acc, sep = \"\")\n",
        "\n",
        "print(\"\\n### Evaluation on Validation Data ###\")\n",
        "loss, acc = CNNRand_2.evaluate(val_padded, y_val, verbose=0)\n",
        "print(\"Loss in validation data: \", loss, \"\\nAccuracy in validation data: \", acc, sep = \"\")\n",
        "\n",
        "print(\"\\n### Evaluation on Test Data ###\")\n",
        "prediction_cnnRand_2 = (CNNRand_2.predict(test_padded) > 0.5).astype(\"int32\")\n",
        "print(\"F1-score on test data is:\", f1_score(binaryTestCNN['label'], prediction_cnnRand_2, average='weighted'))\n",
        "print(\"Accuracy on test data is:\", accuracy_score(binaryTestCNN['label'], prediction_cnnRand_2))\n",
        "print(\"Confusion matrix for test data:\\n\", confusion_matrix(binaryTestCNN['label'], prediction_cnnRand_2))"
      ],
      "metadata": {
        "colab": {
          "base_uri": "https://localhost:8080/"
        },
        "id": "RzY14RDvjt2W",
        "outputId": "ccaa6c81-f837-4827-adbb-258d6ad8e5f4"
      },
      "execution_count": null,
      "outputs": [
        {
          "output_type": "stream",
          "name": "stdout",
          "text": [
            "### Evaluation on Train Data ###\n",
            "Loss in training data: 0.006165036000311375\n",
            "Accuracy in training data: 0.998303234577179\n",
            "\n",
            "### Evaluation on Validation Data ###\n",
            "Loss in validation data: 0.5247946977615356\n",
            "Accuracy in validation data: 0.8882720470428467\n",
            "\n",
            "### Evaluation on Test Data ###\n",
            "F1-score on test data is: 0.8901674192334721\n",
            "Accuracy on test data is: 0.8901443816698054\n",
            "Confusion matrix for test data:\n",
            " [[695  78]\n",
            " [ 97 723]]\n"
          ]
        }
      ]
    },
    {
      "cell_type": "markdown",
      "source": [
        "##### **CNN-Static**"
      ],
      "metadata": {
        "id": "8ltkzdQTL9UH"
      }
    },
    {
      "cell_type": "markdown",
      "source": [
        "###### **`embedding:`** created from training set"
      ],
      "metadata": {
        "id": "IK4lCxwpiRqb"
      }
    },
    {
      "cell_type": "code",
      "source": [
        "def embeddingPreprocess(text: str): # preprocessing with lowercasing and punctuation removal\n",
        "    lowerText = text.lower() # lowercasing the text\n",
        "    sentences = nltk.sent_tokenize(lowerText) # lowered text is sentence tokenized\n",
        "    result = []\n",
        "    for sentence in sentences: # iterating over the sentences\n",
        "      temp = []\n",
        "      tokenized = nltk.word_tokenize(sentence) # word tokenizing on sentences\n",
        "      for token in tokenized:\n",
        "        if token.isalnum():\n",
        "          temp.append(token) # taking each word if it is not a punctuation etc.\n",
        "      result.append(temp)\n",
        "    return result # returning resulted list"
      ],
      "metadata": {
        "id": "YTEvGT9UaKc8"
      },
      "execution_count": null,
      "outputs": []
    },
    {
      "cell_type": "code",
      "source": [
        "# Create your own word embeddings from scratch\n",
        "\n",
        "# You can check https://radimrehurek.com/gensim/models/word2vec.html for training a word embeddings from scratch\n",
        "embeddingTrain = X_train.copy(deep = True)\n",
        "embeddingTrain = embeddingTrain.apply(embeddingPreprocess) # sentence tokenizing in each review\n",
        "sentenceTokenized = [item for sublist in embeddingTrain.to_list() for item in sublist] # each sentence in training list\n",
        "wordEmbedding = Word2Vec(sentences=sentenceTokenized, size=max_len, window=5, min_count=1, workers=4) # creating our own embeddings"
      ],
      "metadata": {
        "id": "tBO21smpUtbG"
      },
      "execution_count": null,
      "outputs": []
    },
    {
      "cell_type": "code",
      "source": [
        "own_embedding_matrix = np.zeros((len(word_index) + 1, max_len)) # embedding matrix consisting only the words in our training set\n",
        "for word, i in word_index.items():\n",
        "    if word in wordEmbedding:\n",
        "        # words not found in embedding index will be all-zeros.\n",
        "        own_embedding_matrix[i] = wordEmbedding[word]"
      ],
      "metadata": {
        "id": "eQ0ooyJTL-sX"
      },
      "execution_count": null,
      "outputs": []
    },
    {
      "cell_type": "code",
      "source": [
        "# Create Embedding Matrices and Layers\n",
        "# Architecture is the same as the CNN models above, only trainable difference\n",
        "\n",
        "CNNStatic_1 = Sequential([\n",
        "    Embedding(input_dim=vocab_size,\n",
        "                              output_dim=max_len, \n",
        "                              input_length=max_len, \n",
        "                              input_shape=(max_len,),\n",
        "                              weights = [own_embedding_matrix], # using embedding matrix created from scratch as weights\n",
        "                              trainable=False # trainable is false since we are implementing CNN-Static\n",
        "            ),\n",
        "    Conv1D(filters = 100, kernel_size = 3, activation = \"relu\", kernel_constraint= MaxNorm(max_value=3, axis=[0,1]), kernel_initializer='he_normal'),\n",
        "    MaxPooling1D(2),\n",
        "    Flatten(),\n",
        "    Dropout(0.5),\n",
        "    Dense(30, activation=\"relu\", kernel_constraint = MaxNorm(max_value=3, axis=0)),\n",
        "    Dropout(0.5),\n",
        "    Dense(units=1, activation='sigmoid')\n",
        "])\n",
        "\n",
        "CNNStatic_1.compile(loss = 'binary_crossentropy', optimizer = 'adam', metrics = ['accuracy'])\n",
        "\n",
        "# Train the model\n",
        "CNNStatic_1.fit(training_padded, y_train, batch_size = 50, epochs = 15, verbose = 1, validation_data=(val_padded, y_val))"
      ],
      "metadata": {
        "colab": {
          "base_uri": "https://localhost:8080/"
        },
        "id": "qFLAOc0WOPVT",
        "outputId": "9e50c7dc-7751-41ac-8d83-e8bfb8105354"
      },
      "execution_count": null,
      "outputs": [
        {
          "output_type": "stream",
          "name": "stdout",
          "text": [
            "Epoch 1/15\n",
            "260/260 [==============================] - 9s 34ms/step - loss: 0.5754 - accuracy: 0.6663 - val_loss: 0.4059 - val_accuracy: 0.8244\n",
            "Epoch 2/15\n",
            "260/260 [==============================] - 9s 33ms/step - loss: 0.4659 - accuracy: 0.7726 - val_loss: 0.3634 - val_accuracy: 0.8522\n",
            "Epoch 3/15\n",
            "260/260 [==============================] - 9s 33ms/step - loss: 0.4199 - accuracy: 0.8151 - val_loss: 0.3310 - val_accuracy: 0.8598\n",
            "Epoch 4/15\n",
            "260/260 [==============================] - 9s 33ms/step - loss: 0.3769 - accuracy: 0.8356 - val_loss: 0.3080 - val_accuracy: 0.8654\n",
            "Epoch 5/15\n",
            "260/260 [==============================] - 9s 34ms/step - loss: 0.3646 - accuracy: 0.8361 - val_loss: 0.3132 - val_accuracy: 0.8716\n",
            "Epoch 6/15\n",
            "260/260 [==============================] - 9s 33ms/step - loss: 0.3301 - accuracy: 0.8491 - val_loss: 0.2919 - val_accuracy: 0.8786\n",
            "Epoch 7/15\n",
            "260/260 [==============================] - 9s 33ms/step - loss: 0.3194 - accuracy: 0.8517 - val_loss: 0.2881 - val_accuracy: 0.8883\n",
            "Epoch 8/15\n",
            "260/260 [==============================] - 9s 34ms/step - loss: 0.3111 - accuracy: 0.8562 - val_loss: 0.2875 - val_accuracy: 0.8855\n",
            "Epoch 9/15\n",
            "260/260 [==============================] - 9s 33ms/step - loss: 0.2991 - accuracy: 0.8698 - val_loss: 0.2730 - val_accuracy: 0.8862\n",
            "Epoch 10/15\n",
            "260/260 [==============================] - 9s 33ms/step - loss: 0.2907 - accuracy: 0.8767 - val_loss: 0.2754 - val_accuracy: 0.8897\n",
            "Epoch 11/15\n",
            "260/260 [==============================] - 9s 34ms/step - loss: 0.2915 - accuracy: 0.8741 - val_loss: 0.2692 - val_accuracy: 0.8945\n",
            "Epoch 12/15\n",
            "260/260 [==============================] - 9s 34ms/step - loss: 0.2873 - accuracy: 0.8774 - val_loss: 0.2772 - val_accuracy: 0.8890\n",
            "Epoch 13/15\n",
            "260/260 [==============================] - 9s 33ms/step - loss: 0.2817 - accuracy: 0.8803 - val_loss: 0.2769 - val_accuracy: 0.8890\n",
            "Epoch 14/15\n",
            "260/260 [==============================] - 9s 34ms/step - loss: 0.2786 - accuracy: 0.8852 - val_loss: 0.2567 - val_accuracy: 0.8980\n",
            "Epoch 15/15\n",
            "260/260 [==============================] - 9s 33ms/step - loss: 0.2733 - accuracy: 0.8808 - val_loss: 0.2637 - val_accuracy: 0.8910\n"
          ]
        },
        {
          "output_type": "execute_result",
          "data": {
            "text/plain": [
              "<keras.callbacks.History at 0x7faed85f7c90>"
            ]
          },
          "metadata": {},
          "execution_count": 45
        }
      ]
    },
    {
      "cell_type": "code",
      "source": [
        "# Evaluate the model\n",
        "print(\"### Evaluation on Train Data ###\")\n",
        "loss, acc = CNNStatic_1.evaluate(training_padded, y_train, verbose=0)\n",
        "print(\"Loss in training data: \", loss, \"\\nAccuracy in training data: \", acc, sep = \"\")\n",
        "\n",
        "print(\"\\n### Evaluation on Validation Data ###\")\n",
        "loss, acc = CNNStatic_1.evaluate(val_padded, y_val, verbose=0)\n",
        "print(\"Loss in validation data: \", loss, \"\\nAccuracy in validation data: \", acc, sep = \"\")\n",
        "\n",
        "print(\"\\n### Evaluation on Test Data ###\")\n",
        "prediction_CNNStatic_1 = (CNNStatic_1.predict(test_padded) > 0.5).astype(\"int32\")\n",
        "print(\"F1-score on test data is:\", f1_score(binaryTestCNN['label'], prediction_CNNStatic_1, average='weighted'))\n",
        "print(\"Accuracy on test data is:\", accuracy_score(binaryTestCNN['label'], prediction_CNNStatic_1))\n",
        "print(\"Confusion matrix for test data:\\n\", confusion_matrix(binaryTestCNN['label'], prediction_CNNStatic_1))"
      ],
      "metadata": {
        "colab": {
          "base_uri": "https://localhost:8080/"
        },
        "id": "BQLHP92AVHB9",
        "outputId": "7e720b2b-69e9-4ae1-862e-7a8fe00c8ce6"
      },
      "execution_count": null,
      "outputs": [
        {
          "output_type": "stream",
          "name": "stdout",
          "text": [
            "### Evaluation on Train Data ###\n",
            "Loss in training data: 0.14621156454086304\n",
            "Accuracy in training data: 0.9450100064277649\n",
            "\n",
            "### Evaluation on Validation Data ###\n",
            "Loss in validation data: 0.2637028396129608\n",
            "Accuracy in validation data: 0.8910478949546814\n",
            "\n",
            "### Evaluation on Test Data ###\n",
            "F1-score on test data is: 0.8837930951075501\n",
            "Accuracy on test data is: 0.8838669177652229\n",
            "Confusion matrix for test data:\n",
            " [[669 104]\n",
            " [ 81 739]]\n"
          ]
        }
      ]
    },
    {
      "cell_type": "markdown",
      "source": [
        "###### **`embedding:`** imported from word2vec"
      ],
      "metadata": {
        "id": "Z-fH8DlLi2pg"
      }
    },
    {
      "cell_type": "markdown",
      "source": [
        "***Imported pre-trained embedding model is taken from:***\n",
        "\n",
        "Pre-trained vectors based on 2B tweets, 27B tokens, 1.2M vocab, uncased (https://nlp.stanford.edu/projects/glove/)"
      ],
      "metadata": {
        "id": "7era_rsKGx-U"
      }
    },
    {
      "cell_type": "code",
      "source": [
        "# Load a pretrained word embeddings\n",
        "# You can check https://radimrehurek.com/gensim/auto_examples/howtos/run_downloader_api.html and https://github.com/RaRe-Technologies/gensim-data for loading pretrained word embeddings. \n",
        "\n",
        "importedEmbeddings = api.load(\"glove-twitter-100\")"
      ],
      "metadata": {
        "colab": {
          "base_uri": "https://localhost:8080/"
        },
        "id": "_JpgmkmDjGZ9",
        "outputId": "ec7b5180-b730-48ea-a30e-3a87828b8963"
      },
      "execution_count": null,
      "outputs": [
        {
          "output_type": "stream",
          "name": "stdout",
          "text": [
            "[==================================================] 100.0% 387.1/387.1MB downloaded\n"
          ]
        }
      ]
    },
    {
      "cell_type": "code",
      "source": [
        "imported_embedding_matrix = np.zeros((len(word_index) + 1, max_len))\n",
        "for word, i in word_index.items():\n",
        "    if word in importedEmbeddings:\n",
        "        # words not found in embedding index will be all-zeros.\n",
        "        imported_embedding_matrix[i] = np.pad(importedEmbeddings[word], (0, max_len-len(importedEmbeddings[word])), 'constant')"
      ],
      "metadata": {
        "id": "s7xbhL-wi6Rx"
      },
      "execution_count": null,
      "outputs": []
    },
    {
      "cell_type": "code",
      "source": [
        "# Create Embedding Matrices and Layers\n",
        "# Architecture is the same as the CNN models above, only trainable difference\n",
        "CNNStatic_2 = Sequential([\n",
        "    Embedding(input_dim=vocab_size,\n",
        "                              output_dim=max_len, \n",
        "                              input_length=max_len, \n",
        "                              input_shape=(max_len,),\n",
        "                              weights = [imported_embedding_matrix], # using embedding matrix imported from word2vec\n",
        "                              trainable=False # trainable is false since we are implementing CNN-Static\n",
        "            ),\n",
        "    Conv1D(filters = 100, kernel_size = 3, activation = \"relu\", kernel_constraint= MaxNorm(max_value=3, axis=[0,1]), kernel_initializer='he_normal'),\n",
        "    MaxPooling1D(2),\n",
        "    Flatten(),\n",
        "    Dropout(0.5),\n",
        "    Dense(30, activation=\"relu\", kernel_constraint = MaxNorm(max_value=3, axis=0)),\n",
        "    Dropout(0.5),\n",
        "    Dense(units=1, activation='sigmoid')\n",
        "])\n",
        "\n",
        "CNNStatic_2.compile(loss = 'binary_crossentropy', optimizer = 'adam', metrics = ['accuracy'])\n",
        "\n",
        "# Train the model\n",
        "CNNStatic_2.fit(training_padded, y_train, batch_size = 50, epochs = 15, verbose = 1, validation_data=(val_padded, y_val))"
      ],
      "metadata": {
        "colab": {
          "base_uri": "https://localhost:8080/"
        },
        "id": "_24yiRTIqhWA",
        "outputId": "34819403-7099-4083-8108-134196c171bc"
      },
      "execution_count": null,
      "outputs": [
        {
          "output_type": "stream",
          "name": "stdout",
          "text": [
            "Epoch 1/15\n",
            "260/260 [==============================] - 21s 78ms/step - loss: 0.4998 - accuracy: 0.7481 - val_loss: 0.3115 - val_accuracy: 0.8917\n",
            "Epoch 2/15\n",
            "260/260 [==============================] - 20s 77ms/step - loss: 0.3259 - accuracy: 0.8774 - val_loss: 0.2635 - val_accuracy: 0.8945\n",
            "Epoch 3/15\n",
            "260/260 [==============================] - 20s 76ms/step - loss: 0.2796 - accuracy: 0.8933 - val_loss: 0.2486 - val_accuracy: 0.9091\n",
            "Epoch 4/15\n",
            "260/260 [==============================] - 20s 76ms/step - loss: 0.2422 - accuracy: 0.9107 - val_loss: 0.2161 - val_accuracy: 0.9264\n",
            "Epoch 5/15\n",
            "260/260 [==============================] - 20s 77ms/step - loss: 0.2249 - accuracy: 0.9169 - val_loss: 0.2176 - val_accuracy: 0.9181\n",
            "Epoch 6/15\n",
            "260/260 [==============================] - 20s 76ms/step - loss: 0.1975 - accuracy: 0.9290 - val_loss: 0.2135 - val_accuracy: 0.9264\n",
            "Epoch 7/15\n",
            "260/260 [==============================] - 20s 76ms/step - loss: 0.1798 - accuracy: 0.9331 - val_loss: 0.2354 - val_accuracy: 0.9181\n",
            "Epoch 8/15\n",
            "260/260 [==============================] - 20s 77ms/step - loss: 0.1745 - accuracy: 0.9371 - val_loss: 0.2225 - val_accuracy: 0.9202\n",
            "Epoch 9/15\n",
            "260/260 [==============================] - 20s 77ms/step - loss: 0.1638 - accuracy: 0.9391 - val_loss: 0.2145 - val_accuracy: 0.9292\n",
            "Epoch 10/15\n",
            "260/260 [==============================] - 20s 76ms/step - loss: 0.1529 - accuracy: 0.9439 - val_loss: 0.2026 - val_accuracy: 0.9264\n",
            "Epoch 11/15\n",
            "260/260 [==============================] - 20s 76ms/step - loss: 0.1412 - accuracy: 0.9490 - val_loss: 0.2096 - val_accuracy: 0.9271\n",
            "Epoch 12/15\n",
            "260/260 [==============================] - 20s 76ms/step - loss: 0.1302 - accuracy: 0.9509 - val_loss: 0.2305 - val_accuracy: 0.9285\n",
            "Epoch 13/15\n",
            "260/260 [==============================] - 20s 76ms/step - loss: 0.1270 - accuracy: 0.9557 - val_loss: 0.2261 - val_accuracy: 0.9216\n",
            "Epoch 14/15\n",
            "260/260 [==============================] - 20s 76ms/step - loss: 0.1230 - accuracy: 0.9545 - val_loss: 0.2288 - val_accuracy: 0.9230\n",
            "Epoch 15/15\n",
            "260/260 [==============================] - 20s 76ms/step - loss: 0.1180 - accuracy: 0.9569 - val_loss: 0.2073 - val_accuracy: 0.9257\n"
          ]
        },
        {
          "output_type": "execute_result",
          "data": {
            "text/plain": [
              "<keras.callbacks.History at 0x7f56a1337510>"
            ]
          },
          "metadata": {},
          "execution_count": 93
        }
      ]
    },
    {
      "cell_type": "code",
      "source": [
        "# Evaluate the model\n",
        "print(\"### Evaluation on Train Data ###\")\n",
        "loss, acc = CNNStatic_2.evaluate(training_padded, y_train, verbose=0)\n",
        "print(\"Loss in training data: \", loss, \"\\nAccuracy in training data: \", acc, sep = \"\")\n",
        "\n",
        "print(\"\\n### Evaluation on Validation Data ###\")\n",
        "loss, acc = CNNStatic_2.evaluate(val_padded, y_val, verbose=0)\n",
        "print(\"Loss in validation data: \", loss, \"\\nAccuracy in validation data: \", acc, sep = \"\")\n",
        "\n",
        "print(\"\\n### Evaluation on Test Data ###\")\n",
        "prediction_CNNStatic_2 = (CNNStatic_2.predict(test_padded) > 0.5).astype(\"int32\")\n",
        "print(\"F1-score on test data is:\", f1_score(binaryTestCNN['label'], prediction_CNNStatic_2, average='weighted'))\n",
        "print(\"Accuracy on test data is:\", accuracy_score(binaryTestCNN['label'], prediction_CNNStatic_2))\n",
        "print(\"Confusion matrix for test data:\\n\", confusion_matrix(binaryTestCNN['label'], prediction_CNNStatic_2))"
      ],
      "metadata": {
        "colab": {
          "base_uri": "https://localhost:8080/"
        },
        "id": "2wNNx85PqpNT",
        "outputId": "344d6ee0-83e3-41bc-a3ea-c852fd4d702d"
      },
      "execution_count": null,
      "outputs": [
        {
          "output_type": "stream",
          "name": "stdout",
          "text": [
            "### Evaluation on Train Data ###\n",
            "Loss in training data: 0.04737202823162079\n",
            "Accuracy in training data: 0.9902822971343994\n",
            "\n",
            "### Evaluation on Validation Data ###\n",
            "Loss in validation data: 0.2073085904121399\n",
            "Accuracy in validation data: 0.9257460236549377\n",
            "\n",
            "### Evaluation on Test Data ###\n",
            "F1-score on test data is: 0.902704374599175\n",
            "Accuracy on test data is: 0.9026993094789705\n",
            "Confusion matrix for test data:\n",
            " [[697  76]\n",
            " [ 79 741]]\n"
          ]
        }
      ]
    },
    {
      "cell_type": "markdown",
      "source": [
        "##### **CNN-NonStatic**"
      ],
      "metadata": {
        "id": "Z09FBHXJuc51"
      }
    },
    {
      "cell_type": "code",
      "source": [
        "class myCallback(keras.callbacks.Callback):\n",
        "    # Overriding the method on_epoch_end() to prevent overfitting (especially for embedding layer)\n",
        "    def on_epoch_end(self, epoch, logs={}):\n",
        "        return\n",
        "        if (logs.get('accuracy') > 0.93):\n",
        "            print(\"\\nReached 93% accuracy so cancelling training!\")\n",
        "            self.model.stop_training=True\n",
        "\n",
        "callbacks = keras.callbacks.EarlyStopping(monitor='val_accuracy', min_delta=0, \n",
        "                                             patience=10, verbose=2, \n",
        "                                             mode='auto', restore_best_weights=True)"
      ],
      "metadata": {
        "id": "fv_80u5yyWAO"
      },
      "execution_count": null,
      "outputs": []
    },
    {
      "cell_type": "markdown",
      "source": [
        "###### **`embedding:`** created from training set"
      ],
      "metadata": {
        "id": "ChdwAgwCukNr"
      }
    },
    {
      "cell_type": "code",
      "source": [
        "# Create Embedding Matrices and Layers\n",
        "# Architecture is the same as the CNN models above, trainable is true for dynamic models\n",
        "CNNNonStatic_1 = Sequential([\n",
        "    Embedding(input_dim=vocab_size,\n",
        "                              output_dim=max_len, \n",
        "                              input_length=max_len, \n",
        "                              input_shape=(max_len,),\n",
        "                              weights = [own_embedding_matrix], # using embedding matrix created from scratch as weights\n",
        "                              trainable=True # now trainable is true since we want a dynamic model\n",
        "            ),\n",
        "    Conv1D(filters = 100, kernel_size = 3, activation = \"relu\", kernel_constraint= MaxNorm(max_value=3, axis=[0,1]), kernel_initializer='he_normal'),\n",
        "    MaxPooling1D(2),\n",
        "    Flatten(),\n",
        "    Dropout(0.5),\n",
        "    Dense(30, activation=\"relu\", kernel_constraint = MaxNorm(max_value=3, axis=0)),\n",
        "    Dropout(0.5),\n",
        "    Dense(units=1, activation='sigmoid')\n",
        "])\n",
        "\n",
        "CNNNonStatic_1.compile(loss = 'binary_crossentropy', optimizer = 'adam', metrics = ['accuracy'])\n",
        "\n",
        "# Train the model\n",
        "CNNNonStatic_1.fit(training_padded, y_train, batch_size = 50, epochs = 15, verbose = 1,  callbacks=[callbacks], validation_data=(val_padded, y_val))"
      ],
      "metadata": {
        "colab": {
          "base_uri": "https://localhost:8080/"
        },
        "id": "mY3VUTT6ujoE",
        "outputId": "85b4f871-be65-47cb-da6c-f6819729b198"
      },
      "execution_count": null,
      "outputs": [
        {
          "output_type": "stream",
          "name": "stdout",
          "text": [
            "Epoch 1/15\n",
            "260/260 [==============================] - 38s 134ms/step - loss: 0.4574 - accuracy: 0.7765 - val_loss: 0.2352 - val_accuracy: 0.9035\n",
            "Epoch 2/15\n",
            "260/260 [==============================] - 34s 131ms/step - loss: 0.2359 - accuracy: 0.9115 - val_loss: 0.1888 - val_accuracy: 0.9306\n",
            "Epoch 3/15\n",
            "260/260 [==============================] - 34s 130ms/step - loss: 0.1424 - accuracy: 0.9517 - val_loss: 0.1948 - val_accuracy: 0.9389\n",
            "Epoch 4/15\n",
            "260/260 [==============================] - 34s 131ms/step - loss: 0.0998 - accuracy: 0.9668 - val_loss: 0.2153 - val_accuracy: 0.9285\n",
            "Epoch 5/15\n",
            "260/260 [==============================] - 33s 129ms/step - loss: 0.0738 - accuracy: 0.9750 - val_loss: 0.2548 - val_accuracy: 0.9327\n",
            "Epoch 6/15\n",
            "260/260 [==============================] - 33s 128ms/step - loss: 0.0520 - accuracy: 0.9830 - val_loss: 0.2576 - val_accuracy: 0.9355\n",
            "Epoch 7/15\n",
            "260/260 [==============================] - 34s 129ms/step - loss: 0.0378 - accuracy: 0.9887 - val_loss: 0.3445 - val_accuracy: 0.9278\n",
            "Epoch 8/15\n",
            "260/260 [==============================] - 33s 129ms/step - loss: 0.0308 - accuracy: 0.9901 - val_loss: 0.4130 - val_accuracy: 0.9278\n",
            "Epoch 9/15\n",
            "260/260 [==============================] - 33s 129ms/step - loss: 0.0280 - accuracy: 0.9902 - val_loss: 0.4791 - val_accuracy: 0.9306\n",
            "Epoch 10/15\n",
            "260/260 [==============================] - 33s 128ms/step - loss: 0.0257 - accuracy: 0.9924 - val_loss: 0.4244 - val_accuracy: 0.9320\n",
            "Epoch 11/15\n",
            "260/260 [==============================] - 33s 128ms/step - loss: 0.0180 - accuracy: 0.9949 - val_loss: 0.4543 - val_accuracy: 0.9271\n",
            "Epoch 12/15\n",
            "260/260 [==============================] - 33s 129ms/step - loss: 0.0234 - accuracy: 0.9925 - val_loss: 0.4728 - val_accuracy: 0.9244\n",
            "Epoch 13/15\n",
            "260/260 [==============================] - ETA: 0s - loss: 0.0182 - accuracy: 0.9940Restoring model weights from the end of the best epoch: 3.\n",
            "260/260 [==============================] - 33s 129ms/step - loss: 0.0182 - accuracy: 0.9940 - val_loss: 0.5353 - val_accuracy: 0.9251\n",
            "Epoch 13: early stopping\n"
          ]
        },
        {
          "output_type": "execute_result",
          "data": {
            "text/plain": [
              "<keras.callbacks.History at 0x7f568b570410>"
            ]
          },
          "metadata": {},
          "execution_count": 111
        }
      ]
    },
    {
      "cell_type": "code",
      "source": [
        "# Evaluate the model\n",
        "print(\"### Evaluation on Train Data ###\")\n",
        "loss, acc = CNNNonStatic_1.evaluate(training_padded, y_train, verbose=0)\n",
        "print(\"Loss in training data: \", loss, \"\\nAccuracy in training data: \", acc, sep = \"\")\n",
        "\n",
        "print(\"\\n### Evaluation on Validation Data ###\")\n",
        "loss, acc = CNNNonStatic_1.evaluate(val_padded, y_val, verbose=0)\n",
        "print(\"Loss in validation data: \", loss, \"\\nAccuracy in validation data: \", acc, sep = \"\")\n",
        "\n",
        "print(\"\\n### Evaluation on Test Data ###\")\n",
        "prediction_CNNNonStatic_1 = (CNNNonStatic_1.predict(test_padded) > 0.5).astype(\"int32\")\n",
        "print(\"F1-score on test data is:\", f1_score(binaryTestCNN['label'], prediction_CNNNonStatic_1, average='weighted'))\n",
        "print(\"Accuracy on test data is:\", accuracy_score(binaryTestCNN['label'], prediction_CNNNonStatic_1))\n",
        "print(\"Confusion matrix for test data:\\n\", confusion_matrix(binaryTestCNN['label'], prediction_CNNNonStatic_1))"
      ],
      "metadata": {
        "colab": {
          "base_uri": "https://localhost:8080/"
        },
        "id": "gSHMJB0rugT2",
        "outputId": "5c3049e5-8e13-4039-a158-ed9f6254c61f"
      },
      "execution_count": null,
      "outputs": [
        {
          "output_type": "stream",
          "name": "stdout",
          "text": [
            "### Evaluation on Train Data ###\n",
            "Loss in training data: 0.0570840984582901\n",
            "Accuracy in training data: 0.9831867814064026\n",
            "\n",
            "### Evaluation on Validation Data ###\n",
            "Loss in validation data: 0.19476594030857086\n",
            "Accuracy in validation data: 0.9389312863349915\n",
            "\n",
            "### Evaluation on Test Data ###\n",
            "F1-score on test data is: 0.919004612513907\n",
            "Accuracy on test data is: 0.9190207156308852\n",
            "Confusion matrix for test data:\n",
            " [[704  69]\n",
            " [ 60 760]]\n"
          ]
        }
      ]
    },
    {
      "cell_type": "markdown",
      "source": [
        "###### **`embedding:`** imported from word2vec"
      ],
      "metadata": {
        "id": "Hj2BjvsQ4FPE"
      }
    },
    {
      "cell_type": "code",
      "source": [
        "# Create Embedding Matrices and Layers\n",
        "# Architecture is the same as the CNN models above, trainable is true for dynamic models\n",
        "CNNNonStatic_2 = Sequential([\n",
        "    Embedding(input_dim=vocab_size,\n",
        "                              output_dim=max_len, \n",
        "                              input_length=max_len, \n",
        "                              input_shape=(max_len,),\n",
        "                              weights = [imported_embedding_matrix], # using embedding matrix imported from word2vec\n",
        "                              trainable=True # now trainable is true since we want a dynamic model\n",
        "            ),\n",
        "    Conv1D(filters = 100, kernel_size = 3, activation = \"relu\", kernel_constraint= MaxNorm(max_value=3, axis=[0,1]), kernel_initializer='he_normal'),\n",
        "    MaxPooling1D(2),\n",
        "    Flatten(),\n",
        "    Dropout(0.5),\n",
        "    Dense(30, activation=\"relu\", kernel_constraint = MaxNorm(max_value=3, axis=0)),\n",
        "    Dropout(0.5),\n",
        "    Dense(units=1, activation='sigmoid')\n",
        "])\n",
        "\n",
        "CNNNonStatic_2.compile(loss = 'binary_crossentropy', optimizer = 'adam', metrics = ['accuracy'])\n",
        "\n",
        "# Train the model\n",
        "CNNNonStatic_2.fit(training_padded, y_train, batch_size = 50, epochs = 15, verbose = 1,  callbacks=[callbacks], validation_data=(val_padded, y_val))"
      ],
      "metadata": {
        "colab": {
          "base_uri": "https://localhost:8080/"
        },
        "id": "MAJwO6a-4NAd",
        "outputId": "a5fb56ed-3786-4a1e-b08f-9e82f9b41f2a"
      },
      "execution_count": null,
      "outputs": [
        {
          "output_type": "stream",
          "name": "stdout",
          "text": [
            "Epoch 1/15\n",
            "260/260 [==============================] - 35s 132ms/step - loss: 0.3744 - accuracy: 0.8213 - val_loss: 0.1987 - val_accuracy: 0.9251\n",
            "Epoch 2/15\n",
            "260/260 [==============================] - 34s 131ms/step - loss: 0.1611 - accuracy: 0.9498 - val_loss: 0.2008 - val_accuracy: 0.9327\n",
            "Epoch 3/15\n",
            "260/260 [==============================] - 34s 130ms/step - loss: 0.0766 - accuracy: 0.9758 - val_loss: 0.2953 - val_accuracy: 0.9216\n",
            "Epoch 4/15\n",
            "260/260 [==============================] - 34s 129ms/step - loss: 0.0510 - accuracy: 0.9859 - val_loss: 0.3428 - val_accuracy: 0.9299\n",
            "Epoch 5/15\n",
            "260/260 [==============================] - 34s 129ms/step - loss: 0.0388 - accuracy: 0.9895 - val_loss: 0.4519 - val_accuracy: 0.9230\n",
            "Epoch 6/15\n",
            "260/260 [==============================] - 34s 131ms/step - loss: 0.0359 - accuracy: 0.9904 - val_loss: 0.3822 - val_accuracy: 0.9257\n",
            "Epoch 7/15\n",
            "260/260 [==============================] - 34s 131ms/step - loss: 0.0253 - accuracy: 0.9939 - val_loss: 0.4135 - val_accuracy: 0.9244\n",
            "Epoch 8/15\n",
            "260/260 [==============================] - 34s 129ms/step - loss: 0.0345 - accuracy: 0.9897 - val_loss: 0.4234 - val_accuracy: 0.9174\n",
            "Epoch 9/15\n",
            "260/260 [==============================] - 34s 129ms/step - loss: 0.0196 - accuracy: 0.9951 - val_loss: 0.5075 - val_accuracy: 0.9167\n",
            "Epoch 10/15\n",
            "260/260 [==============================] - 34s 129ms/step - loss: 0.0217 - accuracy: 0.9944 - val_loss: 0.4629 - val_accuracy: 0.9223\n",
            "Epoch 11/15\n",
            "260/260 [==============================] - 34s 129ms/step - loss: 0.0201 - accuracy: 0.9941 - val_loss: 0.5063 - val_accuracy: 0.9167\n",
            "Epoch 12/15\n",
            "260/260 [==============================] - ETA: 0s - loss: 0.0185 - accuracy: 0.9956Restoring model weights from the end of the best epoch: 2.\n",
            "260/260 [==============================] - 34s 129ms/step - loss: 0.0185 - accuracy: 0.9956 - val_loss: 0.5385 - val_accuracy: 0.9160\n",
            "Epoch 12: early stopping\n"
          ]
        },
        {
          "output_type": "execute_result",
          "data": {
            "text/plain": [
              "<keras.callbacks.History at 0x7f568b28bd50>"
            ]
          },
          "metadata": {},
          "execution_count": 114
        }
      ]
    },
    {
      "cell_type": "code",
      "source": [
        "# Evaluate the model\n",
        "print(\"### Evaluation on Train Data ###\")\n",
        "loss, acc = CNNNonStatic_2.evaluate(training_padded, y_train, verbose=0)\n",
        "print(\"Loss in training data: \", loss, \"\\nAccuracy in training data: \", acc, sep = \"\")\n",
        "\n",
        "print(\"\\n### Evaluation on Validation Data ###\")\n",
        "loss, acc = CNNNonStatic_2.evaluate(val_padded, y_val, verbose=0)\n",
        "print(\"Loss in validation data: \", loss, \"\\nAccuracy in validation data: \", acc, sep = \"\")\n",
        "\n",
        "print(\"\\n### Evaluation on Test Data ###\")\n",
        "prediction_CNNNonStatic_2 = (CNNNonStatic_2.predict(test_padded) > 0.5).astype(\"int32\")\n",
        "print(\"F1-score on test data is:\", f1_score(binaryTestCNN['label'], prediction_CNNNonStatic_2, average='weighted'))\n",
        "print(\"Accuracy on test data is:\", accuracy_score(binaryTestCNN['label'], prediction_CNNNonStatic_2))\n",
        "print(\"Confusion matrix for test data:\\n\", confusion_matrix(binaryTestCNN['label'], prediction_CNNNonStatic_2))"
      ],
      "metadata": {
        "colab": {
          "base_uri": "https://localhost:8080/"
        },
        "id": "qO4DUaxE4ZQv",
        "outputId": "9df9e819-8aaa-4b5a-90d7-b2ad09b612f0"
      },
      "execution_count": null,
      "outputs": [
        {
          "output_type": "stream",
          "name": "stdout",
          "text": [
            "### Evaluation on Train Data ###\n",
            "Loss in training data: 0.048700664192438126\n",
            "Accuracy in training data: 0.9876600503921509\n",
            "\n",
            "### Evaluation on Validation Data ###\n",
            "Loss in validation data: 0.2008211612701416\n",
            "Accuracy in validation data: 0.9326856136322021\n",
            "\n",
            "### Evaluation on Test Data ###\n",
            "F1-score on test data is: 0.9177129484275085\n",
            "Accuracy on test data is: 0.9177652228499686\n",
            "Confusion matrix for test data:\n",
            " [[696  77]\n",
            " [ 54 766]]\n"
          ]
        }
      ]
    },
    {
      "cell_type": "markdown",
      "source": [
        "##### **CNN-MultiChannel**"
      ],
      "metadata": {
        "id": "D0OiMwsG6w7h"
      }
    },
    {
      "cell_type": "markdown",
      "source": [
        "***Codes for MultiChannel CNN architecture are adapted from:***\n",
        "\n",
        "Brownlee, J. (2020, September 2). How to develop a multichannel CNN model for text classification. Machine Learning Mastery. Retrieved May 8, 2022, from https://machinelearningmastery.com/develop-n-gram-multichannel-convolutional-neural-network-sentiment-analysis/ \n"
      ],
      "metadata": {
        "id": "yEfCVKwJF4Fc"
      }
    },
    {
      "cell_type": "code",
      "source": [
        "from numpy import array\n",
        "from keras.preprocessing.text import Tokenizer\n",
        "from keras.preprocessing.sequence import pad_sequences\n",
        "from keras.utils.vis_utils import plot_model\n",
        "from keras.models import Model\n",
        "from keras.layers import Input\n",
        "from keras.layers import Dense\n",
        "from keras.layers import Flatten\n",
        "from keras.layers import Dropout\n",
        "from keras.layers import Embedding\n",
        "from keras.layers.convolutional import Conv1D\n",
        "from keras.layers.convolutional import MaxPooling1D\n",
        "from keras.layers.merge import concatenate"
      ],
      "metadata": {
        "id": "pd6AA-VMGH91"
      },
      "execution_count": null,
      "outputs": []
    },
    {
      "cell_type": "code",
      "source": [
        "def multiChannelModel(max_len, vocab_size, embeddingMatrix):\n",
        "\t# channel 1 (trainable)\n",
        "\tinputs1 = Input(shape=(max_len,))\n",
        "\tembedding1 = Embedding(input_dim=vocab_size, output_dim=max_len, input_length=max_len, input_shape=(max_len,), weights = [embeddingMatrix], trainable=True)(inputs1)\n",
        "\tconv1 = Conv1D(filters=100, kernel_size=3, activation='relu')(embedding1)\n",
        "\tdrop1 = Dropout(0.5)(conv1)\n",
        "\tpool1 = MaxPooling1D(pool_size=2)(drop1)\n",
        "\tflat1 = Flatten()(pool1)\n",
        "\t# channel 2 (not trainable)\n",
        "\tinputs2 = Input(shape=(max_len,))\n",
        "\tembedding2 = Embedding(input_dim=vocab_size, output_dim=max_len, input_length=max_len, input_shape=(max_len,), weights = [embeddingMatrix],trainable=False)(inputs2)\n",
        "\tconv2 = Conv1D(filters=100, kernel_size=3, activation='relu')(embedding2)\n",
        "\tdrop2 = Dropout(0.5)(conv2)\n",
        "\tpool2 = MaxPooling1D(pool_size=2)(drop2)\n",
        "\tflat2 = Flatten()(pool2)\n",
        "\t# merging the channels\n",
        "\tmerged = concatenate([flat1, flat2])\n",
        "\t# interpretation with fully connected dense layer\n",
        "\tdense1 = Dense(30, activation='relu')(merged)\n",
        "\tdrop3 = Dropout(0.5)(dense1)\n",
        "\toutputs = Dense(1, activation='sigmoid')(drop3)\n",
        "\tmodel = Model(inputs=[inputs1, inputs2], outputs=outputs)\n",
        "\t# compile\n",
        "\tmodel.compile(loss='binary_crossentropy', optimizer='adam', metrics=['accuracy'])\n",
        "\n",
        "\treturn model"
      ],
      "metadata": {
        "id": "hm6prBmFF15j"
      },
      "execution_count": null,
      "outputs": []
    },
    {
      "cell_type": "markdown",
      "source": [
        "###### **`embedding:`** created from training set"
      ],
      "metadata": {
        "id": "nBmYW0kvgBHc"
      }
    },
    {
      "cell_type": "code",
      "source": [
        "# Create Embedding Matrices and Layers\n",
        "CNNMulti_1 = multiChannelModel(max_len,vocab_size,own_embedding_matrix) #  using embedding matrix created from scratch as weights \n",
        "\n",
        "# Train the model\n",
        "CNNMulti_1.fit([training_padded,training_padded], y_train, batch_size = 50, epochs = 15, verbose = 1, callbacks=[callbacks], validation_data=([val_padded, val_padded], y_val))"
      ],
      "metadata": {
        "colab": {
          "base_uri": "https://localhost:8080/"
        },
        "id": "6g-N4GMxAjpt",
        "outputId": "246b0a75-f91b-4861-ebbc-61520d4941a0"
      },
      "execution_count": null,
      "outputs": [
        {
          "output_type": "stream",
          "name": "stdout",
          "text": [
            "Epoch 1/15\n",
            "260/260 [==============================] - 37s 95ms/step - loss: 0.4991 - accuracy: 0.7666 - val_loss: 0.3611 - val_accuracy: 0.8563\n",
            "Epoch 2/15\n",
            "260/260 [==============================] - 24s 94ms/step - loss: 0.2984 - accuracy: 0.8951 - val_loss: 0.2027 - val_accuracy: 0.9257\n",
            "Epoch 3/15\n",
            "260/260 [==============================] - 24s 93ms/step - loss: 0.1808 - accuracy: 0.9407 - val_loss: 0.1869 - val_accuracy: 0.9396\n",
            "Epoch 4/15\n",
            "260/260 [==============================] - 24s 92ms/step - loss: 0.1105 - accuracy: 0.9647 - val_loss: 0.2838 - val_accuracy: 0.8987\n",
            "Epoch 5/15\n",
            "260/260 [==============================] - 24s 93ms/step - loss: 0.0862 - accuracy: 0.9738 - val_loss: 0.2408 - val_accuracy: 0.9167\n",
            "Epoch 6/15\n",
            "260/260 [==============================] - 24s 93ms/step - loss: 0.0509 - accuracy: 0.9850 - val_loss: 0.3599 - val_accuracy: 0.9202\n",
            "Epoch 7/15\n",
            "260/260 [==============================] - 24s 92ms/step - loss: 0.0474 - accuracy: 0.9860 - val_loss: 0.3316 - val_accuracy: 0.9306\n",
            "Epoch 8/15\n",
            "260/260 [==============================] - 24s 91ms/step - loss: 0.0389 - accuracy: 0.9879 - val_loss: 0.3270 - val_accuracy: 0.9348\n",
            "Epoch 9/15\n",
            "260/260 [==============================] - 24s 92ms/step - loss: 0.0316 - accuracy: 0.9905 - val_loss: 0.3952 - val_accuracy: 0.9375\n",
            "Epoch 10/15\n",
            "260/260 [==============================] - 24s 92ms/step - loss: 0.0280 - accuracy: 0.9918 - val_loss: 0.4509 - val_accuracy: 0.9285\n",
            "Epoch 11/15\n",
            "260/260 [==============================] - 24s 92ms/step - loss: 0.0212 - accuracy: 0.9929 - val_loss: 0.5285 - val_accuracy: 0.9341\n",
            "Epoch 12/15\n",
            "260/260 [==============================] - 24s 91ms/step - loss: 0.0183 - accuracy: 0.9944 - val_loss: 0.5257 - val_accuracy: 0.9334\n",
            "Epoch 13/15\n",
            "259/260 [============================>.] - ETA: 0s - loss: 0.0223 - accuracy: 0.9924Restoring model weights from the end of the best epoch: 3.\n",
            "260/260 [==============================] - 24s 92ms/step - loss: 0.0223 - accuracy: 0.9924 - val_loss: 0.5490 - val_accuracy: 0.9174\n",
            "Epoch 13: early stopping\n"
          ]
        },
        {
          "output_type": "execute_result",
          "data": {
            "text/plain": [
              "<keras.callbacks.History at 0x7faf1cc25050>"
            ]
          },
          "metadata": {},
          "execution_count": 29
        }
      ]
    },
    {
      "cell_type": "code",
      "source": [
        "# Evaluate the model\n",
        "print(\"### Evaluation on Train Data ###\")\n",
        "loss, acc = CNNMulti_1.evaluate([training_padded,training_padded], y_train, verbose=0)\n",
        "print(\"Loss in training data: \", loss, \"\\nAccuracy in training data: \", acc, sep = \"\")\n",
        "\n",
        "print(\"\\n### Evaluation on Validation Data ###\")\n",
        "loss, acc = CNNMulti_1.evaluate([val_padded, val_padded], y_val, verbose=0)\n",
        "print(\"Loss in validation data: \", loss, \"\\nAccuracy in validation data: \", acc, sep = \"\")\n",
        "\n",
        "print(\"\\n### Evaluation on Test Data ###\")\n",
        "prediction_CNNMulti_1 = (CNNMulti_1.predict([test_padded, test_padded]) > 0.5).astype(\"int32\")\n",
        "print(\"F1-score on test data is:\", f1_score(binaryTestCNN['label'], prediction_CNNMulti_1, average='weighted'))\n",
        "print(\"Accuracy on test data is:\", accuracy_score(binaryTestCNN['label'], prediction_CNNMulti_1))\n",
        "print(\"Confusion matrix for test data:\\n\", confusion_matrix(binaryTestCNN['label'], prediction_CNNMulti_1))"
      ],
      "metadata": {
        "colab": {
          "base_uri": "https://localhost:8080/"
        },
        "id": "cHv1edTfMKEp",
        "outputId": "c9d02841-6b92-467e-86a7-565c75e1cd23"
      },
      "execution_count": null,
      "outputs": [
        {
          "output_type": "stream",
          "name": "stdout",
          "text": [
            "### Evaluation on Train Data ###\n",
            "Loss in training data: 0.07037844508886337\n",
            "Accuracy in training data: 0.9767082929611206\n",
            "\n",
            "### Evaluation on Validation Data ###\n",
            "Loss in validation data: 0.18687431514263153\n",
            "Accuracy in validation data: 0.9396252632141113\n",
            "\n",
            "### Evaluation on Test Data ###\n",
            "F1-score on test data is: 0.9202516688084085\n",
            "Accuracy on test data is: 0.9202762084118016\n",
            "Confusion matrix for test data:\n",
            " [[703  70]\n",
            " [ 57 763]]\n"
          ]
        }
      ]
    },
    {
      "cell_type": "markdown",
      "source": [
        "###### **`embedding:`** imported from word2vec"
      ],
      "metadata": {
        "id": "TaHsk7PAhafJ"
      }
    },
    {
      "cell_type": "code",
      "source": [
        "# Create Embedding Matrices and Layers\n",
        "CNNMulti_2 = multiChannelModel(max_len,vocab_size,imported_embedding_matrix) # using embedding matrix imported from word2vec\n",
        "\n",
        "# Train the model\n",
        "CNNMulti_2.fit([training_padded,training_padded], y_train, batch_size = 50, epochs = 15, verbose = 1, callbacks=[callbacks], validation_data=([val_padded, val_padded], y_val))"
      ],
      "metadata": {
        "colab": {
          "base_uri": "https://localhost:8080/"
        },
        "id": "KDCGCLqphNX6",
        "outputId": "fe0e67b8-76dd-430e-f307-8c50eb634da2"
      },
      "execution_count": null,
      "outputs": [
        {
          "output_type": "stream",
          "name": "stdout",
          "text": [
            "Epoch 1/15\n",
            "260/260 [==============================] - 24s 89ms/step - loss: 0.4319 - accuracy: 0.7896 - val_loss: 0.1890 - val_accuracy: 0.9375\n",
            "Epoch 2/15\n",
            "260/260 [==============================] - 23s 89ms/step - loss: 0.1727 - accuracy: 0.9472 - val_loss: 0.2584 - val_accuracy: 0.9237\n",
            "Epoch 3/15\n",
            "260/260 [==============================] - 23s 90ms/step - loss: 0.0914 - accuracy: 0.9716 - val_loss: 0.2926 - val_accuracy: 0.9195\n",
            "Epoch 4/15\n",
            "260/260 [==============================] - 23s 90ms/step - loss: 0.0630 - accuracy: 0.9820 - val_loss: 0.2439 - val_accuracy: 0.9251\n",
            "Epoch 5/15\n",
            "260/260 [==============================] - 23s 90ms/step - loss: 0.0367 - accuracy: 0.9887 - val_loss: 0.3928 - val_accuracy: 0.9278\n",
            "Epoch 6/15\n",
            "260/260 [==============================] - 23s 89ms/step - loss: 0.0358 - accuracy: 0.9902 - val_loss: 0.4104 - val_accuracy: 0.9327\n",
            "Epoch 7/15\n",
            "260/260 [==============================] - 23s 90ms/step - loss: 0.0221 - accuracy: 0.9934 - val_loss: 0.5278 - val_accuracy: 0.9209\n",
            "Epoch 8/15\n",
            "260/260 [==============================] - 23s 90ms/step - loss: 0.0121 - accuracy: 0.9962 - val_loss: 0.5397 - val_accuracy: 0.9278\n",
            "Epoch 9/15\n",
            "260/260 [==============================] - 23s 90ms/step - loss: 0.0224 - accuracy: 0.9934 - val_loss: 0.4938 - val_accuracy: 0.9257\n",
            "Epoch 10/15\n",
            "260/260 [==============================] - 23s 90ms/step - loss: 0.0228 - accuracy: 0.9931 - val_loss: 0.4193 - val_accuracy: 0.9334\n",
            "Epoch 11/15\n",
            "259/260 [============================>.] - ETA: 0s - loss: 0.0133 - accuracy: 0.9965Restoring model weights from the end of the best epoch: 1.\n",
            "260/260 [==============================] - 24s 91ms/step - loss: 0.0133 - accuracy: 0.9965 - val_loss: 0.5638 - val_accuracy: 0.9264\n",
            "Epoch 11: early stopping\n"
          ]
        },
        {
          "output_type": "execute_result",
          "data": {
            "text/plain": [
              "<keras.callbacks.History at 0x7faf363e4150>"
            ]
          },
          "metadata": {},
          "execution_count": 33
        }
      ]
    },
    {
      "cell_type": "code",
      "source": [
        "# Evaluate the model\n",
        "print(\"### Evaluation on Train Data ###\")\n",
        "loss, acc = CNNMulti_2.evaluate([training_padded,training_padded], y_train, verbose=0)\n",
        "print(\"Loss in training data: \", loss, \"\\nAccuracy in training data: \", acc, sep = \"\")\n",
        "\n",
        "print(\"\\n### Evaluation on Validation Data ###\")\n",
        "loss, acc = CNNMulti_2.evaluate([val_padded, val_padded], y_val, verbose=0)\n",
        "print(\"Loss in validation data: \", loss, \"\\nAccuracy in validation data: \", acc, sep = \"\")\n",
        "\n",
        "print(\"\\n### Evaluation on Test Data ###\")\n",
        "prediction_CNNMulti_2 = (CNNMulti_2.predict([test_padded, test_padded]) > 0.5).astype(\"int32\")\n",
        "print(\"F1-score on test data is:\", f1_score(binaryTestCNN['label'], prediction_CNNMulti_2, average='weighted'))\n",
        "print(\"Accuracy on test data is:\", accuracy_score(binaryTestCNN['label'], prediction_CNNMulti_2))\n",
        "print(\"Confusion matrix for test data:\\n\", confusion_matrix(binaryTestCNN['label'], prediction_CNNMulti_2))"
      ],
      "metadata": {
        "colab": {
          "base_uri": "https://localhost:8080/"
        },
        "id": "E6bWDrG1heb-",
        "outputId": "6616f8ef-e8b6-4f4f-dc74-de9fc961ec92"
      },
      "execution_count": null,
      "outputs": [
        {
          "output_type": "stream",
          "name": "stdout",
          "text": [
            "### Evaluation on Train Data ###\n",
            "Loss in training data: 0.122305728495121\n",
            "Accuracy in training data: 0.9615918397903442\n",
            "\n",
            "### Evaluation on Validation Data ###\n",
            "Loss in validation data: 0.1889577955007553\n",
            "Accuracy in validation data: 0.9375433921813965\n",
            "\n",
            "### Evaluation on Test Data ###\n",
            "F1-score on test data is: 0.922170803192334\n",
            "Accuracy on test data is: 0.9221594475831764\n",
            "Confusion matrix for test data:\n",
            " [[716  57]\n",
            " [ 67 753]]\n"
          ]
        }
      ]
    },
    {
      "cell_type": "markdown",
      "source": [
        "#### **Multi-Classification**"
      ],
      "metadata": {
        "id": "rS2bVeGqLaK9"
      }
    },
    {
      "cell_type": "code",
      "source": [
        "# Create a validation set from train set\n",
        "# Please use random_state of 22 and test_size of 0.1\n",
        "\n",
        "X_train, X_val, y_train, y_val = train_test_split(multiTrainCNN['text'],multiTrainCNN['label'], test_size = 0.1, random_state = 22)\n",
        "\n",
        "X_train.shape, X_val.shape, y_train.shape, y_val.shape\n"
      ],
      "metadata": {
        "colab": {
          "base_uri": "https://localhost:8080/"
        },
        "id": "KWOjOWzOzAs9",
        "outputId": "128f5241-bff3-4895-f03b-f9e830eb91f5"
      },
      "execution_count": null,
      "outputs": [
        {
          "output_type": "execute_result",
          "data": {
            "text/plain": [
              "((16200,), (1800,), (16200,), (1800,))"
            ]
          },
          "metadata": {},
          "execution_count": 15
        }
      ]
    },
    {
      "cell_type": "code",
      "source": [
        "# Prepare the dataset for CNN classifier\n",
        "\n",
        "# Cleaning and Tokenization\n",
        "tokenizer = Tokenizer(oov_token=\"<UNK>\")\n",
        "tokenizer.fit_on_texts(X_train)\n",
        "\n",
        "# Turning the text into sequence\n",
        "training_sequences = tokenizer.texts_to_sequences(X_train)\n",
        "val_sequences = tokenizer.texts_to_sequences(X_val)\n",
        "test_sequences = tokenizer.texts_to_sequences(multiTestCNN['text'])\n",
        "\n",
        "max_len = maxlength(training_sequences)\n",
        "\n",
        "# Padding the sequences to have the same size\n",
        "training_padded = pad_sequences(training_sequences, maxlen=max_len, padding='post', truncating='post')\n",
        "val_padded = pad_sequences(val_sequences, maxlen=max_len, padding='post', truncating='post')\n",
        "test_padded = pad_sequences(test_sequences, maxlen=max_len, padding='post', truncating='post')\n",
        "\n",
        "# tokenizing and vocab size\n",
        "word_index = tokenizer.word_index\n",
        "vocab_size = len(word_index)+1\n",
        "\n",
        "# number of multiclasses\n",
        "numClass = len(np.unique((multiTrainCNN['label']).to_list()))\n",
        "\n",
        "# one hot encoding for the multiclass labels \n",
        "y_train = tf.one_hot(y_train, numClass)\n",
        "y_val = tf.one_hot(y_val, numClass)"
      ],
      "metadata": {
        "id": "qQs4HvOAzPhP"
      },
      "execution_count": null,
      "outputs": []
    },
    {
      "cell_type": "markdown",
      "source": [
        "##### **CNN-Rand**"
      ],
      "metadata": {
        "id": "YibdrXUw6kca"
      }
    },
    {
      "cell_type": "markdown",
      "source": [
        "***MultiCNN classes are adapted to this project from the GitHub repo and arXiv preprint below:***\n",
        "\n",
        "\n",
        "\n",
        "Marc Moreno Lopez, Jugal Kalita: “Deep Learning applied to NLP”, 2017; [http://arxiv.org/abs/1703.03091 arXiv:1703.03091]. Retrieved on May 8 from https://github.com/Rayryu/CNN-based-sentimental-analysis-multiclass-classification"
      ],
      "metadata": {
        "id": "IwRBPrv5ps9A"
      }
    },
    {
      "cell_type": "markdown",
      "source": [
        "###### **`Convolution`:** *filters* = 50, *kernel_size* = 2, 3 (3-gram) **||** **`Dense`:** *units* = 128"
      ],
      "metadata": {
        "id": "8z_jucpjU9GD"
      }
    },
    {
      "cell_type": "code",
      "source": [
        "from keras import layers\n",
        "from keras.models import Model\n",
        "\n",
        "def multiCNN_random_threegram(emb_dim, nb_filters, FFN_units, dropout_rate, nb_classes):\n",
        "  inputs1 = layers.Input(shape=(max_len,)) # input layer\n",
        "  x = layers.Embedding(vocab_size, emb_dim)(inputs1) # embedding layer without weights for random embedding\n",
        "  x_1 = layers.Conv1D(filters=nb_filters, kernel_size=2, padding=\"valid\", activation=\"relu\")(x) # first convolution layer for 2-gram\n",
        "  x_1 = layers.GlobalMaxPool1D()(x_1) # pooling\n",
        "  x_2 = layers.Conv1D(filters=nb_filters, kernel_size=3, padding=\"valid\", activation=\"relu\")(x) # second convolution layer for 3-gram\n",
        "  x_2 = layers.GlobalMaxPool1D()(x_2) # pooling\n",
        "\n",
        "  merged = tf.concat([x_1, x_2], axis=-1) # merging the layers\n",
        "  merged = layers.Dense(units=FFN_units, activation=\"relu\")(merged) # fully connected layer\n",
        "  merged = layers.Dropout(rate=dropout_rate)(merged) # dropping\n",
        "  output = layers.Dense(units=nb_classes, activation=\"softmax\")(merged)  # output layer \n",
        "  model = Model(inputs=inputs1, outputs=output)\n",
        "  model.compile(loss='categorical_crossentropy', optimizer='adam', metrics=[\"categorical_accuracy\"])\n",
        "  return model"
      ],
      "metadata": {
        "id": "VLjKFzRSVlvw"
      },
      "execution_count": null,
      "outputs": []
    },
    {
      "cell_type": "code",
      "source": [
        "multiCNN_random_3n = multiCNN_random_threegram(200, 50, 128, 0.2, numClass)\n",
        "multiCNN_random_3n.fit(training_padded, y_train, batch_size=50, epochs=5, validation_data=(val_padded, y_val))"
      ],
      "metadata": {
        "colab": {
          "base_uri": "https://localhost:8080/"
        },
        "id": "8wd4pnMTV7VJ",
        "outputId": "57d97840-d36f-41d8-8527-921bc9256965"
      },
      "execution_count": null,
      "outputs": [
        {
          "output_type": "stream",
          "name": "stdout",
          "text": [
            "Epoch 1/5\n",
            "324/324 [==============================] - 20s 21ms/step - loss: 1.2329 - categorical_accuracy: 0.4492 - val_loss: 1.0202 - val_categorical_accuracy: 0.5606\n",
            "Epoch 2/5\n",
            "324/324 [==============================] - 6s 20ms/step - loss: 0.8552 - categorical_accuracy: 0.6351 - val_loss: 1.0013 - val_categorical_accuracy: 0.5756\n",
            "Epoch 3/5\n",
            "324/324 [==============================] - 6s 19ms/step - loss: 0.5705 - categorical_accuracy: 0.7789 - val_loss: 1.0950 - val_categorical_accuracy: 0.5689\n",
            "Epoch 4/5\n",
            "324/324 [==============================] - 6s 20ms/step - loss: 0.2913 - categorical_accuracy: 0.9044 - val_loss: 1.3332 - val_categorical_accuracy: 0.5783\n",
            "Epoch 5/5\n",
            "324/324 [==============================] - 6s 20ms/step - loss: 0.1239 - categorical_accuracy: 0.9658 - val_loss: 1.6276 - val_categorical_accuracy: 0.5761\n"
          ]
        },
        {
          "output_type": "execute_result",
          "data": {
            "text/plain": [
              "<keras.callbacks.History at 0x7f2d58124f10>"
            ]
          },
          "metadata": {},
          "execution_count": 23
        }
      ]
    },
    {
      "cell_type": "code",
      "source": [
        "# Evaluate the model\n",
        "print(\"### Evaluation on Train Data ###\")\n",
        "loss, acc = multiCNN_random_3n.evaluate(training_padded, y_train, verbose=0)\n",
        "print(\"Loss in training data: \", loss, \"\\nAccuracy in training data: \", acc, sep = \"\")\n",
        "\n",
        "print(\"\\n### Evaluation on Validation Data ###\")\n",
        "loss, acc = multiCNN_random_3n.evaluate(val_padded, y_val, verbose=0)\n",
        "print(\"Loss in validation data: \", loss, \"\\nAccuracy in validation data: \", acc, sep = \"\")\n",
        "\n",
        "print(\"\\n### Evaluation on Test Data ###\")\n",
        "prediction_multiCNN_random_3n = np.argmax((multiCNN_random_3n.predict(test_padded)), axis=1)\n",
        "print(\"F1-score on test data is:\", f1_score(multiTestCNN['label'], prediction_multiCNN_random_3n, average='weighted'))\n",
        "print(\"Accuracy on test data is:\", accuracy_score(multiTestCNN['label'], prediction_multiCNN_random_3n))\n",
        "print(\"Confusion matrix for test data:\\n\", confusion_matrix(multiTestCNN['label'], prediction_multiCNN_random_3n))"
      ],
      "metadata": {
        "colab": {
          "base_uri": "https://localhost:8080/"
        },
        "id": "Q7XyrYsphq3i",
        "outputId": "bb593a40-b670-406d-f8d9-805aab20bfaa"
      },
      "execution_count": null,
      "outputs": [
        {
          "output_type": "stream",
          "name": "stdout",
          "text": [
            "### Evaluation on Train Data ###\n",
            "Loss in training data: 0.0455547459423542\n",
            "Accuracy in training data: 0.9932715892791748\n",
            "\n",
            "### Evaluation on Validation Data ###\n",
            "Loss in validation data: 1.6275790929794312\n",
            "Accuracy in validation data: 0.5761111378669739\n",
            "\n",
            "### Evaluation on Test Data ###\n",
            "F1-score on test data is: 0.5656065907203366\n",
            "Accuracy on test data is: 0.562\n",
            "Confusion matrix for test data:\n",
            " [[265  96  17   8   7]\n",
            " [ 78 191  84  19   8]\n",
            " [ 12  76 194 102  23]\n",
            " [  8  19  77 194  81]\n",
            " [  5   6  17 133 280]]\n"
          ]
        }
      ]
    },
    {
      "cell_type": "markdown",
      "source": [
        "###### **`Convolution`:** *filters* = 100, *kernel_size* = 2, 3, 4 (4-gram) **||** **`Dense`:** *units* = 256"
      ],
      "metadata": {
        "id": "KASKz04Md0yK"
      }
    },
    {
      "cell_type": "code",
      "source": [
        "from keras import layers\n",
        "from keras.models import Model\n",
        "\n",
        "def multiCNN_random_fourgram(emb_dim, nb_filters, FFN_units, dropout_rate, nb_classes):\n",
        "  inputs1 = layers.Input(shape=(max_len,)) # input layer\n",
        "  x = layers.Embedding(vocab_size, emb_dim)(inputs1) # embedding layer without weights for random embedding\n",
        "  x_1 = layers.Conv1D(filters=nb_filters, kernel_size=2, padding=\"valid\", activation=\"relu\")(x) # first convolution layer for 2-gram\n",
        "  x_1 = layers.GlobalMaxPool1D()(x_1) # pooling\n",
        "  x_2 = layers.Conv1D(filters=nb_filters, kernel_size=3, padding=\"valid\", activation=\"relu\")(x) # first convolution layer for 3-gram\n",
        "  x_2 = layers.GlobalMaxPool1D()(x_2) # pooling\n",
        "  x_3 = layers.Conv1D(filters=nb_filters, kernel_size=4, padding=\"valid\", activation=\"relu\")(x) # first convolution layer for 4-gram\n",
        "  x_3 = layers.GlobalMaxPool1D()(x_3) # pooling\n",
        "\n",
        "  merged = tf.concat([x_1, x_2, x_3], axis=-1) # merging the layers \n",
        "  merged = layers.Dense(units=FFN_units, activation=\"relu\")(merged) # fully connected layer\n",
        "  merged = layers.Dropout(rate=dropout_rate)(merged) # dropping cells\n",
        "  output = layers.Dense(units=nb_classes, activation=\"softmax\")(merged)  # output layer\n",
        "  model = Model(inputs=inputs1, outputs=output)\n",
        "  model.compile(loss='categorical_crossentropy', optimizer='adam', metrics=[\"categorical_accuracy\"])\n",
        "  return model"
      ],
      "metadata": {
        "id": "HHgeRZuqCPgZ"
      },
      "execution_count": null,
      "outputs": []
    },
    {
      "cell_type": "code",
      "source": [
        "multiCNN_random_4n = multiCNN_random_fourgram(200, 100, 256, 0.2, numClass)\n",
        "multiCNN_random_4n.fit(training_padded, y_train, batch_size=50, epochs=5, validation_data=(val_padded, y_val))"
      ],
      "metadata": {
        "colab": {
          "base_uri": "https://localhost:8080/"
        },
        "id": "aMDJUrUZI_EV",
        "outputId": "71be6199-32e6-4df3-aa2d-6697c7e89fea"
      },
      "execution_count": null,
      "outputs": [
        {
          "output_type": "stream",
          "name": "stdout",
          "text": [
            "Epoch 1/5\n",
            "324/324 [==============================] - 14s 39ms/step - loss: 1.2068 - categorical_accuracy: 0.4559 - val_loss: 1.0064 - val_categorical_accuracy: 0.5506\n",
            "Epoch 2/5\n",
            "324/324 [==============================] - 13s 39ms/step - loss: 0.8175 - categorical_accuracy: 0.6499 - val_loss: 0.9463 - val_categorical_accuracy: 0.6006\n",
            "Epoch 3/5\n",
            "324/324 [==============================] - 13s 39ms/step - loss: 0.4837 - categorical_accuracy: 0.8135 - val_loss: 1.1272 - val_categorical_accuracy: 0.5772\n",
            "Epoch 4/5\n",
            "324/324 [==============================] - 12s 38ms/step - loss: 0.2088 - categorical_accuracy: 0.9320 - val_loss: 1.4160 - val_categorical_accuracy: 0.5600\n",
            "Epoch 5/5\n",
            "324/324 [==============================] - 12s 37ms/step - loss: 0.0732 - categorical_accuracy: 0.9827 - val_loss: 1.6919 - val_categorical_accuracy: 0.5744\n"
          ]
        },
        {
          "output_type": "execute_result",
          "data": {
            "text/plain": [
              "<keras.callbacks.History at 0x7f2d44460690>"
            ]
          },
          "metadata": {},
          "execution_count": 27
        }
      ]
    },
    {
      "cell_type": "code",
      "source": [
        "# Evaluate the model\n",
        "print(\"### Evaluation on Train Data ###\")\n",
        "loss, acc = multiCNN_random_4n.evaluate(training_padded, y_train, verbose=0)\n",
        "print(\"Loss in training data: \", loss, \"\\nAccuracy in training data: \", acc, sep = \"\")\n",
        "\n",
        "print(\"\\n### Evaluation on Validation Data ###\")\n",
        "loss, acc = multiCNN_random_4n.evaluate(val_padded, y_val, verbose=0)\n",
        "print(\"Loss in validation data: \", loss, \"\\nAccuracy in validation data: \", acc, sep = \"\")\n",
        "\n",
        "print(\"\\n### Evaluation on Test Data ###\")\n",
        "prediction_multiCNN_random_4n = np.argmax((multiCNN_random_4n.predict(test_padded)), axis=1)\n",
        "print(\"F1-score on test data is:\", f1_score(multiTestCNN['label'], prediction_multiCNN_random_4n, average='weighted'))\n",
        "print(\"Accuracy on test data is:\", accuracy_score(multiTestCNN['label'], prediction_multiCNN_random_4n))\n",
        "print(\"Confusion matrix for test data:\\n\", confusion_matrix(multiTestCNN['label'], prediction_multiCNN_random_4n))"
      ],
      "metadata": {
        "colab": {
          "base_uri": "https://localhost:8080/"
        },
        "id": "ckt96GFXJbdM",
        "outputId": "ba31363e-2fcc-49b7-b842-aa727c4cfeaa"
      },
      "execution_count": null,
      "outputs": [
        {
          "output_type": "stream",
          "name": "stdout",
          "text": [
            "### Evaluation on Train Data ###\n",
            "Loss in training data: 0.01954917050898075\n",
            "Accuracy in training data: 0.9974074363708496\n",
            "\n",
            "### Evaluation on Validation Data ###\n",
            "Loss in validation data: 1.6919431686401367\n",
            "Accuracy in validation data: 0.5744444727897644\n",
            "\n",
            "### Evaluation on Test Data ###\n",
            "F1-score on test data is: 0.5836783388886019\n",
            "Accuracy on test data is: 0.579\n",
            "Confusion matrix for test data:\n",
            " [[267 104  14   4   4]\n",
            " [ 73 211  80  12   4]\n",
            " [ 15  84 201  87  20]\n",
            " [  6  19  86 206  62]\n",
            " [  4   6  19 139 273]]\n"
          ]
        }
      ]
    },
    {
      "cell_type": "markdown",
      "source": [
        "##### **CNN-Static**"
      ],
      "metadata": {
        "id": "Le97m2GVjXhp"
      }
    },
    {
      "cell_type": "markdown",
      "source": [
        "###### **`embedding:`** created from training set"
      ],
      "metadata": {
        "id": "TPk0ELtMlMYL"
      }
    },
    {
      "cell_type": "code",
      "source": [
        "def embeddingPreprocessMulti(text: str): # preprocessing with lowercasing and punctuation removal\n",
        "    lowerText = text.lower() #lowercasing the text\n",
        "    sentences = nltk.sent_tokenize(lowerText) # lowered text is sentence tokenized\n",
        "    result = []\n",
        "    for sentence in sentences: # iterating over sentences\n",
        "      temp = []\n",
        "      tokenized = nltk.word_tokenize(sentence) # word tokenizing\n",
        "      for token in tokenized:\n",
        "        if token.isalnum(): # removing punctuation\n",
        "          temp.append(token)\n",
        "      result.append(temp)\n",
        "    return result # returning the resulted list"
      ],
      "metadata": {
        "id": "p5nfxl_zjW66"
      },
      "execution_count": null,
      "outputs": []
    },
    {
      "cell_type": "code",
      "source": [
        "# Create your own word embeddings from scratch\n",
        "\n",
        "# You can check https://radimrehurek.com/gensim/models/word2vec.html for training a word embeddings from scratch\n",
        "embeddingTrainMulti = X_train.copy(deep = True)\n",
        "embeddingTrainMulti = embeddingTrainMulti.apply(embeddingPreprocessMulti) # sentence tokenizing in each review\n",
        "sentenceTokenizedMulti = [item for sublist in embeddingTrainMulti.to_list() for item in sublist]\n",
        "wordEmbeddingMulti = Word2Vec(sentences=sentenceTokenizedMulti, size=max_len, window=5, min_count=1, workers=4) # word embedding from training data"
      ],
      "metadata": {
        "id": "Ibg9QKFFj1Zm"
      },
      "execution_count": null,
      "outputs": []
    },
    {
      "cell_type": "code",
      "source": [
        "own_embedding_matrix_multi = np.zeros((len(word_index) + 1, max_len)) # word embedding matrix from the words in training data\n",
        "for word, i in word_index.items():\n",
        "    if word in wordEmbeddingMulti:\n",
        "        # words not found in embedding index will be all-zeros.\n",
        "        own_embedding_matrix_multi[i] = wordEmbeddingMulti[word]"
      ],
      "metadata": {
        "id": "jScrI5Q0kIHc"
      },
      "execution_count": null,
      "outputs": []
    },
    {
      "cell_type": "code",
      "source": [
        "from keras import layers\n",
        "from keras.models import Model\n",
        "# Architecture is the same as the CNN models above\n",
        "\n",
        "def multiCNN_static_ownEmbedding(emb_dim, nb_filters, FFN_units, dropout_rate, nb_classes, embeddingMatrix):\n",
        "  inputs1 = layers.Input(shape=(max_len,))\n",
        "  x = layers.Embedding(vocab_size, emb_dim, weights = [embeddingMatrix], trainable=False)(inputs1) #trainable is false for static model with embedding matrix from training data\n",
        "  x_1 = layers.Conv1D(filters=nb_filters, kernel_size=2, padding=\"valid\", activation=\"relu\")(x)\n",
        "  x_1 = layers.GlobalMaxPool1D()(x_1)\n",
        "  x_2 = layers.Conv1D(filters=nb_filters, kernel_size=3, padding=\"valid\", activation=\"relu\")(x)\n",
        "  x_2 = layers.GlobalMaxPool1D()(x_2)\n",
        "  x_3 = layers.Conv1D(filters=nb_filters, kernel_size=4, padding=\"valid\", activation=\"relu\")(x)\n",
        "  x_3 = layers.GlobalMaxPool1D()(x_3)\n",
        "\n",
        "  merged = tf.concat([x_1, x_2, x_3], axis=-1)\n",
        "  merged = layers.Dense(units=FFN_units, activation=\"relu\")(merged)\n",
        "  merged = layers.Dropout(rate=dropout_rate)(merged)\n",
        "  output = layers.Dense(units=nb_classes, activation=\"softmax\")(merged)  \n",
        "  model = Model(inputs=inputs1, outputs=output)\n",
        "  model.compile(loss='categorical_crossentropy', optimizer='adam', metrics=[\"categorical_accuracy\"])\n",
        "  return model  "
      ],
      "metadata": {
        "id": "OXHHrMLElGyU"
      },
      "execution_count": null,
      "outputs": []
    },
    {
      "cell_type": "code",
      "source": [
        "multiCNN_static_1 = multiCNN_static_ownEmbedding(max_len, 200, 256, 0.2, numClass, embeddingMatrix = own_embedding_matrix_multi)\n",
        "multiCNN_static_1.fit(training_padded, y_train, batch_size=50, epochs=10, validation_data=(val_padded, y_val))"
      ],
      "metadata": {
        "colab": {
          "base_uri": "https://localhost:8080/"
        },
        "id": "aM8QdyrymH4N",
        "outputId": "f26d74ee-f872-4303-bb7a-f996935f9140"
      },
      "execution_count": null,
      "outputs": [
        {
          "output_type": "stream",
          "name": "stdout",
          "text": [
            "Epoch 1/10\n",
            "324/324 [==============================] - 43s 129ms/step - loss: 1.3103 - categorical_accuracy: 0.4260 - val_loss: 1.1296 - val_categorical_accuracy: 0.5150\n",
            "Epoch 2/10\n",
            "324/324 [==============================] - 41s 127ms/step - loss: 1.1152 - categorical_accuracy: 0.5059 - val_loss: 1.0651 - val_categorical_accuracy: 0.5222\n",
            "Epoch 3/10\n",
            "324/324 [==============================] - 41s 127ms/step - loss: 1.0259 - categorical_accuracy: 0.5456 - val_loss: 1.0649 - val_categorical_accuracy: 0.5356\n",
            "Epoch 4/10\n",
            "324/324 [==============================] - 41s 127ms/step - loss: 0.9672 - categorical_accuracy: 0.5715 - val_loss: 1.0247 - val_categorical_accuracy: 0.5444\n",
            "Epoch 5/10\n",
            "324/324 [==============================] - 41s 127ms/step - loss: 0.9204 - categorical_accuracy: 0.5935 - val_loss: 1.1131 - val_categorical_accuracy: 0.5411\n",
            "Epoch 6/10\n",
            "324/324 [==============================] - 41s 127ms/step - loss: 0.8712 - categorical_accuracy: 0.6155 - val_loss: 1.1027 - val_categorical_accuracy: 0.5239\n",
            "Epoch 7/10\n",
            "324/324 [==============================] - 41s 127ms/step - loss: 0.8182 - categorical_accuracy: 0.6405 - val_loss: 1.0594 - val_categorical_accuracy: 0.5578\n",
            "Epoch 8/10\n",
            "324/324 [==============================] - 42s 129ms/step - loss: 0.7512 - categorical_accuracy: 0.6743 - val_loss: 1.1273 - val_categorical_accuracy: 0.5439\n",
            "Epoch 9/10\n",
            "324/324 [==============================] - 42s 129ms/step - loss: 0.7318 - categorical_accuracy: 0.6807 - val_loss: 1.1265 - val_categorical_accuracy: 0.5400\n",
            "Epoch 10/10\n",
            "324/324 [==============================] - 42s 129ms/step - loss: 0.6663 - categorical_accuracy: 0.7144 - val_loss: 1.1886 - val_categorical_accuracy: 0.5467\n"
          ]
        },
        {
          "output_type": "execute_result",
          "data": {
            "text/plain": [
              "<keras.callbacks.History at 0x7f07901135d0>"
            ]
          },
          "metadata": {},
          "execution_count": 30
        }
      ]
    },
    {
      "cell_type": "code",
      "source": [
        "# Evaluate the model\n",
        "print(\"### Evaluation on Train Data ###\")\n",
        "loss, acc = multiCNN_static_1.evaluate(training_padded, y_train, verbose=0)\n",
        "print(\"Loss in training data: \", loss, \"\\nAccuracy in training data: \", acc, sep = \"\")\n",
        "\n",
        "print(\"\\n### Evaluation on Validation Data ###\")\n",
        "loss, acc = multiCNN_static_1.evaluate(val_padded, y_val, verbose=0)\n",
        "print(\"Loss in validation data: \", loss, \"\\nAccuracy in validation data: \", acc, sep = \"\")\n",
        "\n",
        "print(\"\\n### Evaluation on Test Data ###\")\n",
        "prediction_multiCNN_static_1= np.argmax((multiCNN_static_1.predict(test_padded)), axis=1)\n",
        "print(\"F1-score on test data is:\", f1_score(multiTestCNN['label'], prediction_multiCNN_static_1, average='weighted'))\n",
        "print(\"Accuracy on test data is:\", accuracy_score(multiTestCNN['label'], prediction_multiCNN_static_1))\n",
        "print(\"Confusion matrix for test data:\\n\", confusion_matrix(multiTestCNN['label'], prediction_multiCNN_static_1))"
      ],
      "metadata": {
        "colab": {
          "base_uri": "https://localhost:8080/"
        },
        "id": "RL_J4z3rv8xB",
        "outputId": "1ba8ffa8-dbae-4f47-ec19-5cac7fa61452"
      },
      "execution_count": null,
      "outputs": [
        {
          "output_type": "stream",
          "name": "stdout",
          "text": [
            "### Evaluation on Train Data ###\n",
            "Loss in training data: 0.5116326808929443\n",
            "Accuracy in training data: 0.8108642101287842\n",
            "\n",
            "### Evaluation on Validation Data ###\n",
            "Loss in validation data: 1.1885710954666138\n",
            "Accuracy in validation data: 0.54666668176651\n",
            "\n",
            "### Evaluation on Test Data ###\n",
            "F1-score on test data is: 0.5397438438102682\n",
            "Accuracy on test data is: 0.5455\n",
            "Confusion matrix for test data:\n",
            " [[249  93  30   5  16]\n",
            " [ 58 199  91  14  18]\n",
            " [ 12  80 190  84  41]\n",
            " [  2  17  93 114 153]\n",
            " [  6   5  21  70 339]]\n"
          ]
        }
      ]
    },
    {
      "cell_type": "markdown",
      "source": [
        "###### **`embedding:`** imported from word2vec\n"
      ],
      "metadata": {
        "id": "VyNFD0ZbwTom"
      }
    },
    {
      "cell_type": "markdown",
      "source": [
        "***Imported pre-trained embedding model is taken from:***\n",
        "\n",
        "Pre-trained vectors based on 2B tweets, 27B tokens, 1.2M vocab, uncased (https://nlp.stanford.edu/projects/glove/)"
      ],
      "metadata": {
        "id": "hs25QDZhHBL6"
      }
    },
    {
      "cell_type": "code",
      "source": [
        "# Load a pretrained word embeddings\n",
        "# You can check https://radimrehurek.com/gensim/auto_examples/howtos/run_downloader_api.html and https://github.com/RaRe-Technologies/gensim-data for loading pretrained word embeddings. \n",
        "\n",
        "importedEmbeddings = api.load(\"glove-twitter-100\") "
      ],
      "metadata": {
        "colab": {
          "base_uri": "https://localhost:8080/"
        },
        "id": "JSJ4wlJFwJVN",
        "outputId": "7c1fa2cf-865a-465a-eea4-61ee23cb0b7f"
      },
      "execution_count": null,
      "outputs": [
        {
          "output_type": "stream",
          "name": "stdout",
          "text": [
            "[==================================================] 100.0% 387.1/387.1MB downloaded\n"
          ]
        }
      ]
    },
    {
      "cell_type": "code",
      "source": [
        "imported_embedding_matrix_multi = np.zeros((len(word_index) + 1, max_len))\n",
        "for word, i in word_index.items():\n",
        "    if word in importedEmbeddings:\n",
        "        # words not found in embedding index will be all-zeros.\n",
        "        imported_embedding_matrix_multi[i] = np.pad(importedEmbeddings[word], (0, max_len-len(importedEmbeddings[word])), 'constant')"
      ],
      "metadata": {
        "id": "4R7vWWrVwgx7"
      },
      "execution_count": null,
      "outputs": []
    },
    {
      "cell_type": "code",
      "source": [
        "from keras import layers\n",
        "from keras.models import Model\n",
        "# Architecture is the same as the CNN models above\n",
        "\n",
        "def multiCNN_static_importedEmbedding(emb_dim, nb_filters, FFN_units, dropout_rate, nb_classes, embeddingMatrix):\n",
        "  inputs1 = layers.Input(shape=(max_len,))\n",
        "  x = layers.Embedding(vocab_size, emb_dim, weights = [embeddingMatrix], trainable=False)(inputs1) # trainable is false for static model with the embedding matrix from imported model\n",
        "  x_1 = layers.Conv1D(filters=nb_filters, kernel_size=2, padding=\"valid\", activation=\"relu\")(x)\n",
        "  x_1 = layers.GlobalMaxPool1D()(x_1)\n",
        "  x_2 = layers.Conv1D(filters=nb_filters, kernel_size=3, padding=\"valid\", activation=\"relu\")(x)\n",
        "  x_2 = layers.GlobalMaxPool1D()(x_2)\n",
        "  x_3 = layers.Conv1D(filters=nb_filters, kernel_size=4, padding=\"valid\", activation=\"relu\")(x)\n",
        "  x_3 = layers.GlobalMaxPool1D()(x_3)\n",
        "\n",
        "  merged = tf.concat([x_1, x_2, x_3], axis=-1)\n",
        "  merged = layers.Dense(units=FFN_units, activation=\"relu\")(merged)\n",
        "  merged = layers.Dropout(rate=dropout_rate)(merged)\n",
        "  output = layers.Dense(units=nb_classes, activation=\"softmax\")(merged)  \n",
        "  model = Model(inputs=inputs1, outputs=output)\n",
        "  model.compile(loss='categorical_crossentropy', optimizer='adam', metrics=[\"categorical_accuracy\"])\n",
        "  return model  "
      ],
      "metadata": {
        "id": "cuuSjbMGxdYe"
      },
      "execution_count": null,
      "outputs": []
    },
    {
      "cell_type": "code",
      "source": [
        "multiCNN_static_2 = multiCNN_static_importedEmbedding(max_len, 200, 256, 0.2, numClass, embeddingMatrix = imported_embedding_matrix_multi)\n",
        "multiCNN_static_2.fit(training_padded, y_train, batch_size=50, epochs=10, validation_data=(val_padded, y_val))"
      ],
      "metadata": {
        "colab": {
          "base_uri": "https://localhost:8080/"
        },
        "id": "fUzhNSOxxdTD",
        "outputId": "a9d4925b-efd4-4831-cd32-ac907825454b"
      },
      "execution_count": null,
      "outputs": [
        {
          "output_type": "stream",
          "name": "stdout",
          "text": [
            "Epoch 1/10\n",
            "324/324 [==============================] - 43s 126ms/step - loss: 1.2340 - categorical_accuracy: 0.4478 - val_loss: 1.0203 - val_categorical_accuracy: 0.5556\n",
            "Epoch 2/10\n",
            "324/324 [==============================] - 40s 123ms/step - loss: 0.9667 - categorical_accuracy: 0.5755 - val_loss: 1.0207 - val_categorical_accuracy: 0.5494\n",
            "Epoch 3/10\n",
            "324/324 [==============================] - 40s 124ms/step - loss: 0.8335 - categorical_accuracy: 0.6405 - val_loss: 0.9718 - val_categorical_accuracy: 0.5700\n",
            "Epoch 4/10\n",
            "324/324 [==============================] - 39s 121ms/step - loss: 0.7083 - categorical_accuracy: 0.6977 - val_loss: 1.0849 - val_categorical_accuracy: 0.5611\n",
            "Epoch 5/10\n",
            "324/324 [==============================] - 39s 121ms/step - loss: 0.5662 - categorical_accuracy: 0.7701 - val_loss: 1.1310 - val_categorical_accuracy: 0.5539\n",
            "Epoch 6/10\n",
            "324/324 [==============================] - 39s 122ms/step - loss: 0.4018 - categorical_accuracy: 0.8493 - val_loss: 1.3979 - val_categorical_accuracy: 0.5150\n",
            "Epoch 7/10\n",
            "324/324 [==============================] - 39s 121ms/step - loss: 0.2803 - categorical_accuracy: 0.8981 - val_loss: 1.3816 - val_categorical_accuracy: 0.5633\n",
            "Epoch 8/10\n",
            "324/324 [==============================] - 40s 123ms/step - loss: 0.2152 - categorical_accuracy: 0.9236 - val_loss: 1.6102 - val_categorical_accuracy: 0.5472\n",
            "Epoch 9/10\n",
            "324/324 [==============================] - 39s 121ms/step - loss: 0.1401 - categorical_accuracy: 0.9535 - val_loss: 1.8500 - val_categorical_accuracy: 0.5561\n",
            "Epoch 10/10\n",
            "324/324 [==============================] - 39s 122ms/step - loss: 0.1059 - categorical_accuracy: 0.9672 - val_loss: 1.9648 - val_categorical_accuracy: 0.5561\n"
          ]
        },
        {
          "output_type": "execute_result",
          "data": {
            "text/plain": [
              "<keras.callbacks.History at 0x7f07929f8150>"
            ]
          },
          "metadata": {},
          "execution_count": 32
        }
      ]
    },
    {
      "cell_type": "code",
      "source": [
        "# Evaluate the model\n",
        "print(\"### Evaluation on Train Data ###\")\n",
        "loss, acc = multiCNN_static_2.evaluate(training_padded, y_train, verbose=0)\n",
        "print(\"Loss in training data: \", loss, \"\\nAccuracy in training data: \", acc, sep = \"\")\n",
        "\n",
        "print(\"\\n### Evaluation on Validation Data ###\")\n",
        "loss, acc = multiCNN_static_2.evaluate(val_padded, y_val, verbose=0)\n",
        "print(\"Loss in validation data: \", loss, \"\\nAccuracy in validation data: \", acc, sep = \"\")\n",
        "\n",
        "print(\"\\n### Evaluation on Test Data ###\")\n",
        "prediction_multiCNN_static_2= np.argmax((multiCNN_static_2.predict(test_padded)), axis=1)\n",
        "print(\"F1-score on test data is:\", f1_score(multiTestCNN['label'], prediction_multiCNN_static_2, average='weighted'))\n",
        "print(\"Accuracy on test data is:\", accuracy_score(multiTestCNN['label'], prediction_multiCNN_static_2))\n",
        "print(\"Confusion matrix for test data:\\n\", confusion_matrix(multiTestCNN['label'], prediction_multiCNN_static_2))"
      ],
      "metadata": {
        "colab": {
          "base_uri": "https://localhost:8080/"
        },
        "id": "CIBMp12R23_c",
        "outputId": "5f241496-365e-4422-b6a6-d2617f5cb825"
      },
      "execution_count": null,
      "outputs": [
        {
          "output_type": "stream",
          "name": "stdout",
          "text": [
            "### Evaluation on Train Data ###\n",
            "Loss in training data: 0.052375368773937225\n",
            "Accuracy in training data: 0.9870370626449585\n",
            "\n",
            "### Evaluation on Validation Data ###\n",
            "Loss in validation data: 1.9647988080978394\n",
            "Accuracy in validation data: 0.5561110973358154\n",
            "\n",
            "### Evaluation on Test Data ###\n",
            "F1-score on test data is: 0.5554080268613152\n",
            "Accuracy on test data is: 0.55\n",
            "Confusion matrix for test data:\n",
            " [[245 116  23   6   3]\n",
            " [ 56 230  74  14   6]\n",
            " [ 20  91 191  95  10]\n",
            " [  4  18  83 222  52]\n",
            " [  6   8  29 186 212]]\n"
          ]
        }
      ]
    },
    {
      "cell_type": "markdown",
      "source": [
        "##### **CNN-NonStatic**"
      ],
      "metadata": {
        "id": "6Uc6ljRW3OGT"
      }
    },
    {
      "cell_type": "markdown",
      "source": [
        "###### **`embedding:`** created from training set"
      ],
      "metadata": {
        "id": "cz5ZZmz07ViW"
      }
    },
    {
      "cell_type": "code",
      "source": [
        "from keras import layers\n",
        "from keras.models import Model\n",
        "# Architecture is the same as the CNN models above\n",
        "\n",
        "def multiCNN_NonStatic_ownEmbedding(emb_dim, nb_filters, FFN_units, dropout_rate, nb_classes, embeddingMatrix):\n",
        "  inputs1 = layers.Input(shape=(max_len,))\n",
        "  x = layers.Embedding(vocab_size, emb_dim, weights = [embeddingMatrix])(inputs1) # trainable model with the embedding matrix from training data\n",
        "  x_1 = layers.Conv1D(filters=nb_filters, kernel_size=2, padding=\"valid\", activation=\"relu\")(x)\n",
        "  x_1 = layers.GlobalMaxPool1D()(x_1)\n",
        "  x_2 = layers.Conv1D(filters=nb_filters, kernel_size=3, padding=\"valid\", activation=\"relu\")(x)\n",
        "  x_2 = layers.GlobalMaxPool1D()(x_2)\n",
        "  x_3 = layers.Conv1D(filters=nb_filters, kernel_size=4, padding=\"valid\", activation=\"relu\")(x)\n",
        "  x_3 = layers.GlobalMaxPool1D()(x_3)\n",
        "\n",
        "  merged = tf.concat([x_1, x_2, x_3], axis=-1)\n",
        "  merged = layers.Dense(units=FFN_units, activation=\"relu\")(merged)\n",
        "  merged = layers.Dropout(rate=dropout_rate)(merged)\n",
        "  output = layers.Dense(units=nb_classes, activation=\"softmax\")(merged)  \n",
        "  model = Model(inputs=inputs1, outputs=output)\n",
        "  model.compile(loss='categorical_crossentropy', optimizer='adam', metrics=[\"categorical_accuracy\"])\n",
        "  return model  "
      ],
      "metadata": {
        "id": "xzyoZwJc3Pr_"
      },
      "execution_count": null,
      "outputs": []
    },
    {
      "cell_type": "code",
      "source": [
        "multiCNN_Nonstatic_1 = multiCNN_NonStatic_ownEmbedding(max_len, 200, 256, 0.2, numClass, embeddingMatrix = own_embedding_matrix_multi)\n",
        "multiCNN_Nonstatic_1.fit(training_padded, y_train, batch_size=50, epochs=10, validation_data=(val_padded, y_val))"
      ],
      "metadata": {
        "colab": {
          "base_uri": "https://localhost:8080/"
        },
        "id": "HGZGX-2k3d85",
        "outputId": "1d23cdaa-0b7d-4597-9dfa-e44af63e125c"
      },
      "execution_count": null,
      "outputs": [
        {
          "output_type": "stream",
          "name": "stdout",
          "text": [
            "Epoch 1/10\n",
            "324/324 [==============================] - 66s 199ms/step - loss: 1.3180 - categorical_accuracy: 0.4341 - val_loss: 1.1235 - val_categorical_accuracy: 0.4994\n",
            "Epoch 2/10\n",
            "324/324 [==============================] - 65s 200ms/step - loss: 1.0379 - categorical_accuracy: 0.5404 - val_loss: 1.0175 - val_categorical_accuracy: 0.5594\n",
            "Epoch 3/10\n",
            "324/324 [==============================] - 64s 199ms/step - loss: 0.9085 - categorical_accuracy: 0.6030 - val_loss: 0.9860 - val_categorical_accuracy: 0.5722\n",
            "Epoch 4/10\n",
            "324/324 [==============================] - 64s 198ms/step - loss: 0.7687 - categorical_accuracy: 0.6661 - val_loss: 1.0475 - val_categorical_accuracy: 0.5578\n",
            "Epoch 5/10\n",
            "324/324 [==============================] - 64s 199ms/step - loss: 0.6227 - categorical_accuracy: 0.7386 - val_loss: 1.1041 - val_categorical_accuracy: 0.5644\n",
            "Epoch 6/10\n",
            "324/324 [==============================] - 64s 198ms/step - loss: 0.4823 - categorical_accuracy: 0.8052 - val_loss: 1.3315 - val_categorical_accuracy: 0.5550\n",
            "Epoch 7/10\n",
            "324/324 [==============================] - 64s 198ms/step - loss: 0.3325 - categorical_accuracy: 0.8719 - val_loss: 1.5050 - val_categorical_accuracy: 0.5744\n",
            "Epoch 8/10\n",
            "324/324 [==============================] - 64s 197ms/step - loss: 0.2370 - categorical_accuracy: 0.9110 - val_loss: 1.8828 - val_categorical_accuracy: 0.5400\n",
            "Epoch 9/10\n",
            "324/324 [==============================] - 64s 198ms/step - loss: 0.1764 - categorical_accuracy: 0.9341 - val_loss: 2.1410 - val_categorical_accuracy: 0.5594\n",
            "Epoch 10/10\n",
            "324/324 [==============================] - 64s 197ms/step - loss: 0.1197 - categorical_accuracy: 0.9580 - val_loss: 2.4229 - val_categorical_accuracy: 0.5500\n"
          ]
        },
        {
          "output_type": "execute_result",
          "data": {
            "text/plain": [
              "<keras.callbacks.History at 0x7f079254d810>"
            ]
          },
          "metadata": {},
          "execution_count": 36
        }
      ]
    },
    {
      "cell_type": "code",
      "source": [
        "# Evaluate the model\n",
        "print(\"### Evaluation on Train Data ###\")\n",
        "loss, acc = multiCNN_Nonstatic_1.evaluate(training_padded, y_train, verbose=0)\n",
        "print(\"Loss in training data: \", loss, \"\\nAccuracy in training data: \", acc, sep = \"\")\n",
        "\n",
        "print(\"\\n### Evaluation on Validation Data ###\")\n",
        "loss, acc = multiCNN_Nonstatic_1.evaluate(val_padded, y_val, verbose=0)\n",
        "print(\"Loss in validation data: \", loss, \"\\nAccuracy in validation data: \", acc, sep = \"\")\n",
        "\n",
        "print(\"\\n### Evaluation on Test Data ###\")\n",
        "prediction_multiCNN_Nonstatic_1= np.argmax((multiCNN_Nonstatic_1.predict(test_padded)), axis=1)\n",
        "print(\"F1-score on test data is:\", f1_score(multiTestCNN['label'], prediction_multiCNN_Nonstatic_1, average='weighted'))\n",
        "print(\"Accuracy on test data is:\", accuracy_score(multiTestCNN['label'], prediction_multiCNN_Nonstatic_1))\n",
        "print(\"Confusion matrix for test data:\\n\", confusion_matrix(multiTestCNN['label'], prediction_multiCNN_Nonstatic_1))"
      ],
      "metadata": {
        "colab": {
          "base_uri": "https://localhost:8080/"
        },
        "id": "W5KVK6g06nIF",
        "outputId": "52ba3085-a162-44c0-deed-6f21430aee35"
      },
      "execution_count": null,
      "outputs": [
        {
          "output_type": "stream",
          "name": "stdout",
          "text": [
            "### Evaluation on Train Data ###\n",
            "Loss in training data: 0.12111982703208923\n",
            "Accuracy in training data: 0.9545679092407227\n",
            "\n",
            "### Evaluation on Validation Data ###\n",
            "Loss in validation data: 2.42293643951416\n",
            "Accuracy in validation data: 0.550000011920929\n",
            "\n",
            "### Evaluation on Test Data ###\n",
            "F1-score on test data is: 0.5677605422301684\n",
            "Accuracy on test data is: 0.573\n",
            "Confusion matrix for test data:\n",
            " [[294  88   4   2   5]\n",
            " [ 99 225  43   9   4]\n",
            " [ 24 112 179  70  22]\n",
            " [  6  32  89 141 111]\n",
            " [ 12  13  27  82 307]]\n"
          ]
        }
      ]
    },
    {
      "cell_type": "markdown",
      "source": [
        "###### **`embedding:`** imported from word2vec\n"
      ],
      "metadata": {
        "id": "b8FZeZ4f7bLq"
      }
    },
    {
      "cell_type": "code",
      "source": [
        "from keras import layers\n",
        "from keras.models import Model\n",
        "# Architecture is the same as the CNN models above\n",
        "\n",
        "def multiCNN_NonStatic_importedEmbedding(emb_dim, nb_filters, FFN_units, dropout_rate, nb_classes, embeddingMatrix):\n",
        "  inputs1 = layers.Input(shape=(max_len,))\n",
        "  x = layers.Embedding(vocab_size, emb_dim, weights = [embeddingMatrix])(inputs1) # trainable model with the embedding matrix from imported model\n",
        "  x_1 = layers.Conv1D(filters=nb_filters, kernel_size=2, padding=\"valid\", activation=\"relu\")(x)\n",
        "  x_1 = layers.GlobalMaxPool1D()(x_1)\n",
        "  x_2 = layers.Conv1D(filters=nb_filters, kernel_size=3, padding=\"valid\", activation=\"relu\")(x)\n",
        "  x_2 = layers.GlobalMaxPool1D()(x_2)\n",
        "  x_3 = layers.Conv1D(filters=nb_filters, kernel_size=4, padding=\"valid\", activation=\"relu\")(x)\n",
        "  x_3 = layers.GlobalMaxPool1D()(x_3)\n",
        "\n",
        "  merged = tf.concat([x_1, x_2, x_3], axis=-1)\n",
        "  merged = layers.Dense(units=FFN_units, activation=\"relu\")(merged)\n",
        "  merged = layers.Dropout(rate=dropout_rate)(merged)\n",
        "  output = layers.Dense(units=nb_classes, activation=\"softmax\")(merged)  \n",
        "  model = Model(inputs=inputs1, outputs=output)\n",
        "  model.compile(loss='categorical_crossentropy', optimizer='adam', metrics=[\"categorical_accuracy\"])\n",
        "  return model  "
      ],
      "metadata": {
        "id": "u9Mwrzn07aqP"
      },
      "execution_count": null,
      "outputs": []
    },
    {
      "cell_type": "code",
      "source": [
        "multiCNN_Nonstatic_2 = multiCNN_NonStatic_importedEmbedding(max_len, 200, 256, 0.2, numClass, embeddingMatrix = imported_embedding_matrix_multi)\n",
        "multiCNN_Nonstatic_2.fit(training_padded, y_train, batch_size=50, epochs=5, validation_data=(val_padded, y_val))"
      ],
      "metadata": {
        "colab": {
          "base_uri": "https://localhost:8080/"
        },
        "id": "NSe1_f1P7LZr",
        "outputId": "fc764836-38a9-44e8-802b-a99e154045fd"
      },
      "execution_count": null,
      "outputs": [
        {
          "output_type": "stream",
          "name": "stdout",
          "text": [
            "Epoch 1/5\n",
            "324/324 [==============================] - 66s 200ms/step - loss: 1.1581 - categorical_accuracy: 0.4825 - val_loss: 0.9463 - val_categorical_accuracy: 0.5850\n",
            "Epoch 2/5\n",
            "324/324 [==============================] - 64s 198ms/step - loss: 0.7635 - categorical_accuracy: 0.6767 - val_loss: 0.9626 - val_categorical_accuracy: 0.5911\n",
            "Epoch 3/5\n",
            "324/324 [==============================] - 64s 198ms/step - loss: 0.4070 - categorical_accuracy: 0.8453 - val_loss: 1.3028 - val_categorical_accuracy: 0.5517\n",
            "Epoch 4/5\n",
            "324/324 [==============================] - 64s 198ms/step - loss: 0.1614 - categorical_accuracy: 0.9438 - val_loss: 1.6954 - val_categorical_accuracy: 0.5356\n",
            "Epoch 5/5\n",
            "324/324 [==============================] - 64s 198ms/step - loss: 0.0495 - categorical_accuracy: 0.9850 - val_loss: 1.9416 - val_categorical_accuracy: 0.5633\n"
          ]
        },
        {
          "output_type": "execute_result",
          "data": {
            "text/plain": [
              "<keras.callbacks.History at 0x7f07883a6050>"
            ]
          },
          "metadata": {},
          "execution_count": 41
        }
      ]
    },
    {
      "cell_type": "code",
      "source": [
        "# Evaluate the model\n",
        "print(\"### Evaluation on Train Data ###\")\n",
        "loss, acc = multiCNN_Nonstatic_2.evaluate(training_padded, y_train, verbose=0)\n",
        "print(\"Loss in training data: \", loss, \"\\nAccuracy in training data: \", acc, sep = \"\")\n",
        "\n",
        "print(\"\\n### Evaluation on Validation Data ###\")\n",
        "loss, acc = multiCNN_Nonstatic_2.evaluate(val_padded, y_val, verbose=0)\n",
        "print(\"Loss in validation data: \", loss, \"\\nAccuracy in validation data: \", acc, sep = \"\")\n",
        "\n",
        "print(\"\\n### Evaluation on Test Data ###\")\n",
        "prediction_multiCNN_Nonstatic_2= np.argmax((multiCNN_Nonstatic_2.predict(test_padded)), axis=1)\n",
        "print(\"F1-score on test data is:\", f1_score(multiTestCNN['label'], prediction_multiCNN_Nonstatic_2, average='weighted'))\n",
        "print(\"Accuracy on test data is:\", accuracy_score(multiTestCNN['label'], prediction_multiCNN_Nonstatic_2))\n",
        "print(\"Confusion matrix for test data:\\n\", confusion_matrix(multiTestCNN['label'], prediction_multiCNN_Nonstatic_2))"
      ],
      "metadata": {
        "colab": {
          "base_uri": "https://localhost:8080/"
        },
        "id": "bFvNiA9Y8JI_",
        "outputId": "f9e04880-a6f4-469d-a60b-e30768f2a660"
      },
      "execution_count": null,
      "outputs": [
        {
          "output_type": "stream",
          "name": "stdout",
          "text": [
            "### Evaluation on Train Data ###\n",
            "Loss in training data: 0.008593425154685974\n",
            "Accuracy in training data: 0.9990123510360718\n",
            "\n",
            "### Evaluation on Validation Data ###\n",
            "Loss in validation data: 1.9415881633758545\n",
            "Accuracy in validation data: 0.5633333325386047\n",
            "\n",
            "### Evaluation on Test Data ###\n",
            "F1-score on test data is: 0.5833473962644469\n",
            "Accuracy on test data is: 0.5795\n",
            "Confusion matrix for test data:\n",
            " [[262 103  14   6   8]\n",
            " [ 72 217  72  13   6]\n",
            " [ 19  74 211  87  16]\n",
            " [  3  22  75 199  80]\n",
            " [  6   9  18 138 270]]\n"
          ]
        }
      ]
    },
    {
      "cell_type": "markdown",
      "source": [
        "# ***My Report***\n",
        "------------\n",
        "## Data Creation and Exploration \n",
        "\n",
        "The train & test datasets of customer review texts and corresponding sentiment levels ranging from 1 to 5 were retrieved from the assignment. In order to feed the datasets into ML algorithms, different preprocessing algorithms were implemented. **preprocess1** function performs ***lowercasing***, ***stemming*** and ***punctuation removal***, **preprocess2** function performs ***lowercasing***, ***lemmatizing*** and ***stopword & punctuation removal***, where **preprocess3** function performs *lowercasing* and *stopword & punctuation removal*. After multiple evaluations with different preprocessings, **preprocess1** algorithms that does not remove stopwords outperformed other preproccesing algorithms on Non-Neural models, which were further used during the project. \n",
        "\n",
        "\n",
        "To evaluate data with exploratory data analysis, a copy of train and test data were further preprocessed by only removing stopwords & punctuations, where the word frequencies for the most positive sentiment level (5) and most negative sentiment level (1) for both of the data. First 12 most frequent words for train data can be seen below where more detailed information with plots can be seen from the corresponding cells in the .ipynb notebooks.\n",
        "\n",
        "\n",
        "\n",
        "> **Sentiment Level 1 (Most Negative) - Train data**\n",
        "  1. Food\n",
        "  2. Would\n",
        "  3. Place\n",
        "  4. Back\n",
        "  5. One\n",
        "  6. Service\n",
        "  7. Like\n",
        "  8. Time\n",
        "  9. Get\n",
        "  10. Us\n",
        "  11. Never\n",
        "  12. Even\n",
        "\n",
        "> **Sentiment Level 5 (Most Positive) - Train data**\n",
        "  1. Great\n",
        "  2. Place\n",
        "  3. Food\n",
        "  4. Good\n",
        "  5. Service\n",
        "  6. Time\n",
        "  7. Best\n",
        "  8. Back\n",
        "  9. One\n",
        "  10. Get\n",
        "  11. Like\n",
        "  12. Also\n",
        "\n",
        "After exploring the word frequencies, label distributions and text length distributions for test and train data of both binary and multiclass sets were plotted succeeding **preprocess1**. Both label and text length distributions for binary and multiclass data from train sets can be seen below where the test data can be seen from the corresponding cells in the .ipynb:\n",
        "\n",
        "<img src=\"https://i.hizliresim.com/gil7daw.png\" alt=\"drawing\" width=\"800\"/>\n",
        "\n",
        "\n",
        "\n",
        "\n",
        "\n",
        "--------------------------------------------------------------------------------\n",
        "\n",
        "\n",
        "## Models\n",
        "\n",
        "### Non-Neural Models\n",
        "\n",
        "#### Naive Bayes\n",
        "\n",
        "##### **Binary Classification**\n",
        "\n",
        "For Binary Classification with Naive Bayes, a pipeline was implemented that consists of TfidfVectorizer() which \"converts a collection of raw documents to a matrix of TF-IDF features.\", DenseTransformer() which \"converts the sparse matrix output of TfidfVectorizer to dense matrix for feeding into GaussianNB\" and GaussianNB() which is the Naive Bayes Classifier. In order to scan the hyperparameter space and find the best hyperparameter set that will maximize the scoring option (**F-1 Macro Scoring**) for binary classification **GridSearchCV** was performed. During **GridSearchCV**, **min_df=\\[100, 500, 1000\\]** (*cutoff for ignoring terms that have a document frequency strictly lower than the given threshold*) and **ngram_range=\\[(1,1), (1,2), (1,3)\\]** (*lower and upper boundary of the range of n-values for different n-grams to be extracted*) were searched with 5 folds. Best parameters of the **GridSearchCV** with **cv=5** can be seen below for the binary classfication:\n",
        "\n",
        "> **Best Parameters for Binary Classification with NB:**\n",
        "  * vector__min_df = 100\n",
        "  * vector__ngram_range = (1, 3)\n",
        "  * mean test score = 0.8794725736732625\n",
        "  * std test score = 0.006423957557241051\n",
        "\n",
        "Then, model was trained with the best parameters provided by the **GridSearchCV**. Prediction evaluation can be seen below:\n",
        "\n",
        "> **Report of the F1 and Accuracy Scores for Binary Classification with NB:**\n",
        "  * f1 score is: 0.8876497802816139\n",
        "  * accuracy score is: 0.8876333961079724\n",
        "\n",
        ">  **Confusion Matrix for Binary Classification with NB:**\n",
        "\n",
        ">    [ \\[ 702,  71 \\]\n",
        "\n",
        ">    \\[ 108, 712 \\] \\]\n",
        "\n",
        ">    **702** *True Positives*, **71** *False Positives*, **108** *False Negatives*, **712** *True Negatives*\n",
        "\n",
        "##### **Multi-Classification**\n",
        "\n",
        "Exact same model and pipeline with TfidfVectorizer(), DenseTransformer() and GaussianNB() were also used for the multiclassification. Same **GridSearchCV** with **cv=5** also runned to scan the same hyperparameter space coming from Binary Classification, where the results can be seen below for the Multi-classfication:\n",
        "\n",
        "> **Best Parameters for Multi-Classification with NB:**\n",
        "  * vector__min_df = 100\n",
        "  * vector__ngram_range = (1, 2)\n",
        "  * mean test score = 0.4875471123316695\n",
        "  * std test score = 0.0075880819416387505\n",
        "\n",
        "Then, model was trained with the best parameters provided by the **GridSearchCV**. Prediction evaluation can be seen below:\n",
        "\n",
        "> **Report of the F1 and Accuracy Scores for Multi-Classification with NB:**\n",
        "  * f1 score is: 0.5001142472132527\n",
        "  * accuracy score is: 0.511\n",
        "\n",
        ">  **Confusion Matrix for Multi-Classification with NB:**\n",
        "\n",
        ">  \\[ \\[ 275, 87, 19, 9, 3 \\]\n",
        "\n",
        ">  \\[ 116, 160, 75, 16, 13 \\]\n",
        "\n",
        ">  \\[ 43, 78, 156, 93, 37 \\]\n",
        "\n",
        ">  \\[ 16, 22, 76, 135, 130 \\]\n",
        "\n",
        ">  \\[ 19, 13, 25, 88, 296 \\] ]\n",
        "--------------------------------------------------------------------------------\n",
        "\n",
        "#### Logistic Regression\n",
        "##### **Binary Classification**\n",
        "\n",
        "For Binary Classification with Logistic Regression, different pipeline was implemented that consists of the same TfidfVectorizer() component, but different LogisticRegression component with parameters as **(solver = 'saga', random_state = 22, penalty='elasticnet')** where solver and penalty were specifically chosen to implement regularization distribution between L1 and L2 regularizations. In order to scan the hyperparameter space and find the best hyperparameter set that will maximize the scoring option (**F-1 Macro Scoring**), again **GridSearchCV** was performed. During **GridSearchCV**,another hyperparameter space which is **l1_ratio = [0.0, 0.5 ,1]** was also scanned for LogisticRegression() component in addition to NB's hyperparameter space to decide combination of L1 and L2 regularizations. Best parameters of the **GridSearchCV** with **cv=5** can be seen below for the binary classfication with Logistic Regression:\n",
        "\n",
        "> **Best Parameters for Binary Classification with LR:**\n",
        "  * lr__l1_ratio = 0.0\n",
        "  * vector__min_df = 100\n",
        "  * vector__ngram_range = (1, 3)\n",
        "  * mean test score = 0.9214156641626408\n",
        "  * std test score = 0.0027513660308108503\n",
        "\n",
        "Then, model was trained with the best parameters provided by the **GridSearchCV**. Prediction evaluation can be seen below:\n",
        "\n",
        "> **Report of the F1 and Accuracy Scores for Binary Classification with LR:**\n",
        "  * f1 score is: 0.9233895509632577\n",
        "  * accuracy score is: 0.9234149403640929\n",
        "\n",
        ">  **Confusion Matrix for Binary Classification with LR:**\n",
        "\n",
        ">    [ \\[ 721,  52 \\]\n",
        "\n",
        ">    \\[ 70, 750 \\] \\]\n",
        "\n",
        ">    **721** *True Positives*, **52** *False Positives*, **70** *False Negatives*, **750** *True Negatives*\n",
        "\n",
        "##### **Multi-Classification**\n",
        "\n",
        "Exact same model and pipeline with TfidfVectorizer(), and LogisticRegression() consists of same parameters were also used for the multiclassification. Same **GridSearchCV** with **cv=5** was also runned to scan the same hyperparameter space coming from Binary Classification, where the results can be seen below for the Multi-classfication:\n",
        "\n",
        "> **Best Parameters for Multi-Classification with LR:**\n",
        "  * lr__l1_ratio = 0.5\n",
        "  * vector__min_df = 100\n",
        "  * vector__ngram_range = (1, 3)\n",
        "  * mean test score = 0.5592242436305215\n",
        "  * std test score = 0.00823021565383632 \n",
        "\n",
        "Then, model was trained with the best parameters provided by the **GridSearchCV**. Prediction evaluation can be seen below:\n",
        "\n",
        "> **Report of the F1 and Accuracy Scores for Multi-Classification with LR:**\n",
        "  * f1 score is: 0.5586274047445283\n",
        "  * accuracy score is: 0.5635\n",
        "\n",
        ">  **Confusion Matrix for Multi-Classification with LR:**\n",
        "\n",
        ">  \\[ \\[ 291, 72, 15, 7, 8 \\]\n",
        "\n",
        ">  \\[ 90, 188, 73, 13, 16 \\]\n",
        "\n",
        ">  \\[ 21, 76, 198, 90, 22 \\]\n",
        "\n",
        ">  \\[ 13, 26, 75, 160, 105 \\]\n",
        "\n",
        ">  \\[ 11, 9, 13, 118, 290 \\] ]\n",
        "--------------------\n",
        "\n",
        "#### ***Comparison and Evaluation:***\n",
        "\n",
        "In both of the models, binary prediction accuracy and F1-Macro scores were both greater than the multi-class predictions as expected since binary classification is an easier task with 50% random baseline (either 1 or 0) where 5-class prediction has a random 20% baseline with 5 different labels. \n",
        "\n",
        "\n",
        "In comparison to Naive Bayes Classifier (NB), Logistic Regression Classifier (LR) were able to outperform NB for both of the binary classification and multi classification tasks. As it was discussed in the lecture, NB classifier is a Joint (generative) model with 2 big assumptions that follows as ***Bag of Words Assumption*** where it is assumed that word position doesn’t matter and ***Conditional Independence Assumption*** where it is assumed that feature probabilities are independent from the given the class C. Due to this assumptions, which do not necessarily hold for sentimental analysis as an NLP challenge where word positions has a crucial importance on syntatic/semantic relationships in sentences, a Conditional (discriminative) model Logistic Regression were able to outperform and gave a higher accuracy and F1-Macro Score performance. However, it is also important to notice that NB models were way faster to train and evaluate and were still able to provide good enoguh predictions for both binary and multi classification tasks. In order to further increase the accuracy and F1-Macro scores for binary and multi classification predictions of NB and LR models, heavier and denser GridCVSearch's can be conducted to optimize more hyperparameters and models can be trained with even more data.\n",
        "\n",
        "--------------------\n",
        "--------------------\n",
        "\n",
        "### **Neural Models: Convolutional Neural Network (CNN)**\n",
        "\n",
        "##### **Recreation of Data**\n",
        "\n",
        "Before creating CNN architectures, in order to create word embeddings, train and test data for both binary and multi classification tasks were re-applied without stemming process that may lead to meaningless words. Then, validation dataset were generated as the 10% of the training data, both for binary and multi classification tasks. Later on, 2 different word embeddings were created by training from scratch on training data with gensim and by importing a pretrained word embedding glove-twitter-100 (based on 2B tweets, 27B tokens, 1.2M vocab) from gensim.api\n",
        "\n",
        "#### ***Binary Classification***\n",
        "\n",
        "For the binary classification, 9 different models with different architectures were build in 4 different categories. Categories, their architecure explanation, and different models within each category will be provided below within an accuracy score sorted fashion (other common parameters, epoch runs, batch values and more detailed architectures can be seen from the corresponding cells of .ipynb notebook):\n",
        "\n",
        "\n",
        "*   **CNN-Random**: Words are randomly initialized then modified. To implement this, embedding layer were fed with no weights where it learned and optimized the randomly initialized word embedding weights during the training process.\n",
        "\n",
        "    1. **`Convolution`:** *filters* = 100, *kernel_size* = 3 **||** **`Dense`:** *units* = 30\n",
        "\n",
        "      * Accuracy on test data is: 0.9133709981167608\n",
        "      * F1-score on test data is: 0.9133601303607689\n",
        "    \n",
        "    2. **`Convolution`:** *filters* = 50, *kernel_size* = 2 **||** **`Dense`:** *units* = 7\n",
        "\n",
        "      * Accuracy on test data is: 0.903954802259887\n",
        "      * F1-score on test data is: 0.9039357032141686\n",
        "\n",
        "    3. **`Convolution`:** *filters* = 300, *kernel_size* = 1 **||** **`Dense`:** *units* = 10\n",
        "\n",
        "      * Accuracy on test data is: 0.8901443816698054\n",
        "      * F1-score on test data is: 0.8901674192334721\n",
        "      \n",
        "  `From the results above, it can be seen that 1st ranked model outperformed greatly in comparison to other.  In the following CNN categories and architectures, 1st ranked model's parameters (convolution layer's filter and kernel size; and dense layer's hidden layer unit size) were used as a default. From here, we can also infer that the more complex and deep architectures may hurt the performance, where shallower (but not too simple) models can outperform in sentiment analysis tasks. In order to further increase accuracy & F1-Scores and prevent overfitting, hyperparameter optimization is needed.`\n",
        "\n",
        "*   **CNN-Static**: These models use pre-trained vectors from word2vec, where all word embeddings are kept static. To implement this, embedding layer were fed with weights as embedding matrices with known words where the layer were closed to training during the training process.\n",
        "\n",
        "    1. **`embedding:`** imported from word2vec\n",
        "\n",
        "      * Accuracy on test data is: 0.9026993094789705\n",
        "      * F1-score on test data is: 0.902704374599175\n",
        "    \n",
        "    2. **`embedding:`** created from training set\n",
        "\n",
        "      * Accuracy on test data is: 0.903954802259887\n",
        "      * F1-score on test data is: 0.9039357032141686\n",
        "\n",
        "  `From the results above, it can be seen that when the embedding layer is kept static, accuracy and F1-Score were decreased in comparison to CNN-Rand. Also, the model with imported pretrained word embeddings outperformed the model that utilizes the word embeddings created from the own training set. This can be expected due to the size of the datasets that the embedding weights were trained, where imported model has almost 100,000 magnitudes more sentences in comparison to our training set. Similarly, in order to further increase accuracy & F1-Scores and prevent overfitting, hyperparameter optimization is necessary.`\n",
        "\n",
        "*   **CNN-NonStatic**: These models again also use pre-trained vectors from word2vec, where all word embeddings are fine-tuned for each task during the learning process. To implement this, embedding layer were fed with weights as embedding matrices with known words where the layer were also trained during the training process.\n",
        "\n",
        "    1. **`embedding:`** created from training set\n",
        "\n",
        "      * Accuracy on test data is: 0.9190207156308852\n",
        "      * F1-score on test data is: 0.919004612513907\n",
        "\n",
        "    2. **`embedding:`** imported from word2vec\n",
        "\n",
        "      * Accuracy on test data is: 0.9177652228499686\n",
        "      * F1-score on test data is: 0.9177129484275085\n",
        "    \n",
        "  `From the results above, it can be seen that when the embedding layer's word embedding weights are optimized, accuracy and F1-Score were increased significantly in comparison to CNN-Static. Furthermore, it also outperformed the CNN-Rand where the embeddings were initialized randomly. Notice that, this time the model with the word embeddings created from the own training set outperformed the model that utilizes imported pretrained word embeddings. This can also be expected due to the fact that the training set and test set comes from the same and way closer domains (both datasets are reviews from YELP) in comparison to Twitter tweet data. Eventhough the data size difference is really great, when the optimization of embedding weights are possible in CNN-Nonstatic, the model with the word embeddings created from the own training set can outperform the one with imported pre-trained embeddings, which may be the case here. Similarly again to other models, in order to further increase accuracy & F1-Scores and prevent overfitting, hyperparameter optimization is a must do.`\n",
        "\n",
        "\n",
        "*   **CNN-MultiChannel**: These models use 2 pre-trained vectors from word2vec, where each set of vectors is treated as a ‘channel’ and each filter is\n",
        "applied to both channels. Additionally, both channels are initialized with word2vec where one of them kept static while the other is fine-tuned. To implement this, 2 embedding layers were created and fed with weights as embedding matrices with known words where the one the layer were closed to training and other were trained during the training process.\n",
        "\n",
        "    1. **`embedding:`** imported from word2vec\n",
        "\n",
        "      * Accuracy on test data is: 0.9221594475831764\n",
        "      * F1-score on test data is: 0.922170803192334\n",
        "\n",
        "    2. **`embedding:`** created from training set\n",
        "\n",
        "      * Accuracy on test data is: 0.9202762084118016\n",
        "      * F1-score on test data is: 0.9202516688084085\n",
        "\n",
        "  `From the results above, it can be seen that with CNN-MultiChannel approach accuracy and F1-Score were increased significantly in comparison to all CNN binary prediction models previosly evaluated. This can be expected since the model is way more sophisticated and make use of both advantages of fine tuning and the previously trained / learned syntatic & semantic relationships coming from different neural network model. Notice that, this time again the model with the imported pre-trained outperformed the model that utilizes word embeddings created from the own training set. This can be again due to the fact the imported model were trained in a much larger dataset that can catch more syntatic and semantic relationships amongst words, where with additional layer that can be optimized, this model may outperformed the other model with the more domain specific trained embeddings but created with the small training set. Similarly again to other models, in order to further increase accuracy & F1-Scores and prevent overfitting, hyperparameter optimization must be performed.`\n",
        "\n",
        "--------------\n",
        "\n",
        "#### ***Multi-Classification***\n",
        "\n",
        "For the multiclassification, 6 different models with different architectures were build in 3 different categories. Categories, their architecure explanation, and different models within each category will be provided below within an accuracy score sorted fashion (other common parameters, epoch runs, batch values and more detailed architectures can be seen from the corresponding cells of .ipynb notebook):\n",
        "\n",
        "\n",
        "*   **CNN-Random**: Words are randomly initialized then modified. To implement this, embedding layer were fed with no weights where it learned and optimized the randomly initialized word embedding weights during the training process.\n",
        "\n",
        "    1. **`Convolution`:** *filters* = 100, *kernel_size* = 2, 3, 4 (up to 4-gram) **||** **`Dense`:** *units* = 256\n",
        "\n",
        "      * Accuracy on test data is: 0.579\n",
        "      * F1-score on test data is: 0.5836783388886019\n",
        "    \n",
        "    2. **`Convolution`:** *filters* = 50, *kernel_size* = 2, 3 (3-gram) **||** **`Dense`:** *units* = 128\n",
        "\n",
        "      * Accuracy on test data is: 0.562\n",
        "      * F1-score on test data is: 0.5656065907203366\n",
        "\n",
        "  `From the results above, it can be seen that 1st ranked model significantly outperformed the 2nd ranked model. In the following CNN categories and architectures, 1st ranked model's parameters (convolution layer's filter and kernel size; and dense layer's hidden layer unit size) were used as a default. Notice that the more complex model performed better in multiclassification in contrast to binary. It may be expected due to the fact that sentimental multiclassification to 1-5 labels is a much more harder task in comparison to binary classification, where in order to extract more useful features, complexity of the model may need to be incresed which may be the case here. To further increase accuracy & F1-Scores and prevent overfitting, hyperparameter optimization is again needed.`\n",
        "\n",
        "\n",
        "*   **CNN-Static**: These models use pre-trained vectors from word2vec, where all word embeddings are kept static. To implement this, embedding layer were fed with weights as embedding matrices with known words where the layer were closed to training during the training process.\n",
        "\n",
        "    1. **`embedding:`** imported from word2vec\n",
        "\n",
        "      * Accuracy on test data is: 0.55\n",
        "      * F1-score on test data is: 0.5554080268613152\n",
        "    \n",
        "    2. **`embedding:`** created from training set\n",
        "\n",
        "      * Accuracy on test data is: 0.5455\n",
        "      * F1-score on test data is: 0.5397438438102682\n",
        "\n",
        "  `From the results above, it can be seen that when the embedding layer is kept static, accuracy and F1-Score were decreased in comparison to CNN-Rand. Exactly same with the case in binary classification, the model with imported pretrained word embeddings outperformed the model that utilizes the word embeddings created from the own training set. Again, this can be expected due to the size differences of the datasets that the embedding weights were learned. To further increase accuracy & F1-Scores and prevent overfitting, hyperparameter optimization can be done.`\n",
        "\n",
        "*   **CNN-NonStatic**: These models again use pre-trained vectors from word2vec, where all word embeddings are fine-tuned for each task during the learning process. To implement this, embedding layer were fed with weights as embedding matrices with known words where the layer were also trained during the training process.\n",
        "\n",
        "    1. **`embedding:`** imported from word2vec\n",
        "\n",
        "      * Accuracy on test data is: 0.5795\n",
        "      * F1-score on test data is: 0.5833473962644469\n",
        "\n",
        "    2. **`embedding:`** created from training set\n",
        "\n",
        "      * Accuracy on test data is: 0.573\n",
        "      * F1-score on test data is: 0.5677605422301684\n",
        "    \n",
        "  `From the results above, it can be seen that when the embedding layer's word embedding weights are fine tuned during the training process, accuracy and F1-Score were increased significantly in comparison to CNN-Static. However, it was not able to outperform the CNN-Rand where the embeddings were initialized randomly. One possible reason for that can be the sthocastic nature of the CNN-Rand, where with relatively lucky embedding weight initialization, the accuracy and F1-Score can increase greatly and may outperform the models that has sophistically pre-trained embedding matrices. Also notice that, the model with imported pretrained word embeddings outperformed the model that utilizes the word embeddings created from the own training set, just like in the CNN-Static. Since sentiment multiclassification is a harder and more general task, syntatic & semantic relationships between the words that are represented as vectors may hold a greater importance than creating embedding sets from similar domains. Therefore, larger datasets that contains greater corpus and number of sentences can be more useful for this case. Also similarly to increase accuracy & F1-Scores and prevent overfitting, hyperparameter optimization is needed.`\n",
        "\n",
        "*   **CNN-MultiChannel** were not implemented for the multiclassification task due to the computational time and resource it required. It may further increase the accuracy and F1-Score with cross-validation and hyperparameter optimization.\n",
        "\n",
        "-------\n",
        "-------\n",
        "\n",
        "***Final Words:***\n",
        "\n",
        "In general, CNN models were able to outperform non-neural Models both on binary and multiclassification tasks for sentiment labeling on YELP reviews. This is highly expected since CNN is a highly sophisticated ML model, where even LR is a single-layer meural model. Since CNN does feature engineering, extracts and fine-tune the useful features and then further improve the model with backpropagation, it were able to predict with significantly higher accuracies and F1-scores. However, this comes with the cost of time, where CNN required much more computational time and resource (even GPU utilization) during the training process. In order to get even better predictions with higher accuracy and F1-Scores, overfitting to the traning and validation data must be prevented which were almost constantly observed during the project. Even though I was able to find and implement some early epoch stopping functions to prevent overfitting, more sophisticated hyperparameter optimizations i parameter space search with cross validations and more data retrieval can be really useful, which were outside of the scope of this project. \n",
        "\n",
        "***I would also like to thank the TA's and Asst. Prof. Reyyan Yeniterzi for their help and guidance during the project and lectures.***\n",
        "\n",
        "    \n",
        "\n"
      ],
      "metadata": {
        "id": "oCT-Zt3ZMocG"
      }
    }
  ]
}